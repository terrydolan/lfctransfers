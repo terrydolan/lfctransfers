{
 "cells": [
  {
   "cell_type": "markdown",
   "metadata": {},
   "source": [
    "# LFC Data Analysis: The Transfers"
   ]
  },
  {
   "cell_type": "markdown",
   "metadata": {
    "collapsed": true
   },
   "source": [
    "See Terry's blog [Inspiring Transfers](http://terrydolan.blogspot.co.uk/2015/09/inspiring-transfers.html) for a discussion of the data analysis."
   ]
  },
  {
   "cell_type": "markdown",
   "metadata": {},
   "source": [
    "This notebook analyses Liverpool FC's transfers over the last 5 seasons, from 2011-2012 to 2014-15. It also compares Liverpool's average net transfer spend, revenue and wage bill to the other teams in the top 6.\n",
    "\n",
    "The analysis uses [IPython Notebook](http://ipython.org/notebook.html), [python](https://www.python.org/), [pandas](http://pandas.pydata.org/) and [matplotlib](http://matplotlib.org/) to explore the data. "
   ]
  },
  {
   "cell_type": "markdown",
   "metadata": {},
   "source": [
    "## Set-up"
   ]
  },
  {
   "cell_type": "markdown",
   "metadata": {},
   "source": [
    "Import the modules needed for the analysis."
   ]
  },
  {
   "cell_type": "code",
   "execution_count": 1,
   "metadata": {
    "collapsed": true
   },
   "outputs": [],
   "source": [
    "import pandas as pd\n",
    "import matplotlib as mpl\n",
    "import matplotlib.pyplot as plt\n",
    "import numpy as np\n",
    "import sys\n",
    "import collections\n",
    "from datetime import datetime\n",
    "from __future__ import division\n",
    "\n",
    "# enable inline plotting\n",
    "%matplotlib inline"
   ]
  },
  {
   "cell_type": "markdown",
   "metadata": {},
   "source": [
    "Print version numbers."
   ]
  },
  {
   "cell_type": "code",
   "execution_count": 2,
   "metadata": {
    "collapsed": false
   },
   "outputs": [
    {
     "name": "stdout",
     "output_type": "stream",
     "text": [
      "python version: 2.7.8 |Anaconda 2.3.0 (64-bit)| (default, Jul  2 2014, 15:12:11) [MSC v.1500 64 bit (AMD64)]\n",
      "pandas version: 0.16.2\n",
      "matplotlib version: 1.4.3\n",
      "numpy version: 1.9.2\n"
     ]
    }
   ],
   "source": [
    "print 'python version: {}'.format(sys.version)\n",
    "print 'pandas version: {}'.format(pd.__version__)\n",
    "print 'matplotlib version: {}'.format(mpl.__version__)\n",
    "print 'numpy version: {}'.format(np.__version__)"
   ]
  },
  {
   "cell_type": "markdown",
   "metadata": {},
   "source": [
    "## Load the data into a dataframes and munge"
   ]
  },
  {
   "cell_type": "markdown",
   "metadata": {},
   "source": [
    "#### Create dataframe of LFC transfers\n",
    "Data source: lfchistory.net\n",
    "\n",
    "Note that all transfers are shown for FSG's ownership, from Oct 2010 to September 2015. "
   ]
  },
  {
   "cell_type": "code",
   "execution_count": 3,
   "metadata": {
    "collapsed": false
   },
   "outputs": [
    {
     "data": {
      "text/plain": [
       "(90, 6)"
      ]
     },
     "execution_count": 3,
     "metadata": {},
     "output_type": "execute_result"
    }
   ],
   "source": [
    "LFC_TRANSFERS_CSV_FILE = 'data\\lfc_transfers_2010-2011_2015-2016.csv'\n",
    "dflfc_transfers = pd.read_csv(LFC_TRANSFERS_CSV_FILE, parse_dates=['Date'])\n",
    "\n",
    "# convert Fee to millions of pounds\n",
    "dflfc_transfers.Fee = dflfc_transfers.Fee/1000000\n",
    "\n",
    "# show shape\n",
    "dflfc_transfers.shape"
   ]
  },
  {
   "cell_type": "code",
   "execution_count": 4,
   "metadata": {
    "collapsed": false
   },
   "outputs": [
    {
     "data": {
      "text/html": [
       "<div>\n",
       "<table border=\"1\" class=\"dataframe\">\n",
       "  <thead>\n",
       "    <tr style=\"text-align: right;\">\n",
       "      <th></th>\n",
       "      <th>Season</th>\n",
       "      <th>Direction</th>\n",
       "      <th>Player</th>\n",
       "      <th>Club</th>\n",
       "      <th>Fee</th>\n",
       "      <th>Date</th>\n",
       "    </tr>\n",
       "  </thead>\n",
       "  <tbody>\n",
       "    <tr>\n",
       "      <th>0</th>\n",
       "      <td>2010-2011</td>\n",
       "      <td>In</td>\n",
       "      <td>Luis Suarez</td>\n",
       "      <td>Ajax</td>\n",
       "      <td>22.8</td>\n",
       "      <td>2011-01-31</td>\n",
       "    </tr>\n",
       "    <tr>\n",
       "      <th>1</th>\n",
       "      <td>2010-2011</td>\n",
       "      <td>In</td>\n",
       "      <td>Andy Carroll</td>\n",
       "      <td>Newcastle United</td>\n",
       "      <td>35.0</td>\n",
       "      <td>2011-01-31</td>\n",
       "    </tr>\n",
       "    <tr>\n",
       "      <th>2</th>\n",
       "      <td>2010-2011</td>\n",
       "      <td>Out</td>\n",
       "      <td>Charles Itandje</td>\n",
       "      <td>Atromitos</td>\n",
       "      <td>0.0</td>\n",
       "      <td>2011-01-01</td>\n",
       "    </tr>\n",
       "    <tr>\n",
       "      <th>3</th>\n",
       "      <td>2010-2011</td>\n",
       "      <td>Out</td>\n",
       "      <td>Ryan Babel</td>\n",
       "      <td>Hoffenheim</td>\n",
       "      <td>5.8</td>\n",
       "      <td>2011-01-25</td>\n",
       "    </tr>\n",
       "    <tr>\n",
       "      <th>4</th>\n",
       "      <td>2010-2011</td>\n",
       "      <td>Out</td>\n",
       "      <td>Fernando Torres</td>\n",
       "      <td>Chelsea</td>\n",
       "      <td>50.0</td>\n",
       "      <td>2011-01-31</td>\n",
       "    </tr>\n",
       "  </tbody>\n",
       "</table>\n",
       "</div>"
      ],
      "text/plain": [
       "      Season Direction           Player              Club   Fee       Date\n",
       "0  2010-2011        In      Luis Suarez              Ajax  22.8 2011-01-31\n",
       "1  2010-2011        In     Andy Carroll  Newcastle United  35.0 2011-01-31\n",
       "2  2010-2011       Out  Charles Itandje         Atromitos   0.0 2011-01-01\n",
       "3  2010-2011       Out       Ryan Babel        Hoffenheim   5.8 2011-01-25\n",
       "4  2010-2011       Out  Fernando Torres           Chelsea  50.0 2011-01-31"
      ]
     },
     "execution_count": 4,
     "metadata": {},
     "output_type": "execute_result"
    }
   ],
   "source": [
    "dflfc_transfers.head()"
   ]
  },
  {
   "cell_type": "code",
   "execution_count": 5,
   "metadata": {
    "collapsed": false
   },
   "outputs": [
    {
     "data": {
      "text/html": [
       "<div>\n",
       "<table border=\"1\" class=\"dataframe\">\n",
       "  <thead>\n",
       "    <tr style=\"text-align: right;\">\n",
       "      <th></th>\n",
       "      <th>Season</th>\n",
       "      <th>Direction</th>\n",
       "      <th>Player</th>\n",
       "      <th>Club</th>\n",
       "      <th>Fee</th>\n",
       "      <th>Date</th>\n",
       "    </tr>\n",
       "  </thead>\n",
       "  <tbody>\n",
       "    <tr>\n",
       "      <th>85</th>\n",
       "      <td>2015-2016</td>\n",
       "      <td>Out</td>\n",
       "      <td>Sebastian Coates</td>\n",
       "      <td>Sunderland</td>\n",
       "      <td>4.0</td>\n",
       "      <td>2015-07-01</td>\n",
       "    </tr>\n",
       "    <tr>\n",
       "      <th>86</th>\n",
       "      <td>2015-2016</td>\n",
       "      <td>Out</td>\n",
       "      <td>Iago Aspas</td>\n",
       "      <td>Sevilla</td>\n",
       "      <td>4.4</td>\n",
       "      <td>2015-06-12</td>\n",
       "    </tr>\n",
       "    <tr>\n",
       "      <th>87</th>\n",
       "      <td>2015-2016</td>\n",
       "      <td>Out</td>\n",
       "      <td>Raheem Sterling</td>\n",
       "      <td>Manchester City</td>\n",
       "      <td>49.0</td>\n",
       "      <td>2015-07-14</td>\n",
       "    </tr>\n",
       "    <tr>\n",
       "      <th>88</th>\n",
       "      <td>2015-2016</td>\n",
       "      <td>Out</td>\n",
       "      <td>Rickie Lambert</td>\n",
       "      <td>West Bromwich Albion</td>\n",
       "      <td>3.0</td>\n",
       "      <td>2015-07-31</td>\n",
       "    </tr>\n",
       "    <tr>\n",
       "      <th>89</th>\n",
       "      <td>2015-2016</td>\n",
       "      <td>Out</td>\n",
       "      <td>Fabio Borini</td>\n",
       "      <td>Sunderland</td>\n",
       "      <td>10.0</td>\n",
       "      <td>2015-08-31</td>\n",
       "    </tr>\n",
       "  </tbody>\n",
       "</table>\n",
       "</div>"
      ],
      "text/plain": [
       "       Season Direction            Player                  Club   Fee  \\\n",
       "85  2015-2016       Out  Sebastian Coates            Sunderland   4.0   \n",
       "86  2015-2016       Out        Iago Aspas               Sevilla   4.4   \n",
       "87  2015-2016       Out   Raheem Sterling       Manchester City  49.0   \n",
       "88  2015-2016       Out    Rickie Lambert  West Bromwich Albion   3.0   \n",
       "89  2015-2016       Out      Fabio Borini            Sunderland  10.0   \n",
       "\n",
       "         Date  \n",
       "85 2015-07-01  \n",
       "86 2015-06-12  \n",
       "87 2015-07-14  \n",
       "88 2015-07-31  \n",
       "89 2015-08-31  "
      ]
     },
     "execution_count": 5,
     "metadata": {},
     "output_type": "execute_result"
    }
   ],
   "source": [
    "dflfc_transfers.tail()"
   ]
  },
  {
   "cell_type": "code",
   "execution_count": 6,
   "metadata": {
    "collapsed": false
   },
   "outputs": [
    {
     "data": {
      "text/plain": [
       "Season               object\n",
       "Direction            object\n",
       "Player               object\n",
       "Club                 object\n",
       "Fee                 float64\n",
       "Date         datetime64[ns]\n",
       "dtype: object"
      ]
     },
     "execution_count": 6,
     "metadata": {},
     "output_type": "execute_result"
    }
   ],
   "source": [
    "# check Date (of transfer) column is datetime data type\n",
    "dflfc_transfers.dtypes"
   ]
  },
  {
   "cell_type": "markdown",
   "metadata": {},
   "source": [
    "#### Create dataframe of LFC players giving birthdate of each player\n",
    "Data source: lfchistory.net"
   ]
  },
  {
   "cell_type": "code",
   "execution_count": 7,
   "metadata": {
    "collapsed": false
   },
   "outputs": [
    {
     "data": {
      "text/plain": [
       "(756, 3)"
      ]
     },
     "execution_count": 7,
     "metadata": {},
     "output_type": "execute_result"
    }
   ],
   "source": [
    "LFC_PLAYERS_CSV_FILE = 'data\\lfc_players_september2015_upd.csv' \n",
    "dflfc_players = pd.read_csv(LFC_PLAYERS_CSV_FILE, parse_dates=['birthdate'])\n",
    "dflfc_players.rename(columns={'player': 'Player', 'birthdate': 'Birthdate', 'country': 'Country'}, inplace=True)\n",
    "dflfc_players.shape"
   ]
  },
  {
   "cell_type": "code",
   "execution_count": 8,
   "metadata": {
    "collapsed": false
   },
   "outputs": [
    {
     "data": {
      "text/plain": [
       "Player               object\n",
       "Birthdate    datetime64[ns]\n",
       "Country              object\n",
       "dtype: object"
      ]
     },
     "execution_count": 8,
     "metadata": {},
     "output_type": "execute_result"
    }
   ],
   "source": [
    "dflfc_players.dtypes"
   ]
  },
  {
   "cell_type": "code",
   "execution_count": 9,
   "metadata": {
    "collapsed": false
   },
   "outputs": [
    {
     "data": {
      "text/html": [
       "<div>\n",
       "<table border=\"1\" class=\"dataframe\">\n",
       "  <thead>\n",
       "    <tr style=\"text-align: right;\">\n",
       "      <th></th>\n",
       "      <th>Player</th>\n",
       "      <th>Birthdate</th>\n",
       "      <th>Country</th>\n",
       "    </tr>\n",
       "  </thead>\n",
       "  <tbody>\n",
       "    <tr>\n",
       "      <th>0</th>\n",
       "      <td>Gary Ablett</td>\n",
       "      <td>1965-11-19</td>\n",
       "      <td>England</td>\n",
       "    </tr>\n",
       "    <tr>\n",
       "      <th>1</th>\n",
       "      <td>Alan A'Court</td>\n",
       "      <td>1934-09-30</td>\n",
       "      <td>England</td>\n",
       "    </tr>\n",
       "    <tr>\n",
       "      <th>2</th>\n",
       "      <td>Charlie Adam</td>\n",
       "      <td>1985-12-10</td>\n",
       "      <td>Scotland</td>\n",
       "    </tr>\n",
       "    <tr>\n",
       "      <th>3</th>\n",
       "      <td>Daniel Agger</td>\n",
       "      <td>1984-12-12</td>\n",
       "      <td>Denmark</td>\n",
       "    </tr>\n",
       "    <tr>\n",
       "      <th>4</th>\n",
       "      <td>Andrew Aitken</td>\n",
       "      <td>1909-08-25</td>\n",
       "      <td>England</td>\n",
       "    </tr>\n",
       "    <tr>\n",
       "      <th>5</th>\n",
       "      <td>Luis Alberto</td>\n",
       "      <td>1992-09-28</td>\n",
       "      <td>Spain</td>\n",
       "    </tr>\n",
       "    <tr>\n",
       "      <th>6</th>\n",
       "      <td>John Aldridge</td>\n",
       "      <td>1958-09-18</td>\n",
       "      <td>England</td>\n",
       "    </tr>\n",
       "    <tr>\n",
       "      <th>7</th>\n",
       "      <td>George Allan</td>\n",
       "      <td>1875-08-23 00:00:00</td>\n",
       "      <td>Scotland</td>\n",
       "    </tr>\n",
       "    <tr>\n",
       "      <th>8</th>\n",
       "      <td>Joe Allen</td>\n",
       "      <td>1990-03-14</td>\n",
       "      <td>Wales</td>\n",
       "    </tr>\n",
       "    <tr>\n",
       "      <th>9</th>\n",
       "      <td>Messina Allman</td>\n",
       "      <td>1883-01-01 00:00:00</td>\n",
       "      <td>England</td>\n",
       "    </tr>\n",
       "  </tbody>\n",
       "</table>\n",
       "</div>"
      ],
      "text/plain": [
       "           Player           Birthdate   Country\n",
       "0     Gary Ablett          1965-11-19   England\n",
       "1    Alan A'Court          1934-09-30   England\n",
       "2    Charlie Adam          1985-12-10  Scotland\n",
       "3    Daniel Agger          1984-12-12   Denmark\n",
       "4   Andrew Aitken          1909-08-25   England\n",
       "5    Luis Alberto          1992-09-28     Spain\n",
       "6   John Aldridge          1958-09-18   England\n",
       "7    George Allan 1875-08-23 00:00:00  Scotland\n",
       "8       Joe Allen          1990-03-14     Wales\n",
       "9  Messina Allman 1883-01-01 00:00:00   England"
      ]
     },
     "execution_count": 9,
     "metadata": {},
     "output_type": "execute_result"
    }
   ],
   "source": [
    "dflfc_players.head(10)"
   ]
  },
  {
   "cell_type": "markdown",
   "metadata": {},
   "source": [
    "#### Create dataframe of premier league transfers over last 5 seasons\n",
    "Data source: transferleague.co.uk"
   ]
  },
  {
   "cell_type": "code",
   "execution_count": 10,
   "metadata": {
    "collapsed": false
   },
   "outputs": [
    {
     "data": {
      "text/plain": [
       "(20, 6)"
      ]
     },
     "execution_count": 10,
     "metadata": {},
     "output_type": "execute_result"
    }
   ],
   "source": [
    "PREM_TRANSFERS_CSV_FILE = 'data\\prem_transfers_2011-2012_2015-2016.csv'\n",
    "dfprem_transfers = pd.read_csv(PREM_TRANSFERS_CSV_FILE, skiprows=2, header=True)\n",
    "\n",
    "# convert money to millions of pounds\n",
    "dfprem_transfers.Purchased = np.round(dfprem_transfers.Purchased/1000000, 1)\n",
    "dfprem_transfers.Sold = np.round(dfprem_transfers.Sold/1000000, 1)\n",
    "dfprem_transfers.NetSpend = np.round(dfprem_transfers.NetSpend/1000000, 1)\n",
    "dfprem_transfers.PerSeasonSpend = np.round(dfprem_transfers.PerSeasonSpend/1000000, 1)\n",
    "\n",
    "# show shape\n",
    "dfprem_transfers.shape"
   ]
  },
  {
   "cell_type": "code",
   "execution_count": 12,
   "metadata": {
    "collapsed": false
   },
   "outputs": [
    {
     "data": {
      "text/html": [
       "<div>\n",
       "<table border=\"1\" class=\"dataframe\">\n",
       "  <thead>\n",
       "    <tr style=\"text-align: right;\">\n",
       "      <th></th>\n",
       "      <th>Position</th>\n",
       "      <th>Team</th>\n",
       "      <th>Purchased</th>\n",
       "      <th>Sold</th>\n",
       "      <th>NetSpend</th>\n",
       "      <th>PerSeasonSpend</th>\n",
       "    </tr>\n",
       "  </thead>\n",
       "  <tbody>\n",
       "    <tr>\n",
       "      <th>0</th>\n",
       "      <td>1</td>\n",
       "      <td>Manchester City</td>\n",
       "      <td>472.7</td>\n",
       "      <td>150.3</td>\n",
       "      <td>322.4</td>\n",
       "      <td>64.5</td>\n",
       "    </tr>\n",
       "    <tr>\n",
       "      <th>1</th>\n",
       "      <td>2</td>\n",
       "      <td>Manchester United</td>\n",
       "      <td>405.2</td>\n",
       "      <td>139.5</td>\n",
       "      <td>265.7</td>\n",
       "      <td>53.1</td>\n",
       "    </tr>\n",
       "    <tr>\n",
       "      <th>2</th>\n",
       "      <td>4</td>\n",
       "      <td>Chelsea</td>\n",
       "      <td>461.8</td>\n",
       "      <td>246.4</td>\n",
       "      <td>215.4</td>\n",
       "      <td>43.1</td>\n",
       "    </tr>\n",
       "    <tr>\n",
       "      <th>3</th>\n",
       "      <td>3</td>\n",
       "      <td>Liverpool</td>\n",
       "      <td>349.0</td>\n",
       "      <td>186.4</td>\n",
       "      <td>162.6</td>\n",
       "      <td>32.5</td>\n",
       "    </tr>\n",
       "    <tr>\n",
       "      <th>4</th>\n",
       "      <td>5</td>\n",
       "      <td>Arsenal</td>\n",
       "      <td>253.6</td>\n",
       "      <td>154.6</td>\n",
       "      <td>99.0</td>\n",
       "      <td>19.8</td>\n",
       "    </tr>\n",
       "  </tbody>\n",
       "</table>\n",
       "</div>"
      ],
      "text/plain": [
       "   Position               Team  Purchased   Sold  NetSpend  PerSeasonSpend\n",
       "0         1    Manchester City      472.7  150.3     322.4            64.5\n",
       "1         2  Manchester United      405.2  139.5     265.7            53.1\n",
       "2         4            Chelsea      461.8  246.4     215.4            43.1\n",
       "3         3          Liverpool      349.0  186.4     162.6            32.5\n",
       "4         5            Arsenal      253.6  154.6      99.0            19.8"
      ]
     },
     "execution_count": 12,
     "metadata": {},
     "output_type": "execute_result"
    }
   ],
   "source": [
    "dfprem_transfers.head()"
   ]
  },
  {
   "cell_type": "code",
   "execution_count": 13,
   "metadata": {
    "collapsed": false
   },
   "outputs": [
    {
     "data": {
      "text/html": [
       "<div>\n",
       "<table border=\"1\" class=\"dataframe\">\n",
       "  <thead>\n",
       "    <tr style=\"text-align: right;\">\n",
       "      <th></th>\n",
       "      <th>Position</th>\n",
       "      <th>Team</th>\n",
       "      <th>Purchased</th>\n",
       "      <th>Sold</th>\n",
       "      <th>NetSpend</th>\n",
       "      <th>PerSeasonSpend</th>\n",
       "    </tr>\n",
       "  </thead>\n",
       "  <tbody>\n",
       "    <tr>\n",
       "      <th>15</th>\n",
       "      <td>16</td>\n",
       "      <td>Southampton</td>\n",
       "      <td>163.6</td>\n",
       "      <td>142.8</td>\n",
       "      <td>20.8</td>\n",
       "      <td>4.2</td>\n",
       "    </tr>\n",
       "    <tr>\n",
       "      <th>16</th>\n",
       "      <td>17</td>\n",
       "      <td>Swansea</td>\n",
       "      <td>79.9</td>\n",
       "      <td>66.2</td>\n",
       "      <td>13.7</td>\n",
       "      <td>2.7</td>\n",
       "    </tr>\n",
       "    <tr>\n",
       "      <th>17</th>\n",
       "      <td>18</td>\n",
       "      <td>Everton</td>\n",
       "      <td>91.8</td>\n",
       "      <td>80.8</td>\n",
       "      <td>11.0</td>\n",
       "      <td>2.2</td>\n",
       "    </tr>\n",
       "    <tr>\n",
       "      <th>18</th>\n",
       "      <td>19</td>\n",
       "      <td>Watford</td>\n",
       "      <td>12.0</td>\n",
       "      <td>15.3</td>\n",
       "      <td>-3.2</td>\n",
       "      <td>-0.6</td>\n",
       "    </tr>\n",
       "    <tr>\n",
       "      <th>19</th>\n",
       "      <td>20</td>\n",
       "      <td>Tottenham Hotspur</td>\n",
       "      <td>254.6</td>\n",
       "      <td>291.4</td>\n",
       "      <td>-36.7</td>\n",
       "      <td>-7.3</td>\n",
       "    </tr>\n",
       "  </tbody>\n",
       "</table>\n",
       "</div>"
      ],
      "text/plain": [
       "    Position               Team  Purchased   Sold  NetSpend  PerSeasonSpend\n",
       "15        16        Southampton      163.6  142.8      20.8             4.2\n",
       "16        17            Swansea       79.9   66.2      13.7             2.7\n",
       "17        18            Everton       91.8   80.8      11.0             2.2\n",
       "18        19            Watford       12.0   15.3      -3.2            -0.6\n",
       "19        20  Tottenham Hotspur      254.6  291.4     -36.7            -7.3"
      ]
     },
     "execution_count": 13,
     "metadata": {},
     "output_type": "execute_result"
    }
   ],
   "source": [
    "dfprem_transfers.tail()"
   ]
  },
  {
   "cell_type": "markdown",
   "metadata": {},
   "source": [
    "#### Create dataframe of premier league wage bill over last 5 seasons\n",
    "Data source: guardian.co.uk etc"
   ]
  },
  {
   "cell_type": "code",
   "execution_count": 14,
   "metadata": {
    "collapsed": false
   },
   "outputs": [
    {
     "data": {
      "text/plain": [
       "(20, 5)"
      ]
     },
     "execution_count": 14,
     "metadata": {},
     "output_type": "execute_result"
    }
   ],
   "source": [
    "PREM_WAGES_CSV_FILE = 'data\\prem_wages_2012-2013_2014-2015.csv'\n",
    "dfprem_wages = pd.read_csv(PREM_WAGES_CSV_FILE, skiprows=4, header=True)\n",
    "\n",
    "# show shape\n",
    "dfprem_wages.shape"
   ]
  },
  {
   "cell_type": "code",
   "execution_count": 15,
   "metadata": {
    "collapsed": false
   },
   "outputs": [
    {
     "data": {
      "text/html": [
       "<div>\n",
       "<table border=\"1\" class=\"dataframe\">\n",
       "  <thead>\n",
       "    <tr style=\"text-align: right;\">\n",
       "      <th></th>\n",
       "      <th>Rank</th>\n",
       "      <th>Team</th>\n",
       "      <th>2012-2013</th>\n",
       "      <th>2013-2014</th>\n",
       "      <th>2014-2015</th>\n",
       "    </tr>\n",
       "  </thead>\n",
       "  <tbody>\n",
       "    <tr>\n",
       "      <th>0</th>\n",
       "      <td>1</td>\n",
       "      <td>Manchester United</td>\n",
       "      <td>181</td>\n",
       "      <td>187.0</td>\n",
       "      <td>215.8</td>\n",
       "    </tr>\n",
       "    <tr>\n",
       "      <th>1</th>\n",
       "      <td>2</td>\n",
       "      <td>Manchester City</td>\n",
       "      <td>233</td>\n",
       "      <td>216.0</td>\n",
       "      <td>205.0</td>\n",
       "    </tr>\n",
       "    <tr>\n",
       "      <th>2</th>\n",
       "      <td>3</td>\n",
       "      <td>Chelsea</td>\n",
       "      <td>176</td>\n",
       "      <td>190.0</td>\n",
       "      <td>192.7</td>\n",
       "    </tr>\n",
       "    <tr>\n",
       "      <th>3</th>\n",
       "      <td>4</td>\n",
       "      <td>Arsenal</td>\n",
       "      <td>154</td>\n",
       "      <td>166.4</td>\n",
       "      <td>166.4</td>\n",
       "    </tr>\n",
       "    <tr>\n",
       "      <th>4</th>\n",
       "      <td>5</td>\n",
       "      <td>Liverpool</td>\n",
       "      <td>132</td>\n",
       "      <td>140.0</td>\n",
       "      <td>144.0</td>\n",
       "    </tr>\n",
       "    <tr>\n",
       "      <th>5</th>\n",
       "      <td>6</td>\n",
       "      <td>Tottenham Hotspur</td>\n",
       "      <td>96</td>\n",
       "      <td>112.0</td>\n",
       "      <td>100.4</td>\n",
       "    </tr>\n",
       "    <tr>\n",
       "      <th>6</th>\n",
       "      <td>7</td>\n",
       "      <td>Newcastle United</td>\n",
       "      <td>62</td>\n",
       "      <td>68.0</td>\n",
       "      <td>78.3</td>\n",
       "    </tr>\n",
       "    <tr>\n",
       "      <th>7</th>\n",
       "      <td>12</td>\n",
       "      <td>Queens Park Rangers</td>\n",
       "      <td>78</td>\n",
       "      <td>NaN</td>\n",
       "      <td>75.3</td>\n",
       "    </tr>\n",
       "    <tr>\n",
       "      <th>8</th>\n",
       "      <td>10</td>\n",
       "      <td>Sunderland</td>\n",
       "      <td>58</td>\n",
       "      <td>55.0</td>\n",
       "      <td>69.5</td>\n",
       "    </tr>\n",
       "    <tr>\n",
       "      <th>9</th>\n",
       "      <td>9</td>\n",
       "      <td>Everton</td>\n",
       "      <td>63</td>\n",
       "      <td>66.0</td>\n",
       "      <td>69.3</td>\n",
       "    </tr>\n",
       "    <tr>\n",
       "      <th>10</th>\n",
       "      <td>8</td>\n",
       "      <td>Aston Villa</td>\n",
       "      <td>72</td>\n",
       "      <td>74.0</td>\n",
       "      <td>69.3</td>\n",
       "    </tr>\n",
       "    <tr>\n",
       "      <th>11</th>\n",
       "      <td>15</td>\n",
       "      <td>West Bromwich Albion</td>\n",
       "      <td>54</td>\n",
       "      <td>49.0</td>\n",
       "      <td>65.4</td>\n",
       "    </tr>\n",
       "    <tr>\n",
       "      <th>12</th>\n",
       "      <td>14</td>\n",
       "      <td>West Ham United</td>\n",
       "      <td>56</td>\n",
       "      <td>60.0</td>\n",
       "      <td>63.9</td>\n",
       "    </tr>\n",
       "    <tr>\n",
       "      <th>13</th>\n",
       "      <td>16</td>\n",
       "      <td>Stoke City</td>\n",
       "      <td>62</td>\n",
       "      <td>55.0</td>\n",
       "      <td>60.6</td>\n",
       "    </tr>\n",
       "    <tr>\n",
       "      <th>14</th>\n",
       "      <td>11</td>\n",
       "      <td>Southampton</td>\n",
       "      <td>47</td>\n",
       "      <td>47.0</td>\n",
       "      <td>55.2</td>\n",
       "    </tr>\n",
       "    <tr>\n",
       "      <th>15</th>\n",
       "      <td>13</td>\n",
       "      <td>Swansea City</td>\n",
       "      <td>49</td>\n",
       "      <td>55.0</td>\n",
       "      <td>48.1</td>\n",
       "    </tr>\n",
       "    <tr>\n",
       "      <th>16</th>\n",
       "      <td>17</td>\n",
       "      <td>Hull City</td>\n",
       "      <td>NaN</td>\n",
       "      <td>NaN</td>\n",
       "      <td>43.3</td>\n",
       "    </tr>\n",
       "    <tr>\n",
       "      <th>17</th>\n",
       "      <td>18</td>\n",
       "      <td>Crystal Palace</td>\n",
       "      <td>NaN</td>\n",
       "      <td>NaN</td>\n",
       "      <td>45.7</td>\n",
       "    </tr>\n",
       "    <tr>\n",
       "      <th>18</th>\n",
       "      <td>19</td>\n",
       "      <td>Leicester City</td>\n",
       "      <td>NaN</td>\n",
       "      <td>NaN</td>\n",
       "      <td>36.6</td>\n",
       "    </tr>\n",
       "    <tr>\n",
       "      <th>19</th>\n",
       "      <td>20</td>\n",
       "      <td>Burnley</td>\n",
       "      <td>NaN</td>\n",
       "      <td>NaN</td>\n",
       "      <td>21.5</td>\n",
       "    </tr>\n",
       "  </tbody>\n",
       "</table>\n",
       "</div>"
      ],
      "text/plain": [
       "    Rank                  Team  2012-2013  2013-2014  2014-2015\n",
       "0      1     Manchester United        181      187.0      215.8\n",
       "1      2       Manchester City        233      216.0      205.0\n",
       "2      3               Chelsea        176      190.0      192.7\n",
       "3      4               Arsenal        154      166.4      166.4\n",
       "4      5             Liverpool        132      140.0      144.0\n",
       "5      6     Tottenham Hotspur         96      112.0      100.4\n",
       "6      7      Newcastle United         62       68.0       78.3\n",
       "7     12   Queens Park Rangers         78        NaN       75.3\n",
       "8     10            Sunderland         58       55.0       69.5\n",
       "9      9               Everton         63       66.0       69.3\n",
       "10     8           Aston Villa         72       74.0       69.3\n",
       "11    15  West Bromwich Albion         54       49.0       65.4\n",
       "12    14       West Ham United         56       60.0       63.9\n",
       "13    16            Stoke City         62       55.0       60.6\n",
       "14    11           Southampton         47       47.0       55.2\n",
       "15    13          Swansea City         49       55.0       48.1\n",
       "16    17             Hull City        NaN        NaN       43.3\n",
       "17    18        Crystal Palace        NaN        NaN       45.7\n",
       "18    19        Leicester City        NaN        NaN       36.6\n",
       "19    20               Burnley        NaN        NaN       21.5"
      ]
     },
     "execution_count": 15,
     "metadata": {},
     "output_type": "execute_result"
    }
   ],
   "source": [
    "dfprem_wages"
   ]
  },
  {
   "cell_type": "markdown",
   "metadata": {},
   "source": [
    "#### Create dataframe of league table for 2014-2015\n",
    "Data source: http://www.sportsmole.co.uk/football/premier-league/2014-15/table.html"
   ]
  },
  {
   "cell_type": "code",
   "execution_count": 16,
   "metadata": {
    "collapsed": false
   },
   "outputs": [
    {
     "data": {
      "text/plain": [
       "(20, 20)"
      ]
     },
     "execution_count": 16,
     "metadata": {},
     "output_type": "execute_result"
    }
   ],
   "source": [
    "PREM_TABLE_CSV_FILE = 'data\\prem_table_2014-2015.csv'\n",
    "dfprem_table_2014_2015 = pd.read_csv(PREM_TABLE_CSV_FILE, skiprows=2, header=True)\n",
    "\n",
    "# show shape\n",
    "dfprem_table_2014_2015.shape"
   ]
  },
  {
   "cell_type": "code",
   "execution_count": 17,
   "metadata": {
    "collapsed": false
   },
   "outputs": [
    {
     "data": {
      "text/html": [
       "<div>\n",
       "<table border=\"1\" class=\"dataframe\">\n",
       "  <thead>\n",
       "    <tr style=\"text-align: right;\">\n",
       "      <th></th>\n",
       "      <th>Rank</th>\n",
       "      <th>Team</th>\n",
       "      <th>P</th>\n",
       "      <th>HW</th>\n",
       "      <th>HD</th>\n",
       "      <th>HL</th>\n",
       "      <th>HF</th>\n",
       "      <th>HA</th>\n",
       "      <th>AW</th>\n",
       "      <th>AD</th>\n",
       "      <th>AL</th>\n",
       "      <th>AF</th>\n",
       "      <th>AA</th>\n",
       "      <th>TW</th>\n",
       "      <th>TD</th>\n",
       "      <th>TL</th>\n",
       "      <th>GF</th>\n",
       "      <th>GA</th>\n",
       "      <th>GD</th>\n",
       "      <th>PTS</th>\n",
       "    </tr>\n",
       "  </thead>\n",
       "  <tbody>\n",
       "    <tr>\n",
       "      <th>0</th>\n",
       "      <td>1</td>\n",
       "      <td>Chelsea</td>\n",
       "      <td>38</td>\n",
       "      <td>15</td>\n",
       "      <td>4</td>\n",
       "      <td>0</td>\n",
       "      <td>36</td>\n",
       "      <td>9</td>\n",
       "      <td>11</td>\n",
       "      <td>5</td>\n",
       "      <td>3</td>\n",
       "      <td>37</td>\n",
       "      <td>23</td>\n",
       "      <td>26</td>\n",
       "      <td>9</td>\n",
       "      <td>3</td>\n",
       "      <td>73</td>\n",
       "      <td>32</td>\n",
       "      <td>41</td>\n",
       "      <td>87</td>\n",
       "    </tr>\n",
       "    <tr>\n",
       "      <th>1</th>\n",
       "      <td>2</td>\n",
       "      <td>Manchester City</td>\n",
       "      <td>38</td>\n",
       "      <td>14</td>\n",
       "      <td>3</td>\n",
       "      <td>2</td>\n",
       "      <td>44</td>\n",
       "      <td>14</td>\n",
       "      <td>10</td>\n",
       "      <td>4</td>\n",
       "      <td>5</td>\n",
       "      <td>39</td>\n",
       "      <td>24</td>\n",
       "      <td>24</td>\n",
       "      <td>7</td>\n",
       "      <td>7</td>\n",
       "      <td>83</td>\n",
       "      <td>38</td>\n",
       "      <td>45</td>\n",
       "      <td>79</td>\n",
       "    </tr>\n",
       "    <tr>\n",
       "      <th>2</th>\n",
       "      <td>3</td>\n",
       "      <td>Arsenal</td>\n",
       "      <td>38</td>\n",
       "      <td>12</td>\n",
       "      <td>5</td>\n",
       "      <td>2</td>\n",
       "      <td>41</td>\n",
       "      <td>14</td>\n",
       "      <td>10</td>\n",
       "      <td>4</td>\n",
       "      <td>5</td>\n",
       "      <td>30</td>\n",
       "      <td>22</td>\n",
       "      <td>22</td>\n",
       "      <td>9</td>\n",
       "      <td>7</td>\n",
       "      <td>71</td>\n",
       "      <td>36</td>\n",
       "      <td>35</td>\n",
       "      <td>75</td>\n",
       "    </tr>\n",
       "    <tr>\n",
       "      <th>3</th>\n",
       "      <td>4</td>\n",
       "      <td>Manchester United</td>\n",
       "      <td>38</td>\n",
       "      <td>14</td>\n",
       "      <td>2</td>\n",
       "      <td>3</td>\n",
       "      <td>41</td>\n",
       "      <td>15</td>\n",
       "      <td>6</td>\n",
       "      <td>8</td>\n",
       "      <td>5</td>\n",
       "      <td>21</td>\n",
       "      <td>22</td>\n",
       "      <td>20</td>\n",
       "      <td>10</td>\n",
       "      <td>8</td>\n",
       "      <td>62</td>\n",
       "      <td>37</td>\n",
       "      <td>25</td>\n",
       "      <td>70</td>\n",
       "    </tr>\n",
       "    <tr>\n",
       "      <th>4</th>\n",
       "      <td>5</td>\n",
       "      <td>Tottenham Hotspur</td>\n",
       "      <td>38</td>\n",
       "      <td>10</td>\n",
       "      <td>3</td>\n",
       "      <td>6</td>\n",
       "      <td>31</td>\n",
       "      <td>24</td>\n",
       "      <td>9</td>\n",
       "      <td>4</td>\n",
       "      <td>6</td>\n",
       "      <td>27</td>\n",
       "      <td>29</td>\n",
       "      <td>19</td>\n",
       "      <td>7</td>\n",
       "      <td>12</td>\n",
       "      <td>58</td>\n",
       "      <td>53</td>\n",
       "      <td>5</td>\n",
       "      <td>64</td>\n",
       "    </tr>\n",
       "    <tr>\n",
       "      <th>5</th>\n",
       "      <td>6</td>\n",
       "      <td>Liverpool</td>\n",
       "      <td>38</td>\n",
       "      <td>10</td>\n",
       "      <td>5</td>\n",
       "      <td>4</td>\n",
       "      <td>30</td>\n",
       "      <td>20</td>\n",
       "      <td>8</td>\n",
       "      <td>3</td>\n",
       "      <td>8</td>\n",
       "      <td>22</td>\n",
       "      <td>28</td>\n",
       "      <td>18</td>\n",
       "      <td>8</td>\n",
       "      <td>12</td>\n",
       "      <td>52</td>\n",
       "      <td>48</td>\n",
       "      <td>4</td>\n",
       "      <td>62</td>\n",
       "    </tr>\n",
       "  </tbody>\n",
       "</table>\n",
       "</div>"
      ],
      "text/plain": [
       "   Rank               Team   P  HW  HD  HL  HF  HA  AW  AD  AL  AF  AA  TW  \\\n",
       "0     1            Chelsea  38  15   4   0  36   9  11   5   3  37  23  26   \n",
       "1     2    Manchester City  38  14   3   2  44  14  10   4   5  39  24  24   \n",
       "2     3            Arsenal  38  12   5   2  41  14  10   4   5  30  22  22   \n",
       "3     4  Manchester United  38  14   2   3  41  15   6   8   5  21  22  20   \n",
       "4     5  Tottenham Hotspur  38  10   3   6  31  24   9   4   6  27  29  19   \n",
       "5     6          Liverpool  38  10   5   4  30  20   8   3   8  22  28  18   \n",
       "\n",
       "   TD  TL  GF  GA  GD  PTS  \n",
       "0   9   3  73  32  41   87  \n",
       "1   7   7  83  38  45   79  \n",
       "2   9   7  71  36  35   75  \n",
       "3  10   8  62  37  25   70  \n",
       "4   7  12  58  53   5   64  \n",
       "5   8  12  52  48   4   62  "
      ]
     },
     "execution_count": 17,
     "metadata": {},
     "output_type": "execute_result"
    }
   ],
   "source": [
    "dfprem_table_2014_2015.head(6)"
   ]
  },
  {
   "cell_type": "code",
   "execution_count": 18,
   "metadata": {
    "collapsed": false
   },
   "outputs": [
    {
     "data": {
      "text/html": [
       "<div>\n",
       "<table border=\"1\" class=\"dataframe\">\n",
       "  <thead>\n",
       "    <tr style=\"text-align: right;\">\n",
       "      <th></th>\n",
       "      <th>Rank</th>\n",
       "      <th>Team</th>\n",
       "      <th>P</th>\n",
       "      <th>HW</th>\n",
       "      <th>HD</th>\n",
       "      <th>HL</th>\n",
       "      <th>HF</th>\n",
       "      <th>HA</th>\n",
       "      <th>AW</th>\n",
       "      <th>AD</th>\n",
       "      <th>AL</th>\n",
       "      <th>AF</th>\n",
       "      <th>AA</th>\n",
       "      <th>TW</th>\n",
       "      <th>TD</th>\n",
       "      <th>TL</th>\n",
       "      <th>GF</th>\n",
       "      <th>GA</th>\n",
       "      <th>GD</th>\n",
       "      <th>PTS</th>\n",
       "    </tr>\n",
       "  </thead>\n",
       "  <tbody>\n",
       "    <tr>\n",
       "      <th>15</th>\n",
       "      <td>16</td>\n",
       "      <td>Sunderland</td>\n",
       "      <td>38</td>\n",
       "      <td>4</td>\n",
       "      <td>8</td>\n",
       "      <td>7</td>\n",
       "      <td>16</td>\n",
       "      <td>27</td>\n",
       "      <td>3</td>\n",
       "      <td>9</td>\n",
       "      <td>7</td>\n",
       "      <td>15</td>\n",
       "      <td>26</td>\n",
       "      <td>7</td>\n",
       "      <td>17</td>\n",
       "      <td>14</td>\n",
       "      <td>31</td>\n",
       "      <td>53</td>\n",
       "      <td>-22</td>\n",
       "      <td>38</td>\n",
       "    </tr>\n",
       "    <tr>\n",
       "      <th>16</th>\n",
       "      <td>17</td>\n",
       "      <td>Aston Villa</td>\n",
       "      <td>38</td>\n",
       "      <td>5</td>\n",
       "      <td>6</td>\n",
       "      <td>8</td>\n",
       "      <td>18</td>\n",
       "      <td>25</td>\n",
       "      <td>5</td>\n",
       "      <td>2</td>\n",
       "      <td>12</td>\n",
       "      <td>13</td>\n",
       "      <td>32</td>\n",
       "      <td>10</td>\n",
       "      <td>8</td>\n",
       "      <td>20</td>\n",
       "      <td>31</td>\n",
       "      <td>57</td>\n",
       "      <td>-26</td>\n",
       "      <td>38</td>\n",
       "    </tr>\n",
       "    <tr>\n",
       "      <th>17</th>\n",
       "      <td>18</td>\n",
       "      <td>Hull City</td>\n",
       "      <td>38</td>\n",
       "      <td>5</td>\n",
       "      <td>5</td>\n",
       "      <td>9</td>\n",
       "      <td>19</td>\n",
       "      <td>24</td>\n",
       "      <td>3</td>\n",
       "      <td>6</td>\n",
       "      <td>10</td>\n",
       "      <td>14</td>\n",
       "      <td>27</td>\n",
       "      <td>8</td>\n",
       "      <td>11</td>\n",
       "      <td>19</td>\n",
       "      <td>33</td>\n",
       "      <td>51</td>\n",
       "      <td>-18</td>\n",
       "      <td>35</td>\n",
       "    </tr>\n",
       "    <tr>\n",
       "      <th>18</th>\n",
       "      <td>19</td>\n",
       "      <td>Burnley</td>\n",
       "      <td>38</td>\n",
       "      <td>4</td>\n",
       "      <td>7</td>\n",
       "      <td>8</td>\n",
       "      <td>14</td>\n",
       "      <td>21</td>\n",
       "      <td>3</td>\n",
       "      <td>5</td>\n",
       "      <td>11</td>\n",
       "      <td>14</td>\n",
       "      <td>32</td>\n",
       "      <td>7</td>\n",
       "      <td>12</td>\n",
       "      <td>19</td>\n",
       "      <td>28</td>\n",
       "      <td>53</td>\n",
       "      <td>-25</td>\n",
       "      <td>33</td>\n",
       "    </tr>\n",
       "    <tr>\n",
       "      <th>19</th>\n",
       "      <td>20</td>\n",
       "      <td>Queens Park Rangers</td>\n",
       "      <td>38</td>\n",
       "      <td>6</td>\n",
       "      <td>5</td>\n",
       "      <td>8</td>\n",
       "      <td>23</td>\n",
       "      <td>24</td>\n",
       "      <td>2</td>\n",
       "      <td>1</td>\n",
       "      <td>16</td>\n",
       "      <td>19</td>\n",
       "      <td>49</td>\n",
       "      <td>8</td>\n",
       "      <td>6</td>\n",
       "      <td>24</td>\n",
       "      <td>42</td>\n",
       "      <td>73</td>\n",
       "      <td>-31</td>\n",
       "      <td>30</td>\n",
       "    </tr>\n",
       "  </tbody>\n",
       "</table>\n",
       "</div>"
      ],
      "text/plain": [
       "    Rank                 Team   P  HW  HD  HL  HF  HA  AW  AD  AL  AF  AA  TW  \\\n",
       "15    16           Sunderland  38   4   8   7  16  27   3   9   7  15  26   7   \n",
       "16    17          Aston Villa  38   5   6   8  18  25   5   2  12  13  32  10   \n",
       "17    18            Hull City  38   5   5   9  19  24   3   6  10  14  27   8   \n",
       "18    19              Burnley  38   4   7   8  14  21   3   5  11  14  32   7   \n",
       "19    20  Queens Park Rangers  38   6   5   8  23  24   2   1  16  19  49   8   \n",
       "\n",
       "    TD  TL  GF  GA  GD  PTS  \n",
       "15  17  14  31  53 -22   38  \n",
       "16   8  20  31  57 -26   38  \n",
       "17  11  19  33  51 -18   35  \n",
       "18  12  19  28  53 -25   33  \n",
       "19   6  24  42  73 -31   30  "
      ]
     },
     "execution_count": 18,
     "metadata": {},
     "output_type": "execute_result"
    }
   ],
   "source": [
    "dfprem_table_2014_2015.tail()"
   ]
  },
  {
   "cell_type": "markdown",
   "metadata": {},
   "source": [
    "#### Create dataframe of Deloiite Football Money League\n",
    "Data source: [Deloitte Football Money League](http://www2.deloitte.com/uk/en/pages/sports-business-group/articles/deloitte-football-money-league.html)\n",
    "\n",
    "The revenue (in pounds) is in the detailed report."
   ]
  },
  {
   "cell_type": "code",
   "execution_count": 19,
   "metadata": {
    "collapsed": true
   },
   "outputs": [],
   "source": [
    "# note that the revenue figures are for 2014\n",
    "deloitte_review_2015 = {'Team': ['Manchester United', 'Manchester City', 'Chelsea', 'Arsenal', 'Liverpool', 'Tottenham Hotspur'],\n",
    "                   'Revenue': [433.2, 346.5, 324.4, 300.5, 255.8, 180.5]}\n",
    "df_revenue = pd.DataFrame(data=deloitte_review_2015, columns=['Team', 'Revenue'])\n",
    "df_revenue = df_revenue.set_index('Team')"
   ]
  },
  {
   "cell_type": "code",
   "execution_count": 20,
   "metadata": {
    "collapsed": false
   },
   "outputs": [
    {
     "data": {
      "text/html": [
       "<div>\n",
       "<table border=\"1\" class=\"dataframe\">\n",
       "  <thead>\n",
       "    <tr style=\"text-align: right;\">\n",
       "      <th></th>\n",
       "      <th>Revenue</th>\n",
       "    </tr>\n",
       "    <tr>\n",
       "      <th>Team</th>\n",
       "      <th></th>\n",
       "    </tr>\n",
       "  </thead>\n",
       "  <tbody>\n",
       "    <tr>\n",
       "      <th>Manchester United</th>\n",
       "      <td>433.2</td>\n",
       "    </tr>\n",
       "    <tr>\n",
       "      <th>Manchester City</th>\n",
       "      <td>346.5</td>\n",
       "    </tr>\n",
       "    <tr>\n",
       "      <th>Chelsea</th>\n",
       "      <td>324.4</td>\n",
       "    </tr>\n",
       "    <tr>\n",
       "      <th>Arsenal</th>\n",
       "      <td>300.5</td>\n",
       "    </tr>\n",
       "    <tr>\n",
       "      <th>Liverpool</th>\n",
       "      <td>255.8</td>\n",
       "    </tr>\n",
       "    <tr>\n",
       "      <th>Tottenham Hotspur</th>\n",
       "      <td>180.5</td>\n",
       "    </tr>\n",
       "  </tbody>\n",
       "</table>\n",
       "</div>"
      ],
      "text/plain": [
       "                   Revenue\n",
       "Team                      \n",
       "Manchester United    433.2\n",
       "Manchester City      346.5\n",
       "Chelsea              324.4\n",
       "Arsenal              300.5\n",
       "Liverpool            255.8\n",
       "Tottenham Hotspur    180.5"
      ]
     },
     "execution_count": 20,
     "metadata": {},
     "output_type": "execute_result"
    }
   ],
   "source": [
    "df_revenue"
   ]
  },
  {
   "cell_type": "markdown",
   "metadata": {},
   "source": [
    "## Analyse the data\n",
    "\n",
    "Ask a question and find the answer!"
   ]
  },
  {
   "cell_type": "markdown",
   "metadata": {},
   "source": [
    "Show ins and outs for 2015-2016"
   ]
  },
  {
   "cell_type": "code",
   "execution_count": 21,
   "metadata": {
    "collapsed": false
   },
   "outputs": [
    {
     "data": {
      "text/html": [
       "<div>\n",
       "<table border=\"1\" class=\"dataframe\">\n",
       "  <thead>\n",
       "    <tr style=\"text-align: right;\">\n",
       "      <th></th>\n",
       "      <th>Season</th>\n",
       "      <th>Direction</th>\n",
       "      <th>Player</th>\n",
       "      <th>Club</th>\n",
       "      <th>Fee</th>\n",
       "      <th>Date</th>\n",
       "    </tr>\n",
       "  </thead>\n",
       "  <tbody>\n",
       "    <tr>\n",
       "      <th>78</th>\n",
       "      <td>2015-2016</td>\n",
       "      <td>In</td>\n",
       "      <td>Adam Bogdan</td>\n",
       "      <td>Free Transfer</td>\n",
       "      <td>0.0</td>\n",
       "      <td>2015-07-01</td>\n",
       "    </tr>\n",
       "    <tr>\n",
       "      <th>79</th>\n",
       "      <td>2015-2016</td>\n",
       "      <td>In</td>\n",
       "      <td>Danny Ings</td>\n",
       "      <td>Tribunal (estimate)</td>\n",
       "      <td>6.0</td>\n",
       "      <td>2015-07-01</td>\n",
       "    </tr>\n",
       "    <tr>\n",
       "      <th>80</th>\n",
       "      <td>2015-2016</td>\n",
       "      <td>In</td>\n",
       "      <td>James Milner</td>\n",
       "      <td>Free Transfer</td>\n",
       "      <td>0.0</td>\n",
       "      <td>2015-07-01</td>\n",
       "    </tr>\n",
       "    <tr>\n",
       "      <th>81</th>\n",
       "      <td>2015-2016</td>\n",
       "      <td>In</td>\n",
       "      <td>Joe Gomez</td>\n",
       "      <td>Charlton Athletic</td>\n",
       "      <td>6.0</td>\n",
       "      <td>2015-06-20</td>\n",
       "    </tr>\n",
       "    <tr>\n",
       "      <th>82</th>\n",
       "      <td>2015-2016</td>\n",
       "      <td>In</td>\n",
       "      <td>Nathaniel Clyne</td>\n",
       "      <td>Southampton</td>\n",
       "      <td>12.5</td>\n",
       "      <td>2015-07-01</td>\n",
       "    </tr>\n",
       "    <tr>\n",
       "      <th>83</th>\n",
       "      <td>2015-2016</td>\n",
       "      <td>In</td>\n",
       "      <td>Roberto Firmino</td>\n",
       "      <td>Hoffenheim</td>\n",
       "      <td>29.0</td>\n",
       "      <td>2015-07-06</td>\n",
       "    </tr>\n",
       "    <tr>\n",
       "      <th>84</th>\n",
       "      <td>2015-2016</td>\n",
       "      <td>In</td>\n",
       "      <td>Christian Benteke</td>\n",
       "      <td>Aston Villa</td>\n",
       "      <td>32.5</td>\n",
       "      <td>2015-07-22</td>\n",
       "    </tr>\n",
       "    <tr>\n",
       "      <th>85</th>\n",
       "      <td>2015-2016</td>\n",
       "      <td>Out</td>\n",
       "      <td>Sebastian Coates</td>\n",
       "      <td>Sunderland</td>\n",
       "      <td>4.0</td>\n",
       "      <td>2015-07-01</td>\n",
       "    </tr>\n",
       "    <tr>\n",
       "      <th>86</th>\n",
       "      <td>2015-2016</td>\n",
       "      <td>Out</td>\n",
       "      <td>Iago Aspas</td>\n",
       "      <td>Sevilla</td>\n",
       "      <td>4.4</td>\n",
       "      <td>2015-06-12</td>\n",
       "    </tr>\n",
       "    <tr>\n",
       "      <th>87</th>\n",
       "      <td>2015-2016</td>\n",
       "      <td>Out</td>\n",
       "      <td>Raheem Sterling</td>\n",
       "      <td>Manchester City</td>\n",
       "      <td>49.0</td>\n",
       "      <td>2015-07-14</td>\n",
       "    </tr>\n",
       "    <tr>\n",
       "      <th>88</th>\n",
       "      <td>2015-2016</td>\n",
       "      <td>Out</td>\n",
       "      <td>Rickie Lambert</td>\n",
       "      <td>West Bromwich Albion</td>\n",
       "      <td>3.0</td>\n",
       "      <td>2015-07-31</td>\n",
       "    </tr>\n",
       "    <tr>\n",
       "      <th>89</th>\n",
       "      <td>2015-2016</td>\n",
       "      <td>Out</td>\n",
       "      <td>Fabio Borini</td>\n",
       "      <td>Sunderland</td>\n",
       "      <td>10.0</td>\n",
       "      <td>2015-08-31</td>\n",
       "    </tr>\n",
       "  </tbody>\n",
       "</table>\n",
       "</div>"
      ],
      "text/plain": [
       "       Season Direction             Player                  Club   Fee  \\\n",
       "78  2015-2016        In        Adam Bogdan         Free Transfer   0.0   \n",
       "79  2015-2016        In         Danny Ings   Tribunal (estimate)   6.0   \n",
       "80  2015-2016        In       James Milner         Free Transfer   0.0   \n",
       "81  2015-2016        In          Joe Gomez     Charlton Athletic   6.0   \n",
       "82  2015-2016        In    Nathaniel Clyne           Southampton  12.5   \n",
       "83  2015-2016        In    Roberto Firmino            Hoffenheim  29.0   \n",
       "84  2015-2016        In  Christian Benteke           Aston Villa  32.5   \n",
       "85  2015-2016       Out   Sebastian Coates            Sunderland   4.0   \n",
       "86  2015-2016       Out         Iago Aspas               Sevilla   4.4   \n",
       "87  2015-2016       Out    Raheem Sterling       Manchester City  49.0   \n",
       "88  2015-2016       Out     Rickie Lambert  West Bromwich Albion   3.0   \n",
       "89  2015-2016       Out       Fabio Borini            Sunderland  10.0   \n",
       "\n",
       "         Date  \n",
       "78 2015-07-01  \n",
       "79 2015-07-01  \n",
       "80 2015-07-01  \n",
       "81 2015-06-20  \n",
       "82 2015-07-01  \n",
       "83 2015-07-06  \n",
       "84 2015-07-22  \n",
       "85 2015-07-01  \n",
       "86 2015-06-12  \n",
       "87 2015-07-14  \n",
       "88 2015-07-31  \n",
       "89 2015-08-31  "
      ]
     },
     "execution_count": 21,
     "metadata": {},
     "output_type": "execute_result"
    }
   ],
   "source": [
    "dflfc_transfers[dflfc_transfers.Season == '2015-2016']"
   ]
  },
  {
   "cell_type": "markdown",
   "metadata": {},
   "source": [
    "What was biggest fee paid for a Liverpool player over the data period?"
   ]
  },
  {
   "cell_type": "code",
   "execution_count": 22,
   "metadata": {
    "collapsed": false
   },
   "outputs": [
    {
     "data": {
      "text/html": [
       "<div>\n",
       "<table border=\"1\" class=\"dataframe\">\n",
       "  <thead>\n",
       "    <tr style=\"text-align: right;\">\n",
       "      <th></th>\n",
       "      <th>Season</th>\n",
       "      <th>Direction</th>\n",
       "      <th>Player</th>\n",
       "      <th>Club</th>\n",
       "      <th>Fee</th>\n",
       "      <th>Date</th>\n",
       "    </tr>\n",
       "  </thead>\n",
       "  <tbody>\n",
       "    <tr>\n",
       "      <th>1</th>\n",
       "      <td>2010-2011</td>\n",
       "      <td>In</td>\n",
       "      <td>Andy Carroll</td>\n",
       "      <td>Newcastle United</td>\n",
       "      <td>35</td>\n",
       "      <td>2011-01-31</td>\n",
       "    </tr>\n",
       "  </tbody>\n",
       "</table>\n",
       "</div>"
      ],
      "text/plain": [
       "      Season Direction        Player              Club  Fee       Date\n",
       "1  2010-2011        In  Andy Carroll  Newcastle United   35 2011-01-31"
      ]
     },
     "execution_count": 22,
     "metadata": {},
     "output_type": "execute_result"
    }
   ],
   "source": [
    "dflfc_transfers_in = dflfc_transfers[dflfc_transfers.Direction == 'In']\n",
    "dflfc_transfers_in[dflfc_transfers_in.Fee == dflfc_transfers_in.Fee.max()]"
   ]
  },
  {
   "cell_type": "markdown",
   "metadata": {},
   "source": [
    "What was biggest fee received for a player?"
   ]
  },
  {
   "cell_type": "code",
   "execution_count": 23,
   "metadata": {
    "collapsed": false
   },
   "outputs": [
    {
     "data": {
      "text/html": [
       "<div>\n",
       "<table border=\"1\" class=\"dataframe\">\n",
       "  <thead>\n",
       "    <tr style=\"text-align: right;\">\n",
       "      <th></th>\n",
       "      <th>Season</th>\n",
       "      <th>Direction</th>\n",
       "      <th>Player</th>\n",
       "      <th>Club</th>\n",
       "      <th>Fee</th>\n",
       "      <th>Date</th>\n",
       "    </tr>\n",
       "  </thead>\n",
       "  <tbody>\n",
       "    <tr>\n",
       "      <th>77</th>\n",
       "      <td>2014-2015</td>\n",
       "      <td>Out</td>\n",
       "      <td>Luis Suarez</td>\n",
       "      <td>Barcelona</td>\n",
       "      <td>75</td>\n",
       "      <td>2014-07-16</td>\n",
       "    </tr>\n",
       "  </tbody>\n",
       "</table>\n",
       "</div>"
      ],
      "text/plain": [
       "       Season Direction       Player       Club  Fee       Date\n",
       "77  2014-2015       Out  Luis Suarez  Barcelona   75 2014-07-16"
      ]
     },
     "execution_count": 23,
     "metadata": {},
     "output_type": "execute_result"
    }
   ],
   "source": [
    "dflfc_transfers_out = dflfc_transfers[dflfc_transfers.Direction == 'Out']\n",
    "dflfc_transfers_out[dflfc_transfers_out.Fee == dflfc_transfers_out.Fee.max()]"
   ]
  },
  {
   "cell_type": "markdown",
   "metadata": {},
   "source": [
    "Summarise Fees In and Out"
   ]
  },
  {
   "cell_type": "code",
   "execution_count": 24,
   "metadata": {
    "collapsed": false
   },
   "outputs": [
    {
     "data": {
      "text/html": [
       "<div>\n",
       "<table border=\"1\" class=\"dataframe\">\n",
       "  <thead>\n",
       "    <tr style=\"text-align: right;\">\n",
       "      <th></th>\n",
       "      <th></th>\n",
       "      <th>Fee</th>\n",
       "    </tr>\n",
       "    <tr>\n",
       "      <th>Season</th>\n",
       "      <th>Direction</th>\n",
       "      <th></th>\n",
       "    </tr>\n",
       "  </thead>\n",
       "  <tbody>\n",
       "    <tr>\n",
       "      <th rowspan=\"2\" valign=\"top\">2010-2011</th>\n",
       "      <th>In</th>\n",
       "      <td>57.80</td>\n",
       "    </tr>\n",
       "    <tr>\n",
       "      <th>Out</th>\n",
       "      <td>55.80</td>\n",
       "    </tr>\n",
       "    <tr>\n",
       "      <th rowspan=\"2\" valign=\"top\">2011-2012</th>\n",
       "      <th>In</th>\n",
       "      <td>53.48</td>\n",
       "    </tr>\n",
       "    <tr>\n",
       "      <th>Out</th>\n",
       "      <td>24.30</td>\n",
       "    </tr>\n",
       "    <tr>\n",
       "      <th rowspan=\"2\" valign=\"top\">2012-2013</th>\n",
       "      <th>In</th>\n",
       "      <td>49.90</td>\n",
       "    </tr>\n",
       "    <tr>\n",
       "      <th>Out</th>\n",
       "      <td>15.50</td>\n",
       "    </tr>\n",
       "    <tr>\n",
       "      <th rowspan=\"2\" valign=\"top\">2013-2014</th>\n",
       "      <th>In</th>\n",
       "      <td>44.80</td>\n",
       "    </tr>\n",
       "    <tr>\n",
       "      <th>Out</th>\n",
       "      <td>28.70</td>\n",
       "    </tr>\n",
       "    <tr>\n",
       "      <th rowspan=\"2\" valign=\"top\">2014-2015</th>\n",
       "      <th>In</th>\n",
       "      <td>116.85</td>\n",
       "    </tr>\n",
       "    <tr>\n",
       "      <th>Out</th>\n",
       "      <td>88.62</td>\n",
       "    </tr>\n",
       "    <tr>\n",
       "      <th rowspan=\"2\" valign=\"top\">2015-2016</th>\n",
       "      <th>In</th>\n",
       "      <td>86.00</td>\n",
       "    </tr>\n",
       "    <tr>\n",
       "      <th>Out</th>\n",
       "      <td>70.40</td>\n",
       "    </tr>\n",
       "  </tbody>\n",
       "</table>\n",
       "</div>"
      ],
      "text/plain": [
       "                        Fee\n",
       "Season    Direction        \n",
       "2010-2011 In          57.80\n",
       "          Out         55.80\n",
       "2011-2012 In          53.48\n",
       "          Out         24.30\n",
       "2012-2013 In          49.90\n",
       "          Out         15.50\n",
       "2013-2014 In          44.80\n",
       "          Out         28.70\n",
       "2014-2015 In         116.85\n",
       "          Out         88.62\n",
       "2015-2016 In          86.00\n",
       "          Out         70.40"
      ]
     },
     "execution_count": 24,
     "metadata": {},
     "output_type": "execute_result"
    }
   ],
   "source": [
    "dflfc_transfers.groupby(['Season', 'Direction']).sum()"
   ]
  },
  {
   "cell_type": "markdown",
   "metadata": {
    "collapsed": false
   },
   "source": [
    "Show as 'unstacked' dataframe"
   ]
  },
  {
   "cell_type": "code",
   "execution_count": 25,
   "metadata": {
    "collapsed": false
   },
   "outputs": [
    {
     "data": {
      "text/html": [
       "<div>\n",
       "<table border=\"1\" class=\"dataframe\">\n",
       "  <thead>\n",
       "    <tr style=\"text-align: right;\">\n",
       "      <th></th>\n",
       "      <th>In</th>\n",
       "      <th>Out</th>\n",
       "    </tr>\n",
       "    <tr>\n",
       "      <th>Season</th>\n",
       "      <th></th>\n",
       "      <th></th>\n",
       "    </tr>\n",
       "  </thead>\n",
       "  <tbody>\n",
       "    <tr>\n",
       "      <th>2010-2011</th>\n",
       "      <td>57.80</td>\n",
       "      <td>55.80</td>\n",
       "    </tr>\n",
       "    <tr>\n",
       "      <th>2011-2012</th>\n",
       "      <td>53.48</td>\n",
       "      <td>24.30</td>\n",
       "    </tr>\n",
       "    <tr>\n",
       "      <th>2012-2013</th>\n",
       "      <td>49.90</td>\n",
       "      <td>15.50</td>\n",
       "    </tr>\n",
       "    <tr>\n",
       "      <th>2013-2014</th>\n",
       "      <td>44.80</td>\n",
       "      <td>28.70</td>\n",
       "    </tr>\n",
       "    <tr>\n",
       "      <th>2014-2015</th>\n",
       "      <td>116.85</td>\n",
       "      <td>88.62</td>\n",
       "    </tr>\n",
       "    <tr>\n",
       "      <th>2015-2016</th>\n",
       "      <td>86.00</td>\n",
       "      <td>70.40</td>\n",
       "    </tr>\n",
       "  </tbody>\n",
       "</table>\n",
       "</div>"
      ],
      "text/plain": [
       "               In    Out\n",
       "Season                  \n",
       "2010-2011   57.80  55.80\n",
       "2011-2012   53.48  24.30\n",
       "2012-2013   49.90  15.50\n",
       "2013-2014   44.80  28.70\n",
       "2014-2015  116.85  88.62\n",
       "2015-2016   86.00  70.40"
      ]
     },
     "execution_count": 25,
     "metadata": {},
     "output_type": "execute_result"
    }
   ],
   "source": [
    "df_fsg = dflfc_transfers.groupby(['Season', 'Direction']).sum().unstack()\n",
    "df_fsg.columns = df_fsg.columns.droplevel()\n",
    "del df_fsg.columns.name\n",
    "df_fsg"
   ]
  },
  {
   "cell_type": "raw",
   "metadata": {},
   "source": [
    "Calculate the net spend for the data period, Oct 2011 to Aug 2015"
   ]
  },
  {
   "cell_type": "code",
   "execution_count": 27,
   "metadata": {
    "collapsed": false
   },
   "outputs": [
    {
     "data": {
      "text/html": [
       "<div>\n",
       "<table border=\"1\" class=\"dataframe\">\n",
       "  <thead>\n",
       "    <tr style=\"text-align: right;\">\n",
       "      <th></th>\n",
       "      <th>In</th>\n",
       "      <th>Out</th>\n",
       "      <th>NetSpend</th>\n",
       "    </tr>\n",
       "    <tr>\n",
       "      <th>Season</th>\n",
       "      <th></th>\n",
       "      <th></th>\n",
       "      <th></th>\n",
       "    </tr>\n",
       "  </thead>\n",
       "  <tbody>\n",
       "    <tr>\n",
       "      <th>2010-2011</th>\n",
       "      <td>57.80</td>\n",
       "      <td>55.80</td>\n",
       "      <td>2.00</td>\n",
       "    </tr>\n",
       "    <tr>\n",
       "      <th>2011-2012</th>\n",
       "      <td>53.48</td>\n",
       "      <td>24.30</td>\n",
       "      <td>29.18</td>\n",
       "    </tr>\n",
       "    <tr>\n",
       "      <th>2012-2013</th>\n",
       "      <td>49.90</td>\n",
       "      <td>15.50</td>\n",
       "      <td>34.40</td>\n",
       "    </tr>\n",
       "    <tr>\n",
       "      <th>2013-2014</th>\n",
       "      <td>44.80</td>\n",
       "      <td>28.70</td>\n",
       "      <td>16.10</td>\n",
       "    </tr>\n",
       "    <tr>\n",
       "      <th>2014-2015</th>\n",
       "      <td>116.85</td>\n",
       "      <td>88.62</td>\n",
       "      <td>28.23</td>\n",
       "    </tr>\n",
       "    <tr>\n",
       "      <th>2015-2016</th>\n",
       "      <td>86.00</td>\n",
       "      <td>70.40</td>\n",
       "      <td>15.60</td>\n",
       "    </tr>\n",
       "  </tbody>\n",
       "</table>\n",
       "</div>"
      ],
      "text/plain": [
       "               In    Out  NetSpend\n",
       "Season                            \n",
       "2010-2011   57.80  55.80      2.00\n",
       "2011-2012   53.48  24.30     29.18\n",
       "2012-2013   49.90  15.50     34.40\n",
       "2013-2014   44.80  28.70     16.10\n",
       "2014-2015  116.85  88.62     28.23\n",
       "2015-2016   86.00  70.40     15.60"
      ]
     },
     "execution_count": 27,
     "metadata": {},
     "output_type": "execute_result"
    }
   ],
   "source": [
    "df_fsg['NetSpend'] = df_fsg.In - df_fsg.Out\n",
    "df_fsg"
   ]
  },
  {
   "cell_type": "markdown",
   "metadata": {},
   "source": [
    "Calculate total Fees and NetSpend, over the 6 seasons"
   ]
  },
  {
   "cell_type": "code",
   "execution_count": 28,
   "metadata": {
    "collapsed": false
   },
   "outputs": [
    {
     "data": {
      "text/plain": [
       "In          408.83\n",
       "Out         283.32\n",
       "NetSpend    125.51\n",
       "dtype: float64"
      ]
     },
     "execution_count": 28,
     "metadata": {},
     "output_type": "execute_result"
    }
   ],
   "source": [
    "df_fsg.sum()"
   ]
  },
  {
   "cell_type": "markdown",
   "metadata": {},
   "source": [
    "Calculate average (mean) Fees and NetSpend, over the 6 seasons"
   ]
  },
  {
   "cell_type": "code",
   "execution_count": 29,
   "metadata": {
    "collapsed": false
   },
   "outputs": [
    {
     "data": {
      "text/plain": [
       "In          68.138333\n",
       "Out         47.220000\n",
       "NetSpend    20.918333\n",
       "dtype: float64"
      ]
     },
     "execution_count": 29,
     "metadata": {},
     "output_type": "execute_result"
    }
   ],
   "source": [
    "df_fsg.mean()"
   ]
  },
  {
   "cell_type": "markdown",
   "metadata": {},
   "source": [
    "What is the the average Net Spend over last 5 seasons?"
   ]
  },
  {
   "cell_type": "code",
   "execution_count": 30,
   "metadata": {
    "collapsed": false
   },
   "outputs": [
    {
     "data": {
      "text/plain": [
       "24.701999999999995"
      ]
     },
     "execution_count": 30,
     "metadata": {},
     "output_type": "execute_result"
    }
   ],
   "source": [
    "df_fsg['2011-2012':'2015-2016'].NetSpend.mean()"
   ]
  },
  {
   "cell_type": "markdown",
   "metadata": {},
   "source": [
    "Where do most players come from?"
   ]
  },
  {
   "cell_type": "code",
   "execution_count": 31,
   "metadata": {
    "collapsed": false
   },
   "outputs": [
    {
     "data": {
      "text/plain": [
       "Southampton         4\n",
       "Free Transfer       3\n",
       "Roma                2\n",
       "Newcastle United    2\n",
       "Sunderland          2\n",
       "dtype: int64"
      ]
     },
     "execution_count": 31,
     "metadata": {},
     "output_type": "execute_result"
    }
   ],
   "source": [
    "dflfc_transfers_in.Club.value_counts().head()"
   ]
  },
  {
   "cell_type": "markdown",
   "metadata": {},
   "source": [
    "Where do most players go to?"
   ]
  },
  {
   "cell_type": "code",
   "execution_count": 32,
   "metadata": {
    "collapsed": false
   },
   "outputs": [
    {
     "data": {
      "text/plain": [
       "Free Transfer       5\n",
       "West Ham United     3\n",
       "Bolton Wanderers    2\n",
       "Chelsea             2\n",
       "Blackpool           2\n",
       "dtype: int64"
      ]
     },
     "execution_count": 32,
     "metadata": {},
     "output_type": "execute_result"
    }
   ],
   "source": [
    "dflfc_transfers_out.Club.value_counts().head()"
   ]
  },
  {
   "cell_type": "markdown",
   "metadata": {},
   "source": [
    "Which players were bought for more than £15M?"
   ]
  },
  {
   "cell_type": "code",
   "execution_count": 33,
   "metadata": {
    "collapsed": false
   },
   "outputs": [
    {
     "data": {
      "text/html": [
       "<div>\n",
       "<table border=\"1\" class=\"dataframe\">\n",
       "  <thead>\n",
       "    <tr style=\"text-align: right;\">\n",
       "      <th></th>\n",
       "      <th>Season</th>\n",
       "      <th>Direction</th>\n",
       "      <th>Player</th>\n",
       "      <th>Club</th>\n",
       "      <th>Fee</th>\n",
       "      <th>Date</th>\n",
       "    </tr>\n",
       "  </thead>\n",
       "  <tbody>\n",
       "    <tr>\n",
       "      <th>0</th>\n",
       "      <td>2010-2011</td>\n",
       "      <td>In</td>\n",
       "      <td>Luis Suarez</td>\n",
       "      <td>Ajax</td>\n",
       "      <td>22.8</td>\n",
       "      <td>2011-01-31</td>\n",
       "    </tr>\n",
       "    <tr>\n",
       "      <th>1</th>\n",
       "      <td>2010-2011</td>\n",
       "      <td>In</td>\n",
       "      <td>Andy Carroll</td>\n",
       "      <td>Newcastle United</td>\n",
       "      <td>35.0</td>\n",
       "      <td>2011-01-31</td>\n",
       "    </tr>\n",
       "    <tr>\n",
       "      <th>12</th>\n",
       "      <td>2011-2012</td>\n",
       "      <td>In</td>\n",
       "      <td>Jordan Henderson</td>\n",
       "      <td>Sunderland</td>\n",
       "      <td>16.0</td>\n",
       "      <td>2011-06-09</td>\n",
       "    </tr>\n",
       "    <tr>\n",
       "      <th>13</th>\n",
       "      <td>2011-2012</td>\n",
       "      <td>In</td>\n",
       "      <td>Stewart Downing</td>\n",
       "      <td>Aston Villa</td>\n",
       "      <td>18.5</td>\n",
       "      <td>2011-07-15</td>\n",
       "    </tr>\n",
       "    <tr>\n",
       "      <th>32</th>\n",
       "      <td>2012-2013</td>\n",
       "      <td>In</td>\n",
       "      <td>Joe Allen</td>\n",
       "      <td>Swansea City</td>\n",
       "      <td>15.0</td>\n",
       "      <td>2012-08-10</td>\n",
       "    </tr>\n",
       "    <tr>\n",
       "      <th>52</th>\n",
       "      <td>2013-2014</td>\n",
       "      <td>In</td>\n",
       "      <td>Mamadou Sakho</td>\n",
       "      <td>Paris St Germain</td>\n",
       "      <td>15.0</td>\n",
       "      <td>2013-09-02</td>\n",
       "    </tr>\n",
       "    <tr>\n",
       "      <th>65</th>\n",
       "      <td>2014-2015</td>\n",
       "      <td>In</td>\n",
       "      <td>Mario Balotelli</td>\n",
       "      <td>AC Milan</td>\n",
       "      <td>16.0</td>\n",
       "      <td>2014-08-25</td>\n",
       "    </tr>\n",
       "    <tr>\n",
       "      <th>66</th>\n",
       "      <td>2014-2015</td>\n",
       "      <td>In</td>\n",
       "      <td>Lazar Markovic</td>\n",
       "      <td>Benfica</td>\n",
       "      <td>19.8</td>\n",
       "      <td>2014-07-15</td>\n",
       "    </tr>\n",
       "    <tr>\n",
       "      <th>67</th>\n",
       "      <td>2014-2015</td>\n",
       "      <td>In</td>\n",
       "      <td>Dejan Lovren</td>\n",
       "      <td>Southampton</td>\n",
       "      <td>20.0</td>\n",
       "      <td>2014-07-27</td>\n",
       "    </tr>\n",
       "    <tr>\n",
       "      <th>68</th>\n",
       "      <td>2014-2015</td>\n",
       "      <td>In</td>\n",
       "      <td>Adam Lallana</td>\n",
       "      <td>Southampton</td>\n",
       "      <td>25.0</td>\n",
       "      <td>2014-07-01</td>\n",
       "    </tr>\n",
       "    <tr>\n",
       "      <th>83</th>\n",
       "      <td>2015-2016</td>\n",
       "      <td>In</td>\n",
       "      <td>Roberto Firmino</td>\n",
       "      <td>Hoffenheim</td>\n",
       "      <td>29.0</td>\n",
       "      <td>2015-07-06</td>\n",
       "    </tr>\n",
       "    <tr>\n",
       "      <th>84</th>\n",
       "      <td>2015-2016</td>\n",
       "      <td>In</td>\n",
       "      <td>Christian Benteke</td>\n",
       "      <td>Aston Villa</td>\n",
       "      <td>32.5</td>\n",
       "      <td>2015-07-22</td>\n",
       "    </tr>\n",
       "  </tbody>\n",
       "</table>\n",
       "</div>"
      ],
      "text/plain": [
       "       Season Direction             Player              Club   Fee       Date\n",
       "0   2010-2011        In        Luis Suarez              Ajax  22.8 2011-01-31\n",
       "1   2010-2011        In       Andy Carroll  Newcastle United  35.0 2011-01-31\n",
       "12  2011-2012        In   Jordan Henderson        Sunderland  16.0 2011-06-09\n",
       "13  2011-2012        In    Stewart Downing       Aston Villa  18.5 2011-07-15\n",
       "32  2012-2013        In          Joe Allen      Swansea City  15.0 2012-08-10\n",
       "52  2013-2014        In      Mamadou Sakho  Paris St Germain  15.0 2013-09-02\n",
       "65  2014-2015        In    Mario Balotelli          AC Milan  16.0 2014-08-25\n",
       "66  2014-2015        In     Lazar Markovic           Benfica  19.8 2014-07-15\n",
       "67  2014-2015        In       Dejan Lovren       Southampton  20.0 2014-07-27\n",
       "68  2014-2015        In       Adam Lallana       Southampton  25.0 2014-07-01\n",
       "83  2015-2016        In    Roberto Firmino        Hoffenheim  29.0 2015-07-06\n",
       "84  2015-2016        In  Christian Benteke       Aston Villa  32.5 2015-07-22"
      ]
     },
     "execution_count": 33,
     "metadata": {},
     "output_type": "execute_result"
    }
   ],
   "source": [
    "dflfc_transfers_in[dflfc_transfers_in.Fee >= 15]"
   ]
  },
  {
   "cell_type": "markdown",
   "metadata": {},
   "source": [
    "Which players were sold for more than £15M?"
   ]
  },
  {
   "cell_type": "code",
   "execution_count": 34,
   "metadata": {
    "collapsed": false
   },
   "outputs": [
    {
     "data": {
      "text/html": [
       "<div>\n",
       "<table border=\"1\" class=\"dataframe\">\n",
       "  <thead>\n",
       "    <tr style=\"text-align: right;\">\n",
       "      <th></th>\n",
       "      <th>Season</th>\n",
       "      <th>Direction</th>\n",
       "      <th>Player</th>\n",
       "      <th>Club</th>\n",
       "      <th>Fee</th>\n",
       "      <th>Date</th>\n",
       "    </tr>\n",
       "  </thead>\n",
       "  <tbody>\n",
       "    <tr>\n",
       "      <th>4</th>\n",
       "      <td>2010-2011</td>\n",
       "      <td>Out</td>\n",
       "      <td>Fernando Torres</td>\n",
       "      <td>Chelsea</td>\n",
       "      <td>50</td>\n",
       "      <td>2011-01-31</td>\n",
       "    </tr>\n",
       "    <tr>\n",
       "      <th>59</th>\n",
       "      <td>2013-2014</td>\n",
       "      <td>Out</td>\n",
       "      <td>Andy Carroll</td>\n",
       "      <td>West Ham United</td>\n",
       "      <td>15</td>\n",
       "      <td>2013-06-19</td>\n",
       "    </tr>\n",
       "    <tr>\n",
       "      <th>77</th>\n",
       "      <td>2014-2015</td>\n",
       "      <td>Out</td>\n",
       "      <td>Luis Suarez</td>\n",
       "      <td>Barcelona</td>\n",
       "      <td>75</td>\n",
       "      <td>2014-07-16</td>\n",
       "    </tr>\n",
       "    <tr>\n",
       "      <th>87</th>\n",
       "      <td>2015-2016</td>\n",
       "      <td>Out</td>\n",
       "      <td>Raheem Sterling</td>\n",
       "      <td>Manchester City</td>\n",
       "      <td>49</td>\n",
       "      <td>2015-07-14</td>\n",
       "    </tr>\n",
       "  </tbody>\n",
       "</table>\n",
       "</div>"
      ],
      "text/plain": [
       "       Season Direction           Player             Club  Fee       Date\n",
       "4   2010-2011       Out  Fernando Torres          Chelsea   50 2011-01-31\n",
       "59  2013-2014       Out     Andy Carroll  West Ham United   15 2013-06-19\n",
       "77  2014-2015       Out      Luis Suarez        Barcelona   75 2014-07-16\n",
       "87  2015-2016       Out  Raheem Sterling  Manchester City   49 2015-07-14"
      ]
     },
     "execution_count": 34,
     "metadata": {},
     "output_type": "execute_result"
    }
   ],
   "source": [
    "dflfc_transfers_out[dflfc_transfers_out.Fee >= 15]"
   ]
  },
  {
   "cell_type": "markdown",
   "metadata": {},
   "source": [
    "Plot FSG's LFC Transfers per Season for last 5 seasons (2011-12 to 2015-16)\n",
    "\n",
    "Note that the analysis is carried out in September 2015. Therefore the 2015-2016 NetSpend does not include the January 2016 tranfer window."
   ]
  },
  {
   "cell_type": "code",
   "execution_count": 35,
   "metadata": {
    "collapsed": false
   },
   "outputs": [
    {
     "data": {
      "text/html": [
       "<div>\n",
       "<table border=\"1\" class=\"dataframe\">\n",
       "  <thead>\n",
       "    <tr style=\"text-align: right;\">\n",
       "      <th></th>\n",
       "      <th>In</th>\n",
       "      <th>Out</th>\n",
       "      <th>NetSpend</th>\n",
       "    </tr>\n",
       "    <tr>\n",
       "      <th>Season</th>\n",
       "      <th></th>\n",
       "      <th></th>\n",
       "      <th></th>\n",
       "    </tr>\n",
       "  </thead>\n",
       "  <tbody>\n",
       "    <tr>\n",
       "      <th>2011-2012</th>\n",
       "      <td>53.48</td>\n",
       "      <td>24.30</td>\n",
       "      <td>29.18</td>\n",
       "    </tr>\n",
       "    <tr>\n",
       "      <th>2012-2013</th>\n",
       "      <td>49.90</td>\n",
       "      <td>15.50</td>\n",
       "      <td>34.40</td>\n",
       "    </tr>\n",
       "    <tr>\n",
       "      <th>2013-2014</th>\n",
       "      <td>44.80</td>\n",
       "      <td>28.70</td>\n",
       "      <td>16.10</td>\n",
       "    </tr>\n",
       "    <tr>\n",
       "      <th>2014-2015</th>\n",
       "      <td>116.85</td>\n",
       "      <td>88.62</td>\n",
       "      <td>28.23</td>\n",
       "    </tr>\n",
       "    <tr>\n",
       "      <th>2015-2016</th>\n",
       "      <td>86.00</td>\n",
       "      <td>70.40</td>\n",
       "      <td>15.60</td>\n",
       "    </tr>\n",
       "  </tbody>\n",
       "</table>\n",
       "</div>"
      ],
      "text/plain": [
       "               In    Out  NetSpend\n",
       "Season                            \n",
       "2011-2012   53.48  24.30     29.18\n",
       "2012-2013   49.90  15.50     34.40\n",
       "2013-2014   44.80  28.70     16.10\n",
       "2014-2015  116.85  88.62     28.23\n",
       "2015-2016   86.00  70.40     15.60"
      ]
     },
     "execution_count": 35,
     "metadata": {},
     "output_type": "execute_result"
    }
   ],
   "source": [
    "df_fsg.ix['2011-2012':]"
   ]
  },
  {
   "cell_type": "code",
   "execution_count": 36,
   "metadata": {
    "collapsed": false
   },
   "outputs": [
    {
     "name": "stdout",
     "output_type": "stream",
     "text": [
      "Average Transfer Net Spend per Season is £24.7M\n"
     ]
    },
    {
     "data": {
      "image/png": "[encoded data removed]",
      "text/plain": [
       "<matplotlib.figure.Figure at 0xba900f0>"
      ]
     },
     "metadata": {},
     "output_type": "display_data"
    }
   ],
   "source": [
    "avg_netspend = df_fsg.ix['2011-2012':].NetSpend.mean()\n",
    "print 'Average Transfer Net Spend per Season is £{}M'.format(round(avg_netspend, 1))\n",
    "ax = df_fsg.ix['2011-2012':].plot(kind='bar', figsize=(12, 9), color=('r', 'y', 'b'), legend=False)\n",
    "plt.axhline(avg_netspend, color='b', linestyle='--')\n",
    "ax.set_ylabel('Transfers in Pounds (Millions)')\n",
    "ax.set_title(\"FSG's LFC Transfers per Season for the Last 5 Seasons\\n(2011-2012 to 2015-2016)\")\n",
    "ax.text(-.4, 97, 'prepared by: @lfcsorted', fontsize=9)\n",
    "\n",
    "# create legend\n",
    "l1 = plt.Line2D([], [], linewidth=7, color='r')\n",
    "l2 = plt.Line2D([], [], linewidth=7, color='y')\n",
    "l3 = plt.Line2D([], [], linewidth=7, color='b')\n",
    "l4 = plt.Line2D([], [], linewidth=1, color='b', linestyle='--')\n",
    "labels = ['Transfers In', 'Transfers Out', 'Transfer Net Spend', 'Average Transfer Net Spend per Season']\n",
    "ax.legend([l1, l2, l3, l4], labels, fancybox=True, shadow=True, framealpha=0.8, loc='upper left')\n",
    "\n",
    "# plot and save current figure\n",
    "fig = plt.gcf() \n",
    "plt.show()\n",
    "fig.savefig('FSGTransfersPerSeason2011-2015.png', bbox_inches='tight')"
   ]
  },
  {
   "cell_type": "markdown",
   "metadata": {},
   "source": [
    "Now let's compare Liverpool's transfers to the other top 6 teams."
   ]
  },
  {
   "cell_type": "markdown",
   "metadata": {},
   "source": [
    "What is net spend per season for top 5 teams over last 5 seasons?"
   ]
  },
  {
   "cell_type": "code",
   "execution_count": 37,
   "metadata": {
    "collapsed": false
   },
   "outputs": [
    {
     "data": {
      "text/html": [
       "<div>\n",
       "<table border=\"1\" class=\"dataframe\">\n",
       "  <thead>\n",
       "    <tr style=\"text-align: right;\">\n",
       "      <th></th>\n",
       "      <th>Position</th>\n",
       "      <th>Team</th>\n",
       "      <th>Purchased</th>\n",
       "      <th>Sold</th>\n",
       "      <th>NetSpend</th>\n",
       "      <th>PerSeasonSpend</th>\n",
       "    </tr>\n",
       "  </thead>\n",
       "  <tbody>\n",
       "    <tr>\n",
       "      <th>0</th>\n",
       "      <td>1</td>\n",
       "      <td>Manchester City</td>\n",
       "      <td>472.7</td>\n",
       "      <td>150.3</td>\n",
       "      <td>322.4</td>\n",
       "      <td>64.5</td>\n",
       "    </tr>\n",
       "    <tr>\n",
       "      <th>1</th>\n",
       "      <td>2</td>\n",
       "      <td>Manchester United</td>\n",
       "      <td>405.2</td>\n",
       "      <td>139.5</td>\n",
       "      <td>265.7</td>\n",
       "      <td>53.1</td>\n",
       "    </tr>\n",
       "    <tr>\n",
       "      <th>2</th>\n",
       "      <td>4</td>\n",
       "      <td>Chelsea</td>\n",
       "      <td>461.8</td>\n",
       "      <td>246.4</td>\n",
       "      <td>215.4</td>\n",
       "      <td>43.1</td>\n",
       "    </tr>\n",
       "    <tr>\n",
       "      <th>3</th>\n",
       "      <td>3</td>\n",
       "      <td>Liverpool</td>\n",
       "      <td>349.0</td>\n",
       "      <td>186.4</td>\n",
       "      <td>162.6</td>\n",
       "      <td>32.5</td>\n",
       "    </tr>\n",
       "    <tr>\n",
       "      <th>4</th>\n",
       "      <td>5</td>\n",
       "      <td>Arsenal</td>\n",
       "      <td>253.6</td>\n",
       "      <td>154.6</td>\n",
       "      <td>99.0</td>\n",
       "      <td>19.8</td>\n",
       "    </tr>\n",
       "    <tr>\n",
       "      <th>5</th>\n",
       "      <td>6</td>\n",
       "      <td>West Ham</td>\n",
       "      <td>106.9</td>\n",
       "      <td>16.5</td>\n",
       "      <td>90.4</td>\n",
       "      <td>18.1</td>\n",
       "    </tr>\n",
       "    <tr>\n",
       "      <th>6</th>\n",
       "      <td>7</td>\n",
       "      <td>Newcastle</td>\n",
       "      <td>136.0</td>\n",
       "      <td>67.6</td>\n",
       "      <td>68.4</td>\n",
       "      <td>13.7</td>\n",
       "    </tr>\n",
       "    <tr>\n",
       "      <th>7</th>\n",
       "      <td>8</td>\n",
       "      <td>Sunderland</td>\n",
       "      <td>118.4</td>\n",
       "      <td>59.6</td>\n",
       "      <td>58.9</td>\n",
       "      <td>11.8</td>\n",
       "    </tr>\n",
       "    <tr>\n",
       "      <th>8</th>\n",
       "      <td>9</td>\n",
       "      <td>West Bromwich Albion</td>\n",
       "      <td>74.8</td>\n",
       "      <td>22.5</td>\n",
       "      <td>52.2</td>\n",
       "      <td>10.4</td>\n",
       "    </tr>\n",
       "    <tr>\n",
       "      <th>9</th>\n",
       "      <td>14</td>\n",
       "      <td>Crystal Palace</td>\n",
       "      <td>74.6</td>\n",
       "      <td>23.9</td>\n",
       "      <td>50.7</td>\n",
       "      <td>10.1</td>\n",
       "    </tr>\n",
       "    <tr>\n",
       "      <th>10</th>\n",
       "      <td>10</td>\n",
       "      <td>Leicester</td>\n",
       "      <td>55.1</td>\n",
       "      <td>8.6</td>\n",
       "      <td>46.4</td>\n",
       "      <td>9.3</td>\n",
       "    </tr>\n",
       "    <tr>\n",
       "      <th>11</th>\n",
       "      <td>11</td>\n",
       "      <td>Stoke City</td>\n",
       "      <td>70.2</td>\n",
       "      <td>24.1</td>\n",
       "      <td>46.2</td>\n",
       "      <td>9.2</td>\n",
       "    </tr>\n",
       "    <tr>\n",
       "      <th>12</th>\n",
       "      <td>15</td>\n",
       "      <td>Norwich City</td>\n",
       "      <td>63.6</td>\n",
       "      <td>19.6</td>\n",
       "      <td>43.9</td>\n",
       "      <td>8.8</td>\n",
       "    </tr>\n",
       "    <tr>\n",
       "      <th>13</th>\n",
       "      <td>12</td>\n",
       "      <td>Aston Villa</td>\n",
       "      <td>121.8</td>\n",
       "      <td>90.2</td>\n",
       "      <td>31.6</td>\n",
       "      <td>6.3</td>\n",
       "    </tr>\n",
       "    <tr>\n",
       "      <th>14</th>\n",
       "      <td>15</td>\n",
       "      <td>Bournemouth</td>\n",
       "      <td>30.6</td>\n",
       "      <td>3.2</td>\n",
       "      <td>27.4</td>\n",
       "      <td>5.5</td>\n",
       "    </tr>\n",
       "    <tr>\n",
       "      <th>15</th>\n",
       "      <td>16</td>\n",
       "      <td>Southampton</td>\n",
       "      <td>163.6</td>\n",
       "      <td>142.8</td>\n",
       "      <td>20.8</td>\n",
       "      <td>4.2</td>\n",
       "    </tr>\n",
       "    <tr>\n",
       "      <th>16</th>\n",
       "      <td>17</td>\n",
       "      <td>Swansea</td>\n",
       "      <td>79.9</td>\n",
       "      <td>66.2</td>\n",
       "      <td>13.7</td>\n",
       "      <td>2.7</td>\n",
       "    </tr>\n",
       "    <tr>\n",
       "      <th>17</th>\n",
       "      <td>18</td>\n",
       "      <td>Everton</td>\n",
       "      <td>91.8</td>\n",
       "      <td>80.8</td>\n",
       "      <td>11.0</td>\n",
       "      <td>2.2</td>\n",
       "    </tr>\n",
       "    <tr>\n",
       "      <th>18</th>\n",
       "      <td>19</td>\n",
       "      <td>Watford</td>\n",
       "      <td>12.0</td>\n",
       "      <td>15.3</td>\n",
       "      <td>-3.2</td>\n",
       "      <td>-0.6</td>\n",
       "    </tr>\n",
       "    <tr>\n",
       "      <th>19</th>\n",
       "      <td>20</td>\n",
       "      <td>Tottenham Hotspur</td>\n",
       "      <td>254.6</td>\n",
       "      <td>291.4</td>\n",
       "      <td>-36.7</td>\n",
       "      <td>-7.3</td>\n",
       "    </tr>\n",
       "  </tbody>\n",
       "</table>\n",
       "</div>"
      ],
      "text/plain": [
       "    Position                  Team  Purchased   Sold  NetSpend  PerSeasonSpend\n",
       "0          1       Manchester City      472.7  150.3     322.4            64.5\n",
       "1          2     Manchester United      405.2  139.5     265.7            53.1\n",
       "2          4               Chelsea      461.8  246.4     215.4            43.1\n",
       "3          3             Liverpool      349.0  186.4     162.6            32.5\n",
       "4          5               Arsenal      253.6  154.6      99.0            19.8\n",
       "5          6              West Ham      106.9   16.5      90.4            18.1\n",
       "6          7             Newcastle      136.0   67.6      68.4            13.7\n",
       "7          8            Sunderland      118.4   59.6      58.9            11.8\n",
       "8          9  West Bromwich Albion       74.8   22.5      52.2            10.4\n",
       "9         14        Crystal Palace       74.6   23.9      50.7            10.1\n",
       "10        10             Leicester       55.1    8.6      46.4             9.3\n",
       "11        11            Stoke City       70.2   24.1      46.2             9.2\n",
       "12        15          Norwich City       63.6   19.6      43.9             8.8\n",
       "13        12           Aston Villa      121.8   90.2      31.6             6.3\n",
       "14        15           Bournemouth       30.6    3.2      27.4             5.5\n",
       "15        16           Southampton      163.6  142.8      20.8             4.2\n",
       "16        17               Swansea       79.9   66.2      13.7             2.7\n",
       "17        18               Everton       91.8   80.8      11.0             2.2\n",
       "18        19               Watford       12.0   15.3      -3.2            -0.6\n",
       "19        20     Tottenham Hotspur      254.6  291.4     -36.7            -7.3"
      ]
     },
     "execution_count": 37,
     "metadata": {},
     "output_type": "execute_result"
    }
   ],
   "source": [
    "dfprem_transfers"
   ]
  },
  {
   "cell_type": "code",
   "execution_count": 39,
   "metadata": {
    "collapsed": false
   },
   "outputs": [
    {
     "data": {
      "text/html": [
       "<div>\n",
       "<table border=\"1\" class=\"dataframe\">\n",
       "  <thead>\n",
       "    <tr style=\"text-align: right;\">\n",
       "      <th></th>\n",
       "      <th>Team</th>\n",
       "      <th>PerSeasonSpend</th>\n",
       "    </tr>\n",
       "  </thead>\n",
       "  <tbody>\n",
       "    <tr>\n",
       "      <th>0</th>\n",
       "      <td>Manchester City</td>\n",
       "      <td>64.5</td>\n",
       "    </tr>\n",
       "    <tr>\n",
       "      <th>1</th>\n",
       "      <td>Manchester United</td>\n",
       "      <td>53.1</td>\n",
       "    </tr>\n",
       "    <tr>\n",
       "      <th>2</th>\n",
       "      <td>Chelsea</td>\n",
       "      <td>43.1</td>\n",
       "    </tr>\n",
       "    <tr>\n",
       "      <th>3</th>\n",
       "      <td>Liverpool</td>\n",
       "      <td>32.5</td>\n",
       "    </tr>\n",
       "    <tr>\n",
       "      <th>4</th>\n",
       "      <td>Arsenal</td>\n",
       "      <td>19.8</td>\n",
       "    </tr>\n",
       "    <tr>\n",
       "      <th>19</th>\n",
       "      <td>Tottenham Hotspur</td>\n",
       "      <td>-7.3</td>\n",
       "    </tr>\n",
       "  </tbody>\n",
       "</table>\n",
       "</div>"
      ],
      "text/plain": [
       "                 Team  PerSeasonSpend\n",
       "0     Manchester City            64.5\n",
       "1   Manchester United            53.1\n",
       "2             Chelsea            43.1\n",
       "3           Liverpool            32.5\n",
       "4             Arsenal            19.8\n",
       "19  Tottenham Hotspur            -7.3"
      ]
     },
     "execution_count": 39,
     "metadata": {},
     "output_type": "execute_result"
    }
   ],
   "source": [
    "top6_2014_15 = [ 'Chelsea', 'Manchester City', 'Manchester United', 'Arsenal', 'Tottenham Hotspur', 'Liverpool']\n",
    "df_prem_transfers_top6 = dfprem_transfers[['Team', 'PerSeasonSpend']][dfprem_transfers.Team.isin(top6_2014_15)]\n",
    "df_prem_transfers_top6"
   ]
  },
  {
   "cell_type": "markdown",
   "metadata": {},
   "source": [
    "Plot Top 6 Premier League Teams Average Transfer Net Spend per Season for Last 5 Seasons"
   ]
  },
  {
   "cell_type": "code",
   "execution_count": 40,
   "metadata": {
    "collapsed": false
   },
   "outputs": [
    {
     "data": {
      "image/png": "[encoded data removed]",
      "text/plain": [
       "<matplotlib.figure.Figure at 0xba8fc50>"
      ]
     },
     "metadata": {},
     "output_type": "display_data"
    }
   ],
   "source": [
    "ax = df_prem_transfers_top6.plot(x='Team', kind='bar', figsize=(12, 9), color=('b', 'b', 'b', 'r', 'b', 'b'), legend=False)\n",
    "ax.set_ylabel('Net Spend per Season in Pounds (Millions)')\n",
    "ax.set_title(\"Top 6 Premier League Teams Average Transfer Net Spend per Season for Last 5 Seasons\\n(2011-2012 to 2015-2016)\")\n",
    "plt.axhline(0, color='grey') # x axis at net spend = 0\n",
    "ax.text(-0.45, -9, 'prepared by: @lfcsorted', fontsize=9)\n",
    "\n",
    "# plot and save current figure\n",
    "fig = plt.gcf() \n",
    "plt.show()\n",
    "fig.savefig('PremTransferSpendPerSeason2011-2015.png', bbox_inches='tight')"
   ]
  },
  {
   "cell_type": "markdown",
   "metadata": {},
   "source": [
    "What is the revenue of top 6 premier league clubs?"
   ]
  },
  {
   "cell_type": "code",
   "execution_count": 42,
   "metadata": {
    "collapsed": false
   },
   "outputs": [
    {
     "data": {
      "text/html": [
       "<div>\n",
       "<table border=\"1\" class=\"dataframe\">\n",
       "  <thead>\n",
       "    <tr style=\"text-align: right;\">\n",
       "      <th></th>\n",
       "      <th>Revenue</th>\n",
       "    </tr>\n",
       "    <tr>\n",
       "      <th>Team</th>\n",
       "      <th></th>\n",
       "    </tr>\n",
       "  </thead>\n",
       "  <tbody>\n",
       "    <tr>\n",
       "      <th>Manchester United</th>\n",
       "      <td>433.2</td>\n",
       "    </tr>\n",
       "    <tr>\n",
       "      <th>Manchester City</th>\n",
       "      <td>346.5</td>\n",
       "    </tr>\n",
       "    <tr>\n",
       "      <th>Chelsea</th>\n",
       "      <td>324.4</td>\n",
       "    </tr>\n",
       "    <tr>\n",
       "      <th>Arsenal</th>\n",
       "      <td>300.5</td>\n",
       "    </tr>\n",
       "    <tr>\n",
       "      <th>Liverpool</th>\n",
       "      <td>255.8</td>\n",
       "    </tr>\n",
       "    <tr>\n",
       "      <th>Tottenham Hotspur</th>\n",
       "      <td>180.5</td>\n",
       "    </tr>\n",
       "  </tbody>\n",
       "</table>\n",
       "</div>"
      ],
      "text/plain": [
       "                   Revenue\n",
       "Team                      \n",
       "Manchester United    433.2\n",
       "Manchester City      346.5\n",
       "Chelsea              324.4\n",
       "Arsenal              300.5\n",
       "Liverpool            255.8\n",
       "Tottenham Hotspur    180.5"
      ]
     },
     "execution_count": 42,
     "metadata": {},
     "output_type": "execute_result"
    }
   ],
   "source": [
    "df_revenue.head(6)"
   ]
  },
  {
   "cell_type": "markdown",
   "metadata": {},
   "source": [
    "Plot Top 6 English Premier League Teams by Revenue"
   ]
  },
  {
   "cell_type": "code",
   "execution_count": 43,
   "metadata": {
    "collapsed": false
   },
   "outputs": [
    {
     "data": {
      "image/png": "[encoded data removed]",
      "text/plain": [
       "<matplotlib.figure.Figure at 0xba80cf8>"
      ]
     },
     "metadata": {},
     "output_type": "display_data"
    }
   ],
   "source": [
    "ax = df_revenue.plot(kind='bar', figsize=(12, 9), color=('b', 'b', 'b', 'b', 'r', 'b'), legend=False)\n",
    "ax.set_ylabel('Revenue in Pounds (Millions)')\n",
    "ax.set_title('Top 6 English Premier League Teams by Revenue (2014)')\n",
    "ax.text(4.45, 440, 'prepared by: @lfcsorted', fontsize=9)\n",
    "\n",
    "# plot and save current figure\n",
    "fig = plt.gcf() \n",
    "plt.show()\n",
    "fig.savefig('PremRevenue2014.png', bbox_inches='tight')"
   ]
  },
  {
   "cell_type": "markdown",
   "metadata": {},
   "source": [
    "Let's now examine the age of the LIverpool transfers"
   ]
  },
  {
   "cell_type": "markdown",
   "metadata": {},
   "source": [
    "First create new transfer dataframe with birthdate of player"
   ]
  },
  {
   "cell_type": "code",
   "execution_count": 44,
   "metadata": {
    "collapsed": false
   },
   "outputs": [
    {
     "data": {
      "text/html": [
       "<div>\n",
       "<table border=\"1\" class=\"dataframe\">\n",
       "  <thead>\n",
       "    <tr style=\"text-align: right;\">\n",
       "      <th></th>\n",
       "      <th>Season</th>\n",
       "      <th>Direction</th>\n",
       "      <th>Player</th>\n",
       "      <th>Club</th>\n",
       "      <th>Fee</th>\n",
       "      <th>Date</th>\n",
       "    </tr>\n",
       "  </thead>\n",
       "  <tbody>\n",
       "    <tr>\n",
       "      <th>0</th>\n",
       "      <td>2010-2011</td>\n",
       "      <td>In</td>\n",
       "      <td>Luis Suarez</td>\n",
       "      <td>Ajax</td>\n",
       "      <td>22.8</td>\n",
       "      <td>2011-01-31</td>\n",
       "    </tr>\n",
       "    <tr>\n",
       "      <th>1</th>\n",
       "      <td>2010-2011</td>\n",
       "      <td>In</td>\n",
       "      <td>Andy Carroll</td>\n",
       "      <td>Newcastle United</td>\n",
       "      <td>35.0</td>\n",
       "      <td>2011-01-31</td>\n",
       "    </tr>\n",
       "    <tr>\n",
       "      <th>2</th>\n",
       "      <td>2010-2011</td>\n",
       "      <td>Out</td>\n",
       "      <td>Charles Itandje</td>\n",
       "      <td>Atromitos</td>\n",
       "      <td>0.0</td>\n",
       "      <td>2011-01-01</td>\n",
       "    </tr>\n",
       "    <tr>\n",
       "      <th>3</th>\n",
       "      <td>2010-2011</td>\n",
       "      <td>Out</td>\n",
       "      <td>Ryan Babel</td>\n",
       "      <td>Hoffenheim</td>\n",
       "      <td>5.8</td>\n",
       "      <td>2011-01-25</td>\n",
       "    </tr>\n",
       "    <tr>\n",
       "      <th>4</th>\n",
       "      <td>2010-2011</td>\n",
       "      <td>Out</td>\n",
       "      <td>Fernando Torres</td>\n",
       "      <td>Chelsea</td>\n",
       "      <td>50.0</td>\n",
       "      <td>2011-01-31</td>\n",
       "    </tr>\n",
       "  </tbody>\n",
       "</table>\n",
       "</div>"
      ],
      "text/plain": [
       "      Season Direction           Player              Club   Fee       Date\n",
       "0  2010-2011        In      Luis Suarez              Ajax  22.8 2011-01-31\n",
       "1  2010-2011        In     Andy Carroll  Newcastle United  35.0 2011-01-31\n",
       "2  2010-2011       Out  Charles Itandje         Atromitos   0.0 2011-01-01\n",
       "3  2010-2011       Out       Ryan Babel        Hoffenheim   5.8 2011-01-25\n",
       "4  2010-2011       Out  Fernando Torres           Chelsea  50.0 2011-01-31"
      ]
     },
     "execution_count": 44,
     "metadata": {},
     "output_type": "execute_result"
    }
   ],
   "source": [
    "dflfc_transfers.head()"
   ]
  },
  {
   "cell_type": "code",
   "execution_count": 45,
   "metadata": {
    "collapsed": false
   },
   "outputs": [
    {
     "data": {
      "text/plain": [
       "(90, 6)"
      ]
     },
     "execution_count": 45,
     "metadata": {},
     "output_type": "execute_result"
    }
   ],
   "source": [
    "dflfc_transfers.shape"
   ]
  },
  {
   "cell_type": "code",
   "execution_count": 46,
   "metadata": {
    "collapsed": false
   },
   "outputs": [
    {
     "data": {
      "text/html": [
       "<div>\n",
       "<table border=\"1\" class=\"dataframe\">\n",
       "  <thead>\n",
       "    <tr style=\"text-align: right;\">\n",
       "      <th></th>\n",
       "      <th>Player</th>\n",
       "      <th>Birthdate</th>\n",
       "      <th>Country</th>\n",
       "    </tr>\n",
       "  </thead>\n",
       "  <tbody>\n",
       "    <tr>\n",
       "      <th>0</th>\n",
       "      <td>Gary Ablett</td>\n",
       "      <td>1965-11-19</td>\n",
       "      <td>England</td>\n",
       "    </tr>\n",
       "    <tr>\n",
       "      <th>1</th>\n",
       "      <td>Alan A'Court</td>\n",
       "      <td>1934-09-30</td>\n",
       "      <td>England</td>\n",
       "    </tr>\n",
       "    <tr>\n",
       "      <th>2</th>\n",
       "      <td>Charlie Adam</td>\n",
       "      <td>1985-12-10</td>\n",
       "      <td>Scotland</td>\n",
       "    </tr>\n",
       "    <tr>\n",
       "      <th>3</th>\n",
       "      <td>Daniel Agger</td>\n",
       "      <td>1984-12-12</td>\n",
       "      <td>Denmark</td>\n",
       "    </tr>\n",
       "    <tr>\n",
       "      <th>4</th>\n",
       "      <td>Andrew Aitken</td>\n",
       "      <td>1909-08-25</td>\n",
       "      <td>England</td>\n",
       "    </tr>\n",
       "  </tbody>\n",
       "</table>\n",
       "</div>"
      ],
      "text/plain": [
       "          Player  Birthdate   Country\n",
       "0    Gary Ablett 1965-11-19   England\n",
       "1   Alan A'Court 1934-09-30   England\n",
       "2   Charlie Adam 1985-12-10  Scotland\n",
       "3   Daniel Agger 1984-12-12   Denmark\n",
       "4  Andrew Aitken 1909-08-25   England"
      ]
     },
     "execution_count": 46,
     "metadata": {},
     "output_type": "execute_result"
    }
   ],
   "source": [
    "dflfc_players.head()"
   ]
  },
  {
   "cell_type": "code",
   "execution_count": 47,
   "metadata": {
    "collapsed": false
   },
   "outputs": [
    {
     "data": {
      "text/plain": [
       "(90, 8)"
      ]
     },
     "execution_count": 47,
     "metadata": {},
     "output_type": "execute_result"
    }
   ],
   "source": [
    "dflfc_transfers_with_dob = pd.DataFrame.merge(dflfc_transfers, dflfc_players, how='left')\n",
    "dflfc_transfers_with_dob.shape"
   ]
  },
  {
   "cell_type": "code",
   "execution_count": 48,
   "metadata": {
    "collapsed": false
   },
   "outputs": [
    {
     "data": {
      "text/html": [
       "<div>\n",
       "<table border=\"1\" class=\"dataframe\">\n",
       "  <thead>\n",
       "    <tr style=\"text-align: right;\">\n",
       "      <th></th>\n",
       "      <th>Season</th>\n",
       "      <th>Direction</th>\n",
       "      <th>Player</th>\n",
       "      <th>Club</th>\n",
       "      <th>Fee</th>\n",
       "      <th>Date</th>\n",
       "      <th>Birthdate</th>\n",
       "      <th>Country</th>\n",
       "    </tr>\n",
       "  </thead>\n",
       "  <tbody>\n",
       "    <tr>\n",
       "      <th>0</th>\n",
       "      <td>2010-2011</td>\n",
       "      <td>In</td>\n",
       "      <td>Luis Suarez</td>\n",
       "      <td>Ajax</td>\n",
       "      <td>22.8</td>\n",
       "      <td>2011-01-31</td>\n",
       "      <td>1987-01-24</td>\n",
       "      <td>Uruguay</td>\n",
       "    </tr>\n",
       "    <tr>\n",
       "      <th>1</th>\n",
       "      <td>2010-2011</td>\n",
       "      <td>In</td>\n",
       "      <td>Andy Carroll</td>\n",
       "      <td>Newcastle United</td>\n",
       "      <td>35.0</td>\n",
       "      <td>2011-01-31</td>\n",
       "      <td>1989-01-06</td>\n",
       "      <td>England</td>\n",
       "    </tr>\n",
       "    <tr>\n",
       "      <th>2</th>\n",
       "      <td>2010-2011</td>\n",
       "      <td>Out</td>\n",
       "      <td>Charles Itandje</td>\n",
       "      <td>Atromitos</td>\n",
       "      <td>0.0</td>\n",
       "      <td>2011-01-01</td>\n",
       "      <td>1982-11-02</td>\n",
       "      <td>France</td>\n",
       "    </tr>\n",
       "    <tr>\n",
       "      <th>3</th>\n",
       "      <td>2010-2011</td>\n",
       "      <td>Out</td>\n",
       "      <td>Ryan Babel</td>\n",
       "      <td>Hoffenheim</td>\n",
       "      <td>5.8</td>\n",
       "      <td>2011-01-25</td>\n",
       "      <td>1986-12-19</td>\n",
       "      <td>Netherlands</td>\n",
       "    </tr>\n",
       "    <tr>\n",
       "      <th>4</th>\n",
       "      <td>2010-2011</td>\n",
       "      <td>Out</td>\n",
       "      <td>Fernando Torres</td>\n",
       "      <td>Chelsea</td>\n",
       "      <td>50.0</td>\n",
       "      <td>2011-01-31</td>\n",
       "      <td>1984-03-20</td>\n",
       "      <td>Spain</td>\n",
       "    </tr>\n",
       "  </tbody>\n",
       "</table>\n",
       "</div>"
      ],
      "text/plain": [
       "      Season Direction           Player              Club   Fee       Date  \\\n",
       "0  2010-2011        In      Luis Suarez              Ajax  22.8 2011-01-31   \n",
       "1  2010-2011        In     Andy Carroll  Newcastle United  35.0 2011-01-31   \n",
       "2  2010-2011       Out  Charles Itandje         Atromitos   0.0 2011-01-01   \n",
       "3  2010-2011       Out       Ryan Babel        Hoffenheim   5.8 2011-01-25   \n",
       "4  2010-2011       Out  Fernando Torres           Chelsea  50.0 2011-01-31   \n",
       "\n",
       "   Birthdate      Country  \n",
       "0 1987-01-24      Uruguay  \n",
       "1 1989-01-06      England  \n",
       "2 1982-11-02       France  \n",
       "3 1986-12-19  Netherlands  \n",
       "4 1984-03-20        Spain  "
      ]
     },
     "execution_count": 48,
     "metadata": {},
     "output_type": "execute_result"
    }
   ],
   "source": [
    "dflfc_transfers_with_dob.head()"
   ]
  },
  {
   "cell_type": "code",
   "execution_count": 49,
   "metadata": {
    "collapsed": false
   },
   "outputs": [
    {
     "data": {
      "text/plain": [
       "Season               object\n",
       "Direction            object\n",
       "Player               object\n",
       "Club                 object\n",
       "Fee                 float64\n",
       "Date         datetime64[ns]\n",
       "Birthdate    datetime64[ns]\n",
       "Country              object\n",
       "dtype: object"
      ]
     },
     "execution_count": 49,
     "metadata": {},
     "output_type": "execute_result"
    }
   ],
   "source": [
    "dflfc_transfers_with_dob.dtypes"
   ]
  },
  {
   "cell_type": "code",
   "execution_count": 50,
   "metadata": {
    "collapsed": false
   },
   "outputs": [
    {
     "data": {
      "text/plain": [
       "True"
      ]
     },
     "execution_count": 50,
     "metadata": {},
     "output_type": "execute_result"
    }
   ],
   "source": [
    "# check to see if any Birthdates are missing\n",
    "dflfc_transfers_with_dob.Birthdate.isnull().any()"
   ]
  },
  {
   "cell_type": "code",
   "execution_count": 51,
   "metadata": {
    "collapsed": false
   },
   "outputs": [
    {
     "data": {
      "text/html": [
       "<div>\n",
       "<table border=\"1\" class=\"dataframe\">\n",
       "  <thead>\n",
       "    <tr style=\"text-align: right;\">\n",
       "      <th></th>\n",
       "      <th>Season</th>\n",
       "      <th>Direction</th>\n",
       "      <th>Player</th>\n",
       "      <th>Club</th>\n",
       "      <th>Fee</th>\n",
       "      <th>Date</th>\n",
       "      <th>Birthdate</th>\n",
       "      <th>Country</th>\n",
       "    </tr>\n",
       "  </thead>\n",
       "  <tbody>\n",
       "    <tr>\n",
       "      <th>20</th>\n",
       "      <td>2011-2012</td>\n",
       "      <td>Out</td>\n",
       "      <td>Chris Mavinga</td>\n",
       "      <td>Rennes</td>\n",
       "      <td>1</td>\n",
       "      <td>2011-07-19</td>\n",
       "      <td>NaT</td>\n",
       "      <td>NaN</td>\n",
       "    </tr>\n",
       "    <tr>\n",
       "      <th>69</th>\n",
       "      <td>2014-2015</td>\n",
       "      <td>Out</td>\n",
       "      <td>Kristoffer Peterson</td>\n",
       "      <td>Utrecht</td>\n",
       "      <td>0</td>\n",
       "      <td>2014-08-27</td>\n",
       "      <td>NaT</td>\n",
       "      <td>NaN</td>\n",
       "    </tr>\n",
       "  </tbody>\n",
       "</table>\n",
       "</div>"
      ],
      "text/plain": [
       "       Season Direction               Player     Club  Fee       Date  \\\n",
       "20  2011-2012       Out        Chris Mavinga   Rennes    1 2011-07-19   \n",
       "69  2014-2015       Out  Kristoffer Peterson  Utrecht    0 2014-08-27   \n",
       "\n",
       "   Birthdate Country  \n",
       "20       NaT     NaN  \n",
       "69       NaT     NaN  "
      ]
     },
     "execution_count": 51,
     "metadata": {},
     "output_type": "execute_result"
    }
   ],
   "source": [
    "# show missing entries (these have been reported to lfchistory.net)\n",
    "dflfc_transfers_with_dob[dflfc_transfers_with_dob.Birthdate.isnull()]"
   ]
  },
  {
   "cell_type": "code",
   "execution_count": 52,
   "metadata": {
    "collapsed": false
   },
   "outputs": [
    {
     "data": {
      "text/html": [
       "<div>\n",
       "<table border=\"1\" class=\"dataframe\">\n",
       "  <thead>\n",
       "    <tr style=\"text-align: right;\">\n",
       "      <th></th>\n",
       "      <th>Season</th>\n",
       "      <th>Direction</th>\n",
       "      <th>Player</th>\n",
       "      <th>Club</th>\n",
       "      <th>Fee</th>\n",
       "      <th>Date</th>\n",
       "      <th>Birthdate</th>\n",
       "      <th>Country</th>\n",
       "    </tr>\n",
       "  </thead>\n",
       "  <tbody>\n",
       "    <tr>\n",
       "      <th>20</th>\n",
       "      <td>2011-2012</td>\n",
       "      <td>Out</td>\n",
       "      <td>Chris Mavinga</td>\n",
       "      <td>Rennes</td>\n",
       "      <td>1</td>\n",
       "      <td>2011-07-19</td>\n",
       "      <td>1991-05-26</td>\n",
       "      <td>France</td>\n",
       "    </tr>\n",
       "    <tr>\n",
       "      <th>69</th>\n",
       "      <td>2014-2015</td>\n",
       "      <td>Out</td>\n",
       "      <td>Kristoffer Peterson</td>\n",
       "      <td>Utrecht</td>\n",
       "      <td>0</td>\n",
       "      <td>2014-08-27</td>\n",
       "      <td>1994-11-28</td>\n",
       "      <td>Sweden</td>\n",
       "    </tr>\n",
       "  </tbody>\n",
       "</table>\n",
       "</div>"
      ],
      "text/plain": [
       "       Season Direction               Player     Club  Fee       Date  \\\n",
       "20  2011-2012       Out        Chris Mavinga   Rennes    1 2011-07-19   \n",
       "69  2014-2015       Out  Kristoffer Peterson  Utrecht    0 2014-08-27   \n",
       "\n",
       "    Birthdate Country  \n",
       "20 1991-05-26  France  \n",
       "69 1994-11-28  Sweden  "
      ]
     },
     "execution_count": 52,
     "metadata": {},
     "output_type": "execute_result"
    }
   ],
   "source": [
    "# fill in mising data\n",
    "dflfc_transfers_with_dob.loc[dflfc_transfers_with_dob.Player == 'Chris Mavinga', 'Country'] = 'France'\n",
    "dflfc_transfers_with_dob.loc[dflfc_transfers_with_dob.Player == 'Chris Mavinga', 'Birthdate'] = pd.Timestamp('19910526')\n",
    "dflfc_transfers_with_dob.loc[dflfc_transfers_with_dob.Player == 'Kristoffer Peterson', 'Country'] = 'Sweden'\n",
    "dflfc_transfers_with_dob.loc[dflfc_transfers_with_dob.Player == 'Kristoffer Peterson', 'Birthdate'] = pd.Timestamp('19941128')\n",
    "dflfc_transfers_with_dob[(dflfc_transfers_with_dob.Player == 'Chris Mavinga') | \n",
    "                         (dflfc_transfers_with_dob.Player == 'Kristoffer Peterson')]"
   ]
  },
  {
   "cell_type": "markdown",
   "metadata": {},
   "source": [
    "Add age at transfer date to the dataframe"
   ]
  },
  {
   "cell_type": "code",
   "execution_count": 53,
   "metadata": {
    "collapsed": false
   },
   "outputs": [],
   "source": [
    "def age_at(dob, this_date):\n",
    "    \"\"\"Return age in years at this_date for given date of birth.\n",
    "    \n",
    "    Note that both dob and this_date are of type datetime.\"\"\"\n",
    "    \n",
    "    return round((this_date - dob).days/365.0, 1)"
   ]
  },
  {
   "cell_type": "code",
   "execution_count": 54,
   "metadata": {
    "collapsed": false,
    "scrolled": true
   },
   "outputs": [
    {
     "data": {
      "text/html": [
       "<div>\n",
       "<table border=\"1\" class=\"dataframe\">\n",
       "  <thead>\n",
       "    <tr style=\"text-align: right;\">\n",
       "      <th></th>\n",
       "      <th>Season</th>\n",
       "      <th>Direction</th>\n",
       "      <th>Player</th>\n",
       "      <th>Club</th>\n",
       "      <th>Fee</th>\n",
       "      <th>Date</th>\n",
       "      <th>Birthdate</th>\n",
       "      <th>Country</th>\n",
       "      <th>AgeAtTransfer</th>\n",
       "    </tr>\n",
       "  </thead>\n",
       "  <tbody>\n",
       "    <tr>\n",
       "      <th>85</th>\n",
       "      <td>2015-2016</td>\n",
       "      <td>Out</td>\n",
       "      <td>Sebastian Coates</td>\n",
       "      <td>Sunderland</td>\n",
       "      <td>4.0</td>\n",
       "      <td>2015-07-01</td>\n",
       "      <td>1990-10-07</td>\n",
       "      <td>Uruguay</td>\n",
       "      <td>24.7</td>\n",
       "    </tr>\n",
       "    <tr>\n",
       "      <th>86</th>\n",
       "      <td>2015-2016</td>\n",
       "      <td>Out</td>\n",
       "      <td>Iago Aspas</td>\n",
       "      <td>Sevilla</td>\n",
       "      <td>4.4</td>\n",
       "      <td>2015-06-12</td>\n",
       "      <td>1987-08-01</td>\n",
       "      <td>Spain</td>\n",
       "      <td>27.9</td>\n",
       "    </tr>\n",
       "    <tr>\n",
       "      <th>87</th>\n",
       "      <td>2015-2016</td>\n",
       "      <td>Out</td>\n",
       "      <td>Raheem Sterling</td>\n",
       "      <td>Manchester City</td>\n",
       "      <td>49.0</td>\n",
       "      <td>2015-07-14</td>\n",
       "      <td>1994-12-08</td>\n",
       "      <td>Jamaica</td>\n",
       "      <td>20.6</td>\n",
       "    </tr>\n",
       "    <tr>\n",
       "      <th>88</th>\n",
       "      <td>2015-2016</td>\n",
       "      <td>Out</td>\n",
       "      <td>Rickie Lambert</td>\n",
       "      <td>West Bromwich Albion</td>\n",
       "      <td>3.0</td>\n",
       "      <td>2015-07-31</td>\n",
       "      <td>1982-02-16</td>\n",
       "      <td>England</td>\n",
       "      <td>33.5</td>\n",
       "    </tr>\n",
       "    <tr>\n",
       "      <th>89</th>\n",
       "      <td>2015-2016</td>\n",
       "      <td>Out</td>\n",
       "      <td>Fabio Borini</td>\n",
       "      <td>Sunderland</td>\n",
       "      <td>10.0</td>\n",
       "      <td>2015-08-31</td>\n",
       "      <td>1991-03-29</td>\n",
       "      <td>Italy</td>\n",
       "      <td>24.4</td>\n",
       "    </tr>\n",
       "  </tbody>\n",
       "</table>\n",
       "</div>"
      ],
      "text/plain": [
       "       Season Direction            Player                  Club   Fee  \\\n",
       "85  2015-2016       Out  Sebastian Coates            Sunderland   4.0   \n",
       "86  2015-2016       Out        Iago Aspas               Sevilla   4.4   \n",
       "87  2015-2016       Out   Raheem Sterling       Manchester City  49.0   \n",
       "88  2015-2016       Out    Rickie Lambert  West Bromwich Albion   3.0   \n",
       "89  2015-2016       Out      Fabio Borini            Sunderland  10.0   \n",
       "\n",
       "         Date  Birthdate  Country  AgeAtTransfer  \n",
       "85 2015-07-01 1990-10-07  Uruguay           24.7  \n",
       "86 2015-06-12 1987-08-01    Spain           27.9  \n",
       "87 2015-07-14 1994-12-08  Jamaica           20.6  \n",
       "88 2015-07-31 1982-02-16  England           33.5  \n",
       "89 2015-08-31 1991-03-29    Italy           24.4  "
      ]
     },
     "execution_count": 54,
     "metadata": {},
     "output_type": "execute_result"
    }
   ],
   "source": [
    "dflfc_transfers_with_dob['AgeAtTransfer'] = dflfc_transfers_with_dob.apply(lambda row: age_at(row.Birthdate, row.Date), axis=1)\n",
    "dflfc_transfers_with_dob.tail()"
   ]
  },
  {
   "cell_type": "markdown",
   "metadata": {},
   "source": [
    "What is average age of incoming players by season?"
   ]
  },
  {
   "cell_type": "markdown",
   "metadata": {},
   "source": [
    "Average age of all transfers in, including free"
   ]
  },
  {
   "cell_type": "code",
   "execution_count": 55,
   "metadata": {
    "collapsed": false
   },
   "outputs": [
    {
     "data": {
      "text/plain": [
       "23.749999999999996"
      ]
     },
     "execution_count": 55,
     "metadata": {},
     "output_type": "execute_result"
    }
   ],
   "source": [
    "dflfc_transfers_with_dob[(dflfc_transfers_with_dob.Direction == 'In') & \n",
    "                         (dflfc_transfers_with_dob.Fee >= 0)]\\\n",
    "                        ['AgeAtTransfer'].mean()"
   ]
  },
  {
   "cell_type": "markdown",
   "metadata": {},
   "source": [
    "Average age of all transfers in, excluding free"
   ]
  },
  {
   "cell_type": "code",
   "execution_count": 56,
   "metadata": {
    "collapsed": false
   },
   "outputs": [
    {
     "data": {
      "text/plain": [
       "22.757575757575758"
      ]
     },
     "execution_count": 56,
     "metadata": {},
     "output_type": "execute_result"
    }
   ],
   "source": [
    "dflfc_transfers_with_dob[(dflfc_transfers_with_dob.Direction == 'In') & \n",
    "                         (dflfc_transfers_with_dob.Fee > 0)]\\\n",
    "                        ['AgeAtTransfer'].mean()"
   ]
  },
  {
   "cell_type": "markdown",
   "metadata": {},
   "source": [
    "Average age of all transfers in, excluding free, by season"
   ]
  },
  {
   "cell_type": "code",
   "execution_count": 57,
   "metadata": {
    "collapsed": false
   },
   "outputs": [
    {
     "data": {
      "text/html": [
       "<div>\n",
       "<table border=\"1\" class=\"dataframe\">\n",
       "  <thead>\n",
       "    <tr style=\"text-align: right;\">\n",
       "      <th></th>\n",
       "      <th>AgeAtTransfer</th>\n",
       "    </tr>\n",
       "    <tr>\n",
       "      <th>Season</th>\n",
       "      <th></th>\n",
       "    </tr>\n",
       "  </thead>\n",
       "  <tbody>\n",
       "    <tr>\n",
       "      <th>2010-2011</th>\n",
       "      <td>23.050000</td>\n",
       "    </tr>\n",
       "    <tr>\n",
       "      <th>2011-2012</th>\n",
       "      <td>22.157143</td>\n",
       "    </tr>\n",
       "    <tr>\n",
       "      <th>2012-2013</th>\n",
       "      <td>21.666667</td>\n",
       "    </tr>\n",
       "    <tr>\n",
       "      <th>2013-2014</th>\n",
       "      <td>23.200000</td>\n",
       "    </tr>\n",
       "    <tr>\n",
       "      <th>2014-2015</th>\n",
       "      <td>23.750000</td>\n",
       "    </tr>\n",
       "    <tr>\n",
       "      <th>2015-2016</th>\n",
       "      <td>22.760000</td>\n",
       "    </tr>\n",
       "  </tbody>\n",
       "</table>\n",
       "</div>"
      ],
      "text/plain": [
       "           AgeAtTransfer\n",
       "Season                  \n",
       "2010-2011      23.050000\n",
       "2011-2012      22.157143\n",
       "2012-2013      21.666667\n",
       "2013-2014      23.200000\n",
       "2014-2015      23.750000\n",
       "2015-2016      22.760000"
      ]
     },
     "execution_count": 57,
     "metadata": {},
     "output_type": "execute_result"
    }
   ],
   "source": [
    "dflfc_transfers_with_dob[(dflfc_transfers_with_dob.Direction == 'In') & \n",
    "                         (dflfc_transfers_with_dob.Fee > 0)]\\\n",
    "                        [['Season', 'AgeAtTransfer']].groupby('Season').mean()"
   ]
  },
  {
   "cell_type": "markdown",
   "metadata": {},
   "source": [
    "Average age of all transfers in, including free, by season (rounded)"
   ]
  },
  {
   "cell_type": "code",
   "execution_count": 58,
   "metadata": {
    "collapsed": false
   },
   "outputs": [
    {
     "data": {
      "text/html": [
       "<div>\n",
       "<table border=\"1\" class=\"dataframe\">\n",
       "  <thead>\n",
       "    <tr style=\"text-align: right;\">\n",
       "      <th></th>\n",
       "      <th>AgeAtTransfer</th>\n",
       "    </tr>\n",
       "    <tr>\n",
       "      <th>Season</th>\n",
       "      <th></th>\n",
       "    </tr>\n",
       "  </thead>\n",
       "  <tbody>\n",
       "    <tr>\n",
       "      <th>2010-2011</th>\n",
       "      <td>23.1</td>\n",
       "    </tr>\n",
       "    <tr>\n",
       "      <th>2011-2012</th>\n",
       "      <td>24.3</td>\n",
       "    </tr>\n",
       "    <tr>\n",
       "      <th>2012-2013</th>\n",
       "      <td>22.0</td>\n",
       "    </tr>\n",
       "    <tr>\n",
       "      <th>2013-2014</th>\n",
       "      <td>24.6</td>\n",
       "    </tr>\n",
       "    <tr>\n",
       "      <th>2014-2015</th>\n",
       "      <td>23.4</td>\n",
       "    </tr>\n",
       "    <tr>\n",
       "      <th>2015-2016</th>\n",
       "      <td>24.4</td>\n",
       "    </tr>\n",
       "  </tbody>\n",
       "</table>\n",
       "</div>"
      ],
      "text/plain": [
       "           AgeAtTransfer\n",
       "Season                  \n",
       "2010-2011           23.1\n",
       "2011-2012           24.3\n",
       "2012-2013           22.0\n",
       "2013-2014           24.6\n",
       "2014-2015           23.4\n",
       "2015-2016           24.4"
      ]
     },
     "execution_count": 58,
     "metadata": {},
     "output_type": "execute_result"
    }
   ],
   "source": [
    "dflfc_transfers_with_dob[dflfc_transfers_with_dob.Direction == 'In']\\\n",
    "[['Season', 'AgeAtTransfer']].groupby('Season').agg(lambda x: round(x.mean(), 1))"
   ]
  },
  {
   "cell_type": "markdown",
   "metadata": {},
   "source": [
    "Plot age at transfer in"
   ]
  },
  {
   "cell_type": "code",
   "execution_count": 59,
   "metadata": {
    "collapsed": false
   },
   "outputs": [
    {
     "data": {
      "text/plain": [
       "<matplotlib.axes._subplots.AxesSubplot at 0xba80898>"
      ]
     },
     "execution_count": 59,
     "metadata": {},
     "output_type": "execute_result"
    },
    {
     "data": {
      "image/png": "[encoded data removed]",
      "text/plain": [
       "<matplotlib.figure.Figure at 0xc0572b0>"
      ]
     },
     "metadata": {},
     "output_type": "display_data"
    }
   ],
   "source": [
    "dflfc_transfers_with_dob[dflfc_transfers_with_dob.Direction == 'In']\\\n",
    "[['Season', 'AgeAtTransfer']].groupby('Season').agg(lambda x: round(x.mean(), 1)).plot(kind='bar', legend=False, \n",
    "                                                                                      title='Age at Transfer In')"
   ]
  },
  {
   "cell_type": "markdown",
   "metadata": {},
   "source": [
    "What is average age of incoming and outgoing players by season"
   ]
  },
  {
   "cell_type": "code",
   "execution_count": 60,
   "metadata": {
    "collapsed": false
   },
   "outputs": [
    {
     "data": {
      "text/plain": [
       "<matplotlib.axes._subplots.AxesSubplot at 0xc0f3b00>"
      ]
     },
     "execution_count": 60,
     "metadata": {},
     "output_type": "execute_result"
    },
    {
     "data": {
      "image/png": "[encoded data removed]",
      "text/plain": [
       "<matplotlib.figure.Figure at 0xc0f3c18>"
      ]
     },
     "metadata": {},
     "output_type": "display_data"
    }
   ],
   "source": [
    "dflfc_transfers_with_dob[['Season', 'Direction', 'AgeAtTransfer']].groupby(['Season', 'Direction'])\\\n",
    "    .agg(lambda x: round(x.mean(), 1)).unstack()\\\n",
    "    .plot(kind='bar', title='Age at Transfer', ylim=(0,40), yticks=range(0,35,5))"
   ]
  },
  {
   "cell_type": "markdown",
   "metadata": {},
   "source": [
    "Excluding free"
   ]
  },
  {
   "cell_type": "code",
   "execution_count": 61,
   "metadata": {
    "collapsed": false
   },
   "outputs": [
    {
     "data": {
      "text/plain": [
       "<matplotlib.axes._subplots.AxesSubplot at 0xce27358>"
      ]
     },
     "execution_count": 61,
     "metadata": {},
     "output_type": "execute_result"
    },
    {
     "data": {
      "image/png": "[encoded data removed]",
      "text/plain": [
       "<matplotlib.figure.Figure at 0xce414e0>"
      ]
     },
     "metadata": {},
     "output_type": "display_data"
    }
   ],
   "source": [
    "dflfc_transfers_with_dob[dflfc_transfers_with_dob.Fee > 0][['Season', 'Direction', 'AgeAtTransfer']].groupby(['Season', 'Direction'])\\\n",
    "    .agg(lambda x: round(x.mean(), 1)).unstack()\\\n",
    "    .plot(kind='bar', title='Age at Transfer (non-zero)', ylim=(0,40), yticks=range(0,35,5))"
   ]
  },
  {
   "cell_type": "code",
   "execution_count": 62,
   "metadata": {
    "collapsed": false
   },
   "outputs": [
    {
     "data": {
      "text/html": [
       "<div>\n",
       "<table border=\"1\" class=\"dataframe\">\n",
       "  <thead>\n",
       "    <tr style=\"text-align: right;\">\n",
       "      <th></th>\n",
       "      <th></th>\n",
       "      <th>AgeAtTransfer</th>\n",
       "    </tr>\n",
       "    <tr>\n",
       "      <th>Season</th>\n",
       "      <th>Direction</th>\n",
       "      <th></th>\n",
       "    </tr>\n",
       "  </thead>\n",
       "  <tbody>\n",
       "    <tr>\n",
       "      <th rowspan=\"2\" valign=\"top\">2010-2011</th>\n",
       "      <th>In</th>\n",
       "      <td>23.1</td>\n",
       "    </tr>\n",
       "    <tr>\n",
       "      <th>Out</th>\n",
       "      <td>26.4</td>\n",
       "    </tr>\n",
       "    <tr>\n",
       "      <th rowspan=\"2\" valign=\"top\">2011-2012</th>\n",
       "      <th>In</th>\n",
       "      <td>24.3</td>\n",
       "    </tr>\n",
       "    <tr>\n",
       "      <th>Out</th>\n",
       "      <td>26.0</td>\n",
       "    </tr>\n",
       "    <tr>\n",
       "      <th rowspan=\"2\" valign=\"top\">2012-2013</th>\n",
       "      <th>In</th>\n",
       "      <td>22.0</td>\n",
       "    </tr>\n",
       "    <tr>\n",
       "      <th>Out</th>\n",
       "      <td>28.3</td>\n",
       "    </tr>\n",
       "    <tr>\n",
       "      <th rowspan=\"2\" valign=\"top\">2013-2014</th>\n",
       "      <th>In</th>\n",
       "      <td>24.6</td>\n",
       "    </tr>\n",
       "    <tr>\n",
       "      <th>Out</th>\n",
       "      <td>23.6</td>\n",
       "    </tr>\n",
       "    <tr>\n",
       "      <th rowspan=\"2\" valign=\"top\">2014-2015</th>\n",
       "      <th>In</th>\n",
       "      <td>23.4</td>\n",
       "    </tr>\n",
       "    <tr>\n",
       "      <th>Out</th>\n",
       "      <td>24.8</td>\n",
       "    </tr>\n",
       "    <tr>\n",
       "      <th rowspan=\"2\" valign=\"top\">2015-2016</th>\n",
       "      <th>In</th>\n",
       "      <td>24.4</td>\n",
       "    </tr>\n",
       "    <tr>\n",
       "      <th>Out</th>\n",
       "      <td>26.2</td>\n",
       "    </tr>\n",
       "  </tbody>\n",
       "</table>\n",
       "</div>"
      ],
      "text/plain": [
       "                     AgeAtTransfer\n",
       "Season    Direction               \n",
       "2010-2011 In                  23.1\n",
       "          Out                 26.4\n",
       "2011-2012 In                  24.3\n",
       "          Out                 26.0\n",
       "2012-2013 In                  22.0\n",
       "          Out                 28.3\n",
       "2013-2014 In                  24.6\n",
       "          Out                 23.6\n",
       "2014-2015 In                  23.4\n",
       "          Out                 24.8\n",
       "2015-2016 In                  24.4\n",
       "          Out                 26.2"
      ]
     },
     "execution_count": 62,
     "metadata": {},
     "output_type": "execute_result"
    }
   ],
   "source": [
    "dflfc_transfers_with_dob[['Season', 'Direction', 'AgeAtTransfer']].groupby(['Season', 'Direction']).agg(lambda x: round(x.mean(), 1))"
   ]
  },
  {
   "cell_type": "code",
   "execution_count": 63,
   "metadata": {
    "collapsed": false
   },
   "outputs": [
    {
     "data": {
      "text/html": [
       "<div>\n",
       "<table border=\"1\" class=\"dataframe\">\n",
       "  <thead>\n",
       "    <tr style=\"text-align: right;\">\n",
       "      <th></th>\n",
       "      <th></th>\n",
       "      <th>AgeAtTransfer</th>\n",
       "    </tr>\n",
       "    <tr>\n",
       "      <th>Season</th>\n",
       "      <th>Direction</th>\n",
       "      <th></th>\n",
       "    </tr>\n",
       "  </thead>\n",
       "  <tbody>\n",
       "    <tr>\n",
       "      <th rowspan=\"2\" valign=\"top\">2010-2011</th>\n",
       "      <th>In</th>\n",
       "      <td>23.1</td>\n",
       "    </tr>\n",
       "    <tr>\n",
       "      <th>Out</th>\n",
       "      <td>25.5</td>\n",
       "    </tr>\n",
       "    <tr>\n",
       "      <th rowspan=\"2\" valign=\"top\">2011-2012</th>\n",
       "      <th>In</th>\n",
       "      <td>22.2</td>\n",
       "    </tr>\n",
       "    <tr>\n",
       "      <th>Out</th>\n",
       "      <td>24.5</td>\n",
       "    </tr>\n",
       "    <tr>\n",
       "      <th rowspan=\"2\" valign=\"top\">2012-2013</th>\n",
       "      <th>In</th>\n",
       "      <td>21.7</td>\n",
       "    </tr>\n",
       "    <tr>\n",
       "      <th>Out</th>\n",
       "      <td>28.8</td>\n",
       "    </tr>\n",
       "    <tr>\n",
       "      <th rowspan=\"2\" valign=\"top\">2013-2014</th>\n",
       "      <th>In</th>\n",
       "      <td>23.2</td>\n",
       "    </tr>\n",
       "    <tr>\n",
       "      <th>Out</th>\n",
       "      <td>24.9</td>\n",
       "    </tr>\n",
       "    <tr>\n",
       "      <th rowspan=\"2\" valign=\"top\">2014-2015</th>\n",
       "      <th>In</th>\n",
       "      <td>23.7</td>\n",
       "    </tr>\n",
       "    <tr>\n",
       "      <th>Out</th>\n",
       "      <td>25.4</td>\n",
       "    </tr>\n",
       "    <tr>\n",
       "      <th rowspan=\"2\" valign=\"top\">2015-2016</th>\n",
       "      <th>In</th>\n",
       "      <td>22.8</td>\n",
       "    </tr>\n",
       "    <tr>\n",
       "      <th>Out</th>\n",
       "      <td>26.2</td>\n",
       "    </tr>\n",
       "  </tbody>\n",
       "</table>\n",
       "</div>"
      ],
      "text/plain": [
       "                     AgeAtTransfer\n",
       "Season    Direction               \n",
       "2010-2011 In                  23.1\n",
       "          Out                 25.5\n",
       "2011-2012 In                  22.2\n",
       "          Out                 24.5\n",
       "2012-2013 In                  21.7\n",
       "          Out                 28.8\n",
       "2013-2014 In                  23.2\n",
       "          Out                 24.9\n",
       "2014-2015 In                  23.7\n",
       "          Out                 25.4\n",
       "2015-2016 In                  22.8\n",
       "          Out                 26.2"
      ]
     },
     "execution_count": 63,
     "metadata": {},
     "output_type": "execute_result"
    }
   ],
   "source": [
    "dflfc_transfers_with_dob[dflfc_transfers_with_dob.Fee > 0][['Season', 'Direction', 'AgeAtTransfer']].groupby(['Season', 'Direction']).agg(lambda x: round(x.mean(), 1))"
   ]
  },
  {
   "cell_type": "markdown",
   "metadata": {},
   "source": [
    "#### Note that Outs do not include players leaving at end of contract e.g. Gerrard or those retiring e.g. Carragher"
   ]
  },
  {
   "cell_type": "markdown",
   "metadata": {},
   "source": [
    "Analyse age of starting line-ups over last 3 seasons"
   ]
  },
  {
   "cell_type": "code",
   "execution_count": 64,
   "metadata": {
    "collapsed": false
   },
   "outputs": [
    {
     "data": {
      "text/plain": [
       "(66, 5)"
      ]
     },
     "execution_count": 64,
     "metadata": {},
     "output_type": "execute_result"
    }
   ],
   "source": [
    "LFC_GAME1_CSV_FILE = 'data\\lfc_pl_opening_games_aug2015.csv'\n",
    "dflfc_openers = pd.read_csv(LFC_GAME1_CSV_FILE, parse_dates=['Date'])\n",
    "\n",
    "# show shape\n",
    "dflfc_openers.shape"
   ]
  },
  {
   "cell_type": "code",
   "execution_count": 65,
   "metadata": {
    "collapsed": false
   },
   "outputs": [
    {
     "data": {
      "text/html": [
       "<div>\n",
       "<table border=\"1\" class=\"dataframe\">\n",
       "  <thead>\n",
       "    <tr style=\"text-align: right;\">\n",
       "      <th></th>\n",
       "      <th>Season</th>\n",
       "      <th>Player</th>\n",
       "      <th>Opposition</th>\n",
       "      <th>Venue</th>\n",
       "      <th>Date</th>\n",
       "    </tr>\n",
       "  </thead>\n",
       "  <tbody>\n",
       "    <tr>\n",
       "      <th>61</th>\n",
       "      <td>2010-2011</td>\n",
       "      <td>Joe Cole</td>\n",
       "      <td>Arsenal</td>\n",
       "      <td>Home</td>\n",
       "      <td>2010-08-15</td>\n",
       "    </tr>\n",
       "    <tr>\n",
       "      <th>62</th>\n",
       "      <td>2010-2011</td>\n",
       "      <td>Javier Mascherano</td>\n",
       "      <td>Arsenal</td>\n",
       "      <td>Home</td>\n",
       "      <td>2010-08-15</td>\n",
       "    </tr>\n",
       "    <tr>\n",
       "      <th>63</th>\n",
       "      <td>2010-2011</td>\n",
       "      <td>Milan Jovanovic</td>\n",
       "      <td>Arsenal</td>\n",
       "      <td>Home</td>\n",
       "      <td>2010-08-15</td>\n",
       "    </tr>\n",
       "    <tr>\n",
       "      <th>64</th>\n",
       "      <td>2010-2011</td>\n",
       "      <td>Dirk Kuyt</td>\n",
       "      <td>Arsenal</td>\n",
       "      <td>Home</td>\n",
       "      <td>2010-08-15</td>\n",
       "    </tr>\n",
       "    <tr>\n",
       "      <th>65</th>\n",
       "      <td>2010-2011</td>\n",
       "      <td>David N'Gog</td>\n",
       "      <td>Arsenal</td>\n",
       "      <td>Home</td>\n",
       "      <td>2010-08-15</td>\n",
       "    </tr>\n",
       "  </tbody>\n",
       "</table>\n",
       "</div>"
      ],
      "text/plain": [
       "       Season             Player Opposition Venue       Date\n",
       "61  2010-2011           Joe Cole    Arsenal  Home 2010-08-15\n",
       "62  2010-2011  Javier Mascherano    Arsenal  Home 2010-08-15\n",
       "63  2010-2011    Milan Jovanovic    Arsenal  Home 2010-08-15\n",
       "64  2010-2011          Dirk Kuyt    Arsenal  Home 2010-08-15\n",
       "65  2010-2011        David N'Gog    Arsenal  Home 2010-08-15"
      ]
     },
     "execution_count": 65,
     "metadata": {},
     "output_type": "execute_result"
    }
   ],
   "source": [
    "dflfc_openers.tail()"
   ]
  },
  {
   "cell_type": "markdown",
   "metadata": {},
   "source": [
    "Add age at opening game"
   ]
  },
  {
   "cell_type": "code",
   "execution_count": 66,
   "metadata": {
    "collapsed": false
   },
   "outputs": [
    {
     "data": {
      "text/plain": [
       "(66, 6)"
      ]
     },
     "execution_count": 66,
     "metadata": {},
     "output_type": "execute_result"
    }
   ],
   "source": [
    "dflfc_openers = pd.DataFrame.merge(dflfc_openers, dflfc_players[['Player', 'Birthdate']], how='left')\n",
    "dflfc_openers.shape"
   ]
  },
  {
   "cell_type": "code",
   "execution_count": 67,
   "metadata": {
    "collapsed": false
   },
   "outputs": [
    {
     "data": {
      "text/html": [
       "<div>\n",
       "<table border=\"1\" class=\"dataframe\">\n",
       "  <thead>\n",
       "    <tr style=\"text-align: right;\">\n",
       "      <th></th>\n",
       "      <th>Season</th>\n",
       "      <th>Player</th>\n",
       "      <th>Opposition</th>\n",
       "      <th>Venue</th>\n",
       "      <th>Date</th>\n",
       "      <th>Birthdate</th>\n",
       "    </tr>\n",
       "  </thead>\n",
       "  <tbody>\n",
       "    <tr>\n",
       "      <th>0</th>\n",
       "      <td>2015-2016</td>\n",
       "      <td>Simon Mignolet</td>\n",
       "      <td>Stoke</td>\n",
       "      <td>Away</td>\n",
       "      <td>2015-08-09</td>\n",
       "      <td>1988-03-06</td>\n",
       "    </tr>\n",
       "    <tr>\n",
       "      <th>1</th>\n",
       "      <td>2015-2016</td>\n",
       "      <td>Nathaniel Clyne</td>\n",
       "      <td>Stoke</td>\n",
       "      <td>Away</td>\n",
       "      <td>2015-08-09</td>\n",
       "      <td>1991-04-05</td>\n",
       "    </tr>\n",
       "    <tr>\n",
       "      <th>2</th>\n",
       "      <td>2015-2016</td>\n",
       "      <td>Dejan Lovren</td>\n",
       "      <td>Stoke</td>\n",
       "      <td>Away</td>\n",
       "      <td>2015-08-09</td>\n",
       "      <td>1989-07-05</td>\n",
       "    </tr>\n",
       "    <tr>\n",
       "      <th>3</th>\n",
       "      <td>2015-2016</td>\n",
       "      <td>Joe Gomez</td>\n",
       "      <td>Stoke</td>\n",
       "      <td>Away</td>\n",
       "      <td>2015-08-09</td>\n",
       "      <td>1997-05-23</td>\n",
       "    </tr>\n",
       "    <tr>\n",
       "      <th>4</th>\n",
       "      <td>2015-2016</td>\n",
       "      <td>Martin Skrtel</td>\n",
       "      <td>Stoke</td>\n",
       "      <td>Away</td>\n",
       "      <td>2015-08-09</td>\n",
       "      <td>1984-12-15</td>\n",
       "    </tr>\n",
       "  </tbody>\n",
       "</table>\n",
       "</div>"
      ],
      "text/plain": [
       "      Season           Player Opposition Venue       Date  Birthdate\n",
       "0  2015-2016   Simon Mignolet      Stoke  Away 2015-08-09 1988-03-06\n",
       "1  2015-2016  Nathaniel Clyne      Stoke  Away 2015-08-09 1991-04-05\n",
       "2  2015-2016     Dejan Lovren      Stoke  Away 2015-08-09 1989-07-05\n",
       "3  2015-2016        Joe Gomez      Stoke  Away 2015-08-09 1997-05-23\n",
       "4  2015-2016    Martin Skrtel      Stoke  Away 2015-08-09 1984-12-15"
      ]
     },
     "execution_count": 67,
     "metadata": {},
     "output_type": "execute_result"
    }
   ],
   "source": [
    "dflfc_openers.head()"
   ]
  },
  {
   "cell_type": "code",
   "execution_count": 68,
   "metadata": {
    "collapsed": false
   },
   "outputs": [
    {
     "data": {
      "text/html": [
       "<div>\n",
       "<table border=\"1\" class=\"dataframe\">\n",
       "  <thead>\n",
       "    <tr style=\"text-align: right;\">\n",
       "      <th></th>\n",
       "      <th>Season</th>\n",
       "      <th>Player</th>\n",
       "      <th>Opposition</th>\n",
       "      <th>Venue</th>\n",
       "      <th>Date</th>\n",
       "      <th>Birthdate</th>\n",
       "      <th>AgeAtOpener</th>\n",
       "    </tr>\n",
       "  </thead>\n",
       "  <tbody>\n",
       "    <tr>\n",
       "      <th>61</th>\n",
       "      <td>2010-2011</td>\n",
       "      <td>Joe Cole</td>\n",
       "      <td>Arsenal</td>\n",
       "      <td>Home</td>\n",
       "      <td>2010-08-15</td>\n",
       "      <td>1981-11-08</td>\n",
       "      <td>28.8</td>\n",
       "    </tr>\n",
       "    <tr>\n",
       "      <th>62</th>\n",
       "      <td>2010-2011</td>\n",
       "      <td>Javier Mascherano</td>\n",
       "      <td>Arsenal</td>\n",
       "      <td>Home</td>\n",
       "      <td>2010-08-15</td>\n",
       "      <td>1984-06-08</td>\n",
       "      <td>26.2</td>\n",
       "    </tr>\n",
       "    <tr>\n",
       "      <th>63</th>\n",
       "      <td>2010-2011</td>\n",
       "      <td>Milan Jovanovic</td>\n",
       "      <td>Arsenal</td>\n",
       "      <td>Home</td>\n",
       "      <td>2010-08-15</td>\n",
       "      <td>1981-04-18</td>\n",
       "      <td>29.3</td>\n",
       "    </tr>\n",
       "    <tr>\n",
       "      <th>64</th>\n",
       "      <td>2010-2011</td>\n",
       "      <td>Dirk Kuyt</td>\n",
       "      <td>Arsenal</td>\n",
       "      <td>Home</td>\n",
       "      <td>2010-08-15</td>\n",
       "      <td>1980-07-22</td>\n",
       "      <td>30.1</td>\n",
       "    </tr>\n",
       "    <tr>\n",
       "      <th>65</th>\n",
       "      <td>2010-2011</td>\n",
       "      <td>David N'Gog</td>\n",
       "      <td>Arsenal</td>\n",
       "      <td>Home</td>\n",
       "      <td>2010-08-15</td>\n",
       "      <td>1989-04-01</td>\n",
       "      <td>21.4</td>\n",
       "    </tr>\n",
       "  </tbody>\n",
       "</table>\n",
       "</div>"
      ],
      "text/plain": [
       "       Season             Player Opposition Venue       Date  Birthdate  \\\n",
       "61  2010-2011           Joe Cole    Arsenal  Home 2010-08-15 1981-11-08   \n",
       "62  2010-2011  Javier Mascherano    Arsenal  Home 2010-08-15 1984-06-08   \n",
       "63  2010-2011    Milan Jovanovic    Arsenal  Home 2010-08-15 1981-04-18   \n",
       "64  2010-2011          Dirk Kuyt    Arsenal  Home 2010-08-15 1980-07-22   \n",
       "65  2010-2011        David N'Gog    Arsenal  Home 2010-08-15 1989-04-01   \n",
       "\n",
       "    AgeAtOpener  \n",
       "61         28.8  \n",
       "62         26.2  \n",
       "63         29.3  \n",
       "64         30.1  \n",
       "65         21.4  "
      ]
     },
     "execution_count": 68,
     "metadata": {},
     "output_type": "execute_result"
    }
   ],
   "source": [
    "dflfc_openers['AgeAtOpener'] = dflfc_openers.apply(lambda row: age_at(row.Birthdate, row.Date), axis=1)\n",
    "dflfc_openers.tail()"
   ]
  },
  {
   "cell_type": "markdown",
   "metadata": {},
   "source": [
    "Calculate average age of team"
   ]
  },
  {
   "cell_type": "code",
   "execution_count": 69,
   "metadata": {
    "collapsed": false,
    "scrolled": true
   },
   "outputs": [
    {
     "data": {
      "text/html": [
       "<div>\n",
       "<table border=\"1\" class=\"dataframe\">\n",
       "  <thead>\n",
       "    <tr style=\"text-align: right;\">\n",
       "      <th></th>\n",
       "      <th>AgeAtOpener</th>\n",
       "    </tr>\n",
       "    <tr>\n",
       "      <th>Season</th>\n",
       "      <th></th>\n",
       "    </tr>\n",
       "  </thead>\n",
       "  <tbody>\n",
       "    <tr>\n",
       "      <th>2010-2011</th>\n",
       "      <td>27.6</td>\n",
       "    </tr>\n",
       "    <tr>\n",
       "      <th>2011-2012</th>\n",
       "      <td>25.4</td>\n",
       "    </tr>\n",
       "    <tr>\n",
       "      <th>2012-2013</th>\n",
       "      <td>26.5</td>\n",
       "    </tr>\n",
       "    <tr>\n",
       "      <th>2013-2014</th>\n",
       "      <td>27.0</td>\n",
       "    </tr>\n",
       "    <tr>\n",
       "      <th>2014-2015</th>\n",
       "      <td>25.9</td>\n",
       "    </tr>\n",
       "    <tr>\n",
       "      <th>2015-2016</th>\n",
       "      <td>25.1</td>\n",
       "    </tr>\n",
       "  </tbody>\n",
       "</table>\n",
       "</div>"
      ],
      "text/plain": [
       "           AgeAtOpener\n",
       "Season                \n",
       "2010-2011         27.6\n",
       "2011-2012         25.4\n",
       "2012-2013         26.5\n",
       "2013-2014         27.0\n",
       "2014-2015         25.9\n",
       "2015-2016         25.1"
      ]
     },
     "execution_count": 69,
     "metadata": {},
     "output_type": "execute_result"
    }
   ],
   "source": [
    "dflfc_openers[['Season', 'AgeAtOpener']].groupby('Season').agg(lambda x: round(x.mean(), 1))"
   ]
  },
  {
   "cell_type": "code",
   "execution_count": 70,
   "metadata": {
    "collapsed": false
   },
   "outputs": [
    {
     "data": {
      "text/plain": [
       "<matplotlib.axes._subplots.AxesSubplot at 0xd132ac8>"
      ]
     },
     "execution_count": 70,
     "metadata": {},
     "output_type": "execute_result"
    },
    {
     "data": {
      "image/png": "[encoded data removed]",
      "text/plain": [
       "<matplotlib.figure.Figure at 0xbe9f7b8>"
      ]
     },
     "metadata": {},
     "output_type": "display_data"
    }
   ],
   "source": [
    "dflfc_openers[['Season', 'AgeAtOpener']].groupby('Season').agg(lambda x: round(x.mean(), 1)).plot(kind='bar', ylim=(24,28))"
   ]
  },
  {
   "cell_type": "code",
   "execution_count": 71,
   "metadata": {
    "collapsed": false
   },
   "outputs": [
    {
     "data": {
      "text/html": [
       "<div>\n",
       "<table border=\"1\" class=\"dataframe\">\n",
       "  <thead>\n",
       "    <tr style=\"text-align: right;\">\n",
       "      <th></th>\n",
       "      <th>Season</th>\n",
       "      <th>Player</th>\n",
       "      <th>Fee</th>\n",
       "      <th>AgeAtTransfer</th>\n",
       "    </tr>\n",
       "  </thead>\n",
       "  <tbody>\n",
       "    <tr>\n",
       "      <th>0</th>\n",
       "      <td>2010-2011</td>\n",
       "      <td>Luis Suarez</td>\n",
       "      <td>22.80</td>\n",
       "      <td>24.0</td>\n",
       "    </tr>\n",
       "    <tr>\n",
       "      <th>1</th>\n",
       "      <td>2010-2011</td>\n",
       "      <td>Andy Carroll</td>\n",
       "      <td>35.00</td>\n",
       "      <td>22.1</td>\n",
       "    </tr>\n",
       "    <tr>\n",
       "      <th>5</th>\n",
       "      <td>2011-2012</td>\n",
       "      <td>Alexander Doni</td>\n",
       "      <td>0.00</td>\n",
       "      <td>31.8</td>\n",
       "    </tr>\n",
       "    <tr>\n",
       "      <th>6</th>\n",
       "      <td>2011-2012</td>\n",
       "      <td>Craig Bellamy</td>\n",
       "      <td>0.00</td>\n",
       "      <td>32.2</td>\n",
       "    </tr>\n",
       "    <tr>\n",
       "      <th>7</th>\n",
       "      <td>2011-2012</td>\n",
       "      <td>Jordon Ibe</td>\n",
       "      <td>0.50</td>\n",
       "      <td>16.0</td>\n",
       "    </tr>\n",
       "    <tr>\n",
       "      <th>8</th>\n",
       "      <td>2011-2012</td>\n",
       "      <td>Joao Carlos Teixeira</td>\n",
       "      <td>0.83</td>\n",
       "      <td>19.0</td>\n",
       "    </tr>\n",
       "    <tr>\n",
       "      <th>9</th>\n",
       "      <td>2011-2012</td>\n",
       "      <td>Sebastian Coates</td>\n",
       "      <td>4.90</td>\n",
       "      <td>20.9</td>\n",
       "    </tr>\n",
       "    <tr>\n",
       "      <th>10</th>\n",
       "      <td>2011-2012</td>\n",
       "      <td>Jose Enrique</td>\n",
       "      <td>6.00</td>\n",
       "      <td>25.6</td>\n",
       "    </tr>\n",
       "    <tr>\n",
       "      <th>11</th>\n",
       "      <td>2011-2012</td>\n",
       "      <td>Charlie Adam</td>\n",
       "      <td>6.75</td>\n",
       "      <td>25.6</td>\n",
       "    </tr>\n",
       "    <tr>\n",
       "      <th>12</th>\n",
       "      <td>2011-2012</td>\n",
       "      <td>Jordan Henderson</td>\n",
       "      <td>16.00</td>\n",
       "      <td>21.0</td>\n",
       "    </tr>\n",
       "    <tr>\n",
       "      <th>13</th>\n",
       "      <td>2011-2012</td>\n",
       "      <td>Stewart Downing</td>\n",
       "      <td>18.50</td>\n",
       "      <td>27.0</td>\n",
       "    </tr>\n",
       "    <tr>\n",
       "      <th>26</th>\n",
       "      <td>2012-2013</td>\n",
       "      <td>Nuri Sahin</td>\n",
       "      <td>0.00</td>\n",
       "      <td>24.0</td>\n",
       "    </tr>\n",
       "    <tr>\n",
       "      <th>27</th>\n",
       "      <td>2012-2013</td>\n",
       "      <td>Samed Yesil</td>\n",
       "      <td>1.00</td>\n",
       "      <td>18.3</td>\n",
       "    </tr>\n",
       "    <tr>\n",
       "      <th>28</th>\n",
       "      <td>2012-2013</td>\n",
       "      <td>Oussama Assaidi</td>\n",
       "      <td>3.00</td>\n",
       "      <td>24.0</td>\n",
       "    </tr>\n",
       "    <tr>\n",
       "      <th>29</th>\n",
       "      <td>2012-2013</td>\n",
       "      <td>Philippe Coutinho</td>\n",
       "      <td>8.50</td>\n",
       "      <td>20.6</td>\n",
       "    </tr>\n",
       "    <tr>\n",
       "      <th>30</th>\n",
       "      <td>2012-2013</td>\n",
       "      <td>Fabio Borini</td>\n",
       "      <td>10.40</td>\n",
       "      <td>21.3</td>\n",
       "    </tr>\n",
       "    <tr>\n",
       "      <th>31</th>\n",
       "      <td>2012-2013</td>\n",
       "      <td>Daniel Sturridge</td>\n",
       "      <td>12.00</td>\n",
       "      <td>23.4</td>\n",
       "    </tr>\n",
       "    <tr>\n",
       "      <th>32</th>\n",
       "      <td>2012-2013</td>\n",
       "      <td>Joe Allen</td>\n",
       "      <td>15.00</td>\n",
       "      <td>22.4</td>\n",
       "    </tr>\n",
       "    <tr>\n",
       "      <th>45</th>\n",
       "      <td>2013-2014</td>\n",
       "      <td>Kolo Toure</td>\n",
       "      <td>0.00</td>\n",
       "      <td>32.3</td>\n",
       "    </tr>\n",
       "    <tr>\n",
       "      <th>46</th>\n",
       "      <td>2013-2014</td>\n",
       "      <td>Aly Cissokho</td>\n",
       "      <td>0.00</td>\n",
       "      <td>25.9</td>\n",
       "    </tr>\n",
       "    <tr>\n",
       "      <th>47</th>\n",
       "      <td>2013-2014</td>\n",
       "      <td>Victor Moses</td>\n",
       "      <td>0.00</td>\n",
       "      <td>22.7</td>\n",
       "    </tr>\n",
       "    <tr>\n",
       "      <th>48</th>\n",
       "      <td>2013-2014</td>\n",
       "      <td>Luis Alberto</td>\n",
       "      <td>6.80</td>\n",
       "      <td>20.7</td>\n",
       "    </tr>\n",
       "    <tr>\n",
       "      <th>49</th>\n",
       "      <td>2013-2014</td>\n",
       "      <td>Iago Aspas</td>\n",
       "      <td>7.00</td>\n",
       "      <td>25.9</td>\n",
       "    </tr>\n",
       "    <tr>\n",
       "      <th>50</th>\n",
       "      <td>2013-2014</td>\n",
       "      <td>Tiago Ilori</td>\n",
       "      <td>7.00</td>\n",
       "      <td>20.5</td>\n",
       "    </tr>\n",
       "    <tr>\n",
       "      <th>51</th>\n",
       "      <td>2013-2014</td>\n",
       "      <td>Simon Mignolet</td>\n",
       "      <td>9.00</td>\n",
       "      <td>25.3</td>\n",
       "    </tr>\n",
       "    <tr>\n",
       "      <th>52</th>\n",
       "      <td>2013-2014</td>\n",
       "      <td>Mamadou Sakho</td>\n",
       "      <td>15.00</td>\n",
       "      <td>23.6</td>\n",
       "    </tr>\n",
       "    <tr>\n",
       "      <th>60</th>\n",
       "      <td>2014-2015</td>\n",
       "      <td>Javier Manquillo</td>\n",
       "      <td>0.00</td>\n",
       "      <td>20.3</td>\n",
       "    </tr>\n",
       "    <tr>\n",
       "      <th>61</th>\n",
       "      <td>2014-2015</td>\n",
       "      <td>Rickie Lambert</td>\n",
       "      <td>4.50</td>\n",
       "      <td>32.3</td>\n",
       "    </tr>\n",
       "    <tr>\n",
       "      <th>62</th>\n",
       "      <td>2014-2015</td>\n",
       "      <td>Emre Can</td>\n",
       "      <td>9.75</td>\n",
       "      <td>20.5</td>\n",
       "    </tr>\n",
       "    <tr>\n",
       "      <th>63</th>\n",
       "      <td>2014-2015</td>\n",
       "      <td>Divick Origi</td>\n",
       "      <td>9.80</td>\n",
       "      <td>19.3</td>\n",
       "    </tr>\n",
       "    <tr>\n",
       "      <th>64</th>\n",
       "      <td>2014-2015</td>\n",
       "      <td>Alberto Moreno</td>\n",
       "      <td>12.00</td>\n",
       "      <td>22.1</td>\n",
       "    </tr>\n",
       "    <tr>\n",
       "      <th>65</th>\n",
       "      <td>2014-2015</td>\n",
       "      <td>Mario Balotelli</td>\n",
       "      <td>16.00</td>\n",
       "      <td>24.1</td>\n",
       "    </tr>\n",
       "    <tr>\n",
       "      <th>66</th>\n",
       "      <td>2014-2015</td>\n",
       "      <td>Lazar Markovic</td>\n",
       "      <td>19.80</td>\n",
       "      <td>20.4</td>\n",
       "    </tr>\n",
       "    <tr>\n",
       "      <th>67</th>\n",
       "      <td>2014-2015</td>\n",
       "      <td>Dejan Lovren</td>\n",
       "      <td>20.00</td>\n",
       "      <td>25.1</td>\n",
       "    </tr>\n",
       "    <tr>\n",
       "      <th>68</th>\n",
       "      <td>2014-2015</td>\n",
       "      <td>Adam Lallana</td>\n",
       "      <td>25.00</td>\n",
       "      <td>26.2</td>\n",
       "    </tr>\n",
       "    <tr>\n",
       "      <th>78</th>\n",
       "      <td>2015-2016</td>\n",
       "      <td>Adam Bogdan</td>\n",
       "      <td>0.00</td>\n",
       "      <td>27.8</td>\n",
       "    </tr>\n",
       "    <tr>\n",
       "      <th>79</th>\n",
       "      <td>2015-2016</td>\n",
       "      <td>Danny Ings</td>\n",
       "      <td>6.00</td>\n",
       "      <td>23.0</td>\n",
       "    </tr>\n",
       "    <tr>\n",
       "      <th>80</th>\n",
       "      <td>2015-2016</td>\n",
       "      <td>James Milner</td>\n",
       "      <td>0.00</td>\n",
       "      <td>29.5</td>\n",
       "    </tr>\n",
       "    <tr>\n",
       "      <th>81</th>\n",
       "      <td>2015-2016</td>\n",
       "      <td>Joe Gomez</td>\n",
       "      <td>6.00</td>\n",
       "      <td>18.1</td>\n",
       "    </tr>\n",
       "    <tr>\n",
       "      <th>82</th>\n",
       "      <td>2015-2016</td>\n",
       "      <td>Nathaniel Clyne</td>\n",
       "      <td>12.50</td>\n",
       "      <td>24.3</td>\n",
       "    </tr>\n",
       "    <tr>\n",
       "      <th>83</th>\n",
       "      <td>2015-2016</td>\n",
       "      <td>Roberto Firmino</td>\n",
       "      <td>29.00</td>\n",
       "      <td>23.8</td>\n",
       "    </tr>\n",
       "    <tr>\n",
       "      <th>84</th>\n",
       "      <td>2015-2016</td>\n",
       "      <td>Christian Benteke</td>\n",
       "      <td>32.50</td>\n",
       "      <td>24.6</td>\n",
       "    </tr>\n",
       "  </tbody>\n",
       "</table>\n",
       "</div>"
      ],
      "text/plain": [
       "       Season                Player    Fee  AgeAtTransfer\n",
       "0   2010-2011           Luis Suarez  22.80           24.0\n",
       "1   2010-2011          Andy Carroll  35.00           22.1\n",
       "5   2011-2012        Alexander Doni   0.00           31.8\n",
       "6   2011-2012         Craig Bellamy   0.00           32.2\n",
       "7   2011-2012            Jordon Ibe   0.50           16.0\n",
       "8   2011-2012  Joao Carlos Teixeira   0.83           19.0\n",
       "9   2011-2012      Sebastian Coates   4.90           20.9\n",
       "10  2011-2012          Jose Enrique   6.00           25.6\n",
       "11  2011-2012          Charlie Adam   6.75           25.6\n",
       "12  2011-2012      Jordan Henderson  16.00           21.0\n",
       "13  2011-2012       Stewart Downing  18.50           27.0\n",
       "26  2012-2013            Nuri Sahin   0.00           24.0\n",
       "27  2012-2013           Samed Yesil   1.00           18.3\n",
       "28  2012-2013       Oussama Assaidi   3.00           24.0\n",
       "29  2012-2013     Philippe Coutinho   8.50           20.6\n",
       "30  2012-2013          Fabio Borini  10.40           21.3\n",
       "31  2012-2013      Daniel Sturridge  12.00           23.4\n",
       "32  2012-2013             Joe Allen  15.00           22.4\n",
       "45  2013-2014            Kolo Toure   0.00           32.3\n",
       "46  2013-2014          Aly Cissokho   0.00           25.9\n",
       "47  2013-2014          Victor Moses   0.00           22.7\n",
       "48  2013-2014          Luis Alberto   6.80           20.7\n",
       "49  2013-2014            Iago Aspas   7.00           25.9\n",
       "50  2013-2014           Tiago Ilori   7.00           20.5\n",
       "51  2013-2014        Simon Mignolet   9.00           25.3\n",
       "52  2013-2014         Mamadou Sakho  15.00           23.6\n",
       "60  2014-2015      Javier Manquillo   0.00           20.3\n",
       "61  2014-2015        Rickie Lambert   4.50           32.3\n",
       "62  2014-2015              Emre Can   9.75           20.5\n",
       "63  2014-2015          Divick Origi   9.80           19.3\n",
       "64  2014-2015        Alberto Moreno  12.00           22.1\n",
       "65  2014-2015       Mario Balotelli  16.00           24.1\n",
       "66  2014-2015        Lazar Markovic  19.80           20.4\n",
       "67  2014-2015          Dejan Lovren  20.00           25.1\n",
       "68  2014-2015          Adam Lallana  25.00           26.2\n",
       "78  2015-2016           Adam Bogdan   0.00           27.8\n",
       "79  2015-2016            Danny Ings   6.00           23.0\n",
       "80  2015-2016          James Milner   0.00           29.5\n",
       "81  2015-2016             Joe Gomez   6.00           18.1\n",
       "82  2015-2016       Nathaniel Clyne  12.50           24.3\n",
       "83  2015-2016       Roberto Firmino  29.00           23.8\n",
       "84  2015-2016     Christian Benteke  32.50           24.6"
      ]
     },
     "execution_count": 71,
     "metadata": {},
     "output_type": "execute_result"
    }
   ],
   "source": [
    "dflfc_transfers_with_dob[dflfc_transfers_with_dob.Direction == 'In'][['Season', 'Player', 'Fee', 'AgeAtTransfer']]"
   ]
  },
  {
   "cell_type": "markdown",
   "metadata": {},
   "source": [
    "What is average age of team that *finished* againt Arsenal?"
   ]
  },
  {
   "cell_type": "code",
   "execution_count": 71,
   "metadata": {
    "collapsed": false
   },
   "outputs": [
    {
     "data": {
      "text/plain": [
       "(11, 5)"
      ]
     },
     "execution_count": 71,
     "metadata": {},
     "output_type": "execute_result"
    }
   ],
   "source": [
    "LFC_ARSENAL_CSV_FILE = 'data\\lfc_pl_vs_Arsenal_aug2015.csv'\n",
    "dflfc_arsenal = pd.read_csv(LFC_ARSENAL_CSV_FILE, parse_dates=['Date'], skiprows=2)\n",
    "\n",
    "# show shape\n",
    "dflfc_arsenal.shape"
   ]
  },
  {
   "cell_type": "code",
   "execution_count": 72,
   "metadata": {
    "collapsed": false
   },
   "outputs": [
    {
     "data": {
      "text/html": [
       "<div>\n",
       "<table border=\"1\" class=\"dataframe\">\n",
       "  <thead>\n",
       "    <tr style=\"text-align: right;\">\n",
       "      <th></th>\n",
       "      <th>Season</th>\n",
       "      <th>Player</th>\n",
       "      <th>Opposition</th>\n",
       "      <th>Venue</th>\n",
       "      <th>Date</th>\n",
       "      <th>Birthdate</th>\n",
       "    </tr>\n",
       "  </thead>\n",
       "  <tbody>\n",
       "    <tr>\n",
       "      <th>0</th>\n",
       "      <td>2015-2016</td>\n",
       "      <td>Simon Mignolet</td>\n",
       "      <td>Arsenal</td>\n",
       "      <td>Away</td>\n",
       "      <td>2015-08-25</td>\n",
       "      <td>1988-03-06</td>\n",
       "    </tr>\n",
       "    <tr>\n",
       "      <th>1</th>\n",
       "      <td>2015-2016</td>\n",
       "      <td>Nathaniel Clyne</td>\n",
       "      <td>Arsenal</td>\n",
       "      <td>Away</td>\n",
       "      <td>2015-08-25</td>\n",
       "      <td>1991-04-05</td>\n",
       "    </tr>\n",
       "    <tr>\n",
       "      <th>2</th>\n",
       "      <td>2015-2016</td>\n",
       "      <td>Dejan Lovren</td>\n",
       "      <td>Arsenal</td>\n",
       "      <td>Away</td>\n",
       "      <td>2015-08-25</td>\n",
       "      <td>1989-07-05</td>\n",
       "    </tr>\n",
       "    <tr>\n",
       "      <th>3</th>\n",
       "      <td>2015-2016</td>\n",
       "      <td>Joe Gomez</td>\n",
       "      <td>Arsenal</td>\n",
       "      <td>Away</td>\n",
       "      <td>2015-08-25</td>\n",
       "      <td>1997-05-23</td>\n",
       "    </tr>\n",
       "    <tr>\n",
       "      <th>4</th>\n",
       "      <td>2015-2016</td>\n",
       "      <td>Martin Skrtel</td>\n",
       "      <td>Arsenal</td>\n",
       "      <td>Away</td>\n",
       "      <td>2015-08-25</td>\n",
       "      <td>1984-12-15</td>\n",
       "    </tr>\n",
       "    <tr>\n",
       "      <th>5</th>\n",
       "      <td>2015-2016</td>\n",
       "      <td>James Milner</td>\n",
       "      <td>Arsenal</td>\n",
       "      <td>Away</td>\n",
       "      <td>2015-08-25</td>\n",
       "      <td>1986-01-04</td>\n",
       "    </tr>\n",
       "    <tr>\n",
       "      <th>6</th>\n",
       "      <td>2015-2016</td>\n",
       "      <td>Alberto Moreno</td>\n",
       "      <td>Arsenal</td>\n",
       "      <td>Away</td>\n",
       "      <td>2015-08-25</td>\n",
       "      <td>1992-07-05</td>\n",
       "    </tr>\n",
       "    <tr>\n",
       "      <th>7</th>\n",
       "      <td>2015-2016</td>\n",
       "      <td>Jordan Henderson</td>\n",
       "      <td>Arsenal</td>\n",
       "      <td>Away</td>\n",
       "      <td>2015-08-25</td>\n",
       "      <td>1990-06-17</td>\n",
       "    </tr>\n",
       "    <tr>\n",
       "      <th>8</th>\n",
       "      <td>2015-2016</td>\n",
       "      <td>Jordan Rossiter</td>\n",
       "      <td>Arsenal</td>\n",
       "      <td>Away</td>\n",
       "      <td>2015-08-25</td>\n",
       "      <td>1997-03-24</td>\n",
       "    </tr>\n",
       "    <tr>\n",
       "      <th>9</th>\n",
       "      <td>2015-2016</td>\n",
       "      <td>Emre Can</td>\n",
       "      <td>Arsenal</td>\n",
       "      <td>Away</td>\n",
       "      <td>2015-08-25</td>\n",
       "      <td>1994-01-12</td>\n",
       "    </tr>\n",
       "    <tr>\n",
       "      <th>10</th>\n",
       "      <td>2015-2016</td>\n",
       "      <td>Christian Benteke</td>\n",
       "      <td>Arsenal</td>\n",
       "      <td>Away</td>\n",
       "      <td>2015-08-25</td>\n",
       "      <td>1990-12-03</td>\n",
       "    </tr>\n",
       "  </tbody>\n",
       "</table>\n",
       "</div>"
      ],
      "text/plain": [
       "       Season             Player Opposition Venue       Date  Birthdate\n",
       "0   2015-2016     Simon Mignolet    Arsenal  Away 2015-08-25 1988-03-06\n",
       "1   2015-2016    Nathaniel Clyne    Arsenal  Away 2015-08-25 1991-04-05\n",
       "2   2015-2016       Dejan Lovren    Arsenal  Away 2015-08-25 1989-07-05\n",
       "3   2015-2016          Joe Gomez    Arsenal  Away 2015-08-25 1997-05-23\n",
       "4   2015-2016      Martin Skrtel    Arsenal  Away 2015-08-25 1984-12-15\n",
       "5   2015-2016       James Milner    Arsenal  Away 2015-08-25 1986-01-04\n",
       "6   2015-2016     Alberto Moreno    Arsenal  Away 2015-08-25 1992-07-05\n",
       "7   2015-2016   Jordan Henderson    Arsenal  Away 2015-08-25 1990-06-17\n",
       "8   2015-2016    Jordan Rossiter    Arsenal  Away 2015-08-25 1997-03-24\n",
       "9   2015-2016           Emre Can    Arsenal  Away 2015-08-25 1994-01-12\n",
       "10  2015-2016  Christian Benteke    Arsenal  Away 2015-08-25 1990-12-03"
      ]
     },
     "execution_count": 72,
     "metadata": {},
     "output_type": "execute_result"
    }
   ],
   "source": [
    "dflfc_arsenal = pd.merge(dflfc_arsenal, dflfc_players[['Player', 'Birthdate']])\n",
    "dflfc_arsenal"
   ]
  },
  {
   "cell_type": "code",
   "execution_count": 73,
   "metadata": {
    "collapsed": false
   },
   "outputs": [
    {
     "data": {
      "text/html": [
       "<div>\n",
       "<table border=\"1\" class=\"dataframe\">\n",
       "  <thead>\n",
       "    <tr style=\"text-align: right;\">\n",
       "      <th></th>\n",
       "      <th>Season</th>\n",
       "      <th>Player</th>\n",
       "      <th>Opposition</th>\n",
       "      <th>Venue</th>\n",
       "      <th>Date</th>\n",
       "      <th>Birthdate</th>\n",
       "      <th>AgeAtGame</th>\n",
       "    </tr>\n",
       "  </thead>\n",
       "  <tbody>\n",
       "    <tr>\n",
       "      <th>0</th>\n",
       "      <td>2015-2016</td>\n",
       "      <td>Simon Mignolet</td>\n",
       "      <td>Arsenal</td>\n",
       "      <td>Away</td>\n",
       "      <td>2015-08-25</td>\n",
       "      <td>1988-03-06</td>\n",
       "      <td>27.5</td>\n",
       "    </tr>\n",
       "    <tr>\n",
       "      <th>1</th>\n",
       "      <td>2015-2016</td>\n",
       "      <td>Nathaniel Clyne</td>\n",
       "      <td>Arsenal</td>\n",
       "      <td>Away</td>\n",
       "      <td>2015-08-25</td>\n",
       "      <td>1991-04-05</td>\n",
       "      <td>24.4</td>\n",
       "    </tr>\n",
       "    <tr>\n",
       "      <th>2</th>\n",
       "      <td>2015-2016</td>\n",
       "      <td>Dejan Lovren</td>\n",
       "      <td>Arsenal</td>\n",
       "      <td>Away</td>\n",
       "      <td>2015-08-25</td>\n",
       "      <td>1989-07-05</td>\n",
       "      <td>26.2</td>\n",
       "    </tr>\n",
       "    <tr>\n",
       "      <th>3</th>\n",
       "      <td>2015-2016</td>\n",
       "      <td>Joe Gomez</td>\n",
       "      <td>Arsenal</td>\n",
       "      <td>Away</td>\n",
       "      <td>2015-08-25</td>\n",
       "      <td>1997-05-23</td>\n",
       "      <td>18.3</td>\n",
       "    </tr>\n",
       "    <tr>\n",
       "      <th>4</th>\n",
       "      <td>2015-2016</td>\n",
       "      <td>Martin Skrtel</td>\n",
       "      <td>Arsenal</td>\n",
       "      <td>Away</td>\n",
       "      <td>2015-08-25</td>\n",
       "      <td>1984-12-15</td>\n",
       "      <td>30.7</td>\n",
       "    </tr>\n",
       "    <tr>\n",
       "      <th>5</th>\n",
       "      <td>2015-2016</td>\n",
       "      <td>James Milner</td>\n",
       "      <td>Arsenal</td>\n",
       "      <td>Away</td>\n",
       "      <td>2015-08-25</td>\n",
       "      <td>1986-01-04</td>\n",
       "      <td>29.7</td>\n",
       "    </tr>\n",
       "    <tr>\n",
       "      <th>6</th>\n",
       "      <td>2015-2016</td>\n",
       "      <td>Alberto Moreno</td>\n",
       "      <td>Arsenal</td>\n",
       "      <td>Away</td>\n",
       "      <td>2015-08-25</td>\n",
       "      <td>1992-07-05</td>\n",
       "      <td>23.2</td>\n",
       "    </tr>\n",
       "    <tr>\n",
       "      <th>7</th>\n",
       "      <td>2015-2016</td>\n",
       "      <td>Jordan Henderson</td>\n",
       "      <td>Arsenal</td>\n",
       "      <td>Away</td>\n",
       "      <td>2015-08-25</td>\n",
       "      <td>1990-06-17</td>\n",
       "      <td>25.2</td>\n",
       "    </tr>\n",
       "    <tr>\n",
       "      <th>8</th>\n",
       "      <td>2015-2016</td>\n",
       "      <td>Jordan Rossiter</td>\n",
       "      <td>Arsenal</td>\n",
       "      <td>Away</td>\n",
       "      <td>2015-08-25</td>\n",
       "      <td>1997-03-24</td>\n",
       "      <td>18.4</td>\n",
       "    </tr>\n",
       "    <tr>\n",
       "      <th>9</th>\n",
       "      <td>2015-2016</td>\n",
       "      <td>Emre Can</td>\n",
       "      <td>Arsenal</td>\n",
       "      <td>Away</td>\n",
       "      <td>2015-08-25</td>\n",
       "      <td>1994-01-12</td>\n",
       "      <td>21.6</td>\n",
       "    </tr>\n",
       "    <tr>\n",
       "      <th>10</th>\n",
       "      <td>2015-2016</td>\n",
       "      <td>Christian Benteke</td>\n",
       "      <td>Arsenal</td>\n",
       "      <td>Away</td>\n",
       "      <td>2015-08-25</td>\n",
       "      <td>1990-12-03</td>\n",
       "      <td>24.7</td>\n",
       "    </tr>\n",
       "  </tbody>\n",
       "</table>\n",
       "</div>"
      ],
      "text/plain": [
       "       Season             Player Opposition Venue       Date  Birthdate  \\\n",
       "0   2015-2016     Simon Mignolet    Arsenal  Away 2015-08-25 1988-03-06   \n",
       "1   2015-2016    Nathaniel Clyne    Arsenal  Away 2015-08-25 1991-04-05   \n",
       "2   2015-2016       Dejan Lovren    Arsenal  Away 2015-08-25 1989-07-05   \n",
       "3   2015-2016          Joe Gomez    Arsenal  Away 2015-08-25 1997-05-23   \n",
       "4   2015-2016      Martin Skrtel    Arsenal  Away 2015-08-25 1984-12-15   \n",
       "5   2015-2016       James Milner    Arsenal  Away 2015-08-25 1986-01-04   \n",
       "6   2015-2016     Alberto Moreno    Arsenal  Away 2015-08-25 1992-07-05   \n",
       "7   2015-2016   Jordan Henderson    Arsenal  Away 2015-08-25 1990-06-17   \n",
       "8   2015-2016    Jordan Rossiter    Arsenal  Away 2015-08-25 1997-03-24   \n",
       "9   2015-2016           Emre Can    Arsenal  Away 2015-08-25 1994-01-12   \n",
       "10  2015-2016  Christian Benteke    Arsenal  Away 2015-08-25 1990-12-03   \n",
       "\n",
       "    AgeAtGame  \n",
       "0        27.5  \n",
       "1        24.4  \n",
       "2        26.2  \n",
       "3        18.3  \n",
       "4        30.7  \n",
       "5        29.7  \n",
       "6        23.2  \n",
       "7        25.2  \n",
       "8        18.4  \n",
       "9        21.6  \n",
       "10       24.7  "
      ]
     },
     "execution_count": 73,
     "metadata": {},
     "output_type": "execute_result"
    }
   ],
   "source": [
    "dflfc_arsenal['AgeAtGame'] = dflfc_arsenal.apply(lambda row: age_at(row.Birthdate, row.Date), axis=1)\n",
    "dflfc_arsenal"
   ]
  },
  {
   "cell_type": "code",
   "execution_count": 74,
   "metadata": {
    "collapsed": false
   },
   "outputs": [
    {
     "data": {
      "text/plain": [
       "AgeAtGame    24.536364\n",
       "dtype: float64"
      ]
     },
     "execution_count": 74,
     "metadata": {},
     "output_type": "execute_result"
    }
   ],
   "source": [
    "dflfc_arsenal.mean()"
   ]
  },
  {
   "cell_type": "markdown",
   "metadata": {},
   "source": [
    "Compare team wage bills for 2014-15"
   ]
  },
  {
   "cell_type": "code",
   "execution_count": 75,
   "metadata": {
    "collapsed": false
   },
   "outputs": [
    {
     "data": {
      "text/html": [
       "<div>\n",
       "<table border=\"1\" class=\"dataframe\">\n",
       "  <thead>\n",
       "    <tr style=\"text-align: right;\">\n",
       "      <th></th>\n",
       "      <th>Team</th>\n",
       "      <th>2014-2015</th>\n",
       "    </tr>\n",
       "  </thead>\n",
       "  <tbody>\n",
       "    <tr>\n",
       "      <th>0</th>\n",
       "      <td>Manchester United</td>\n",
       "      <td>215.8</td>\n",
       "    </tr>\n",
       "    <tr>\n",
       "      <th>1</th>\n",
       "      <td>Manchester City</td>\n",
       "      <td>205.0</td>\n",
       "    </tr>\n",
       "    <tr>\n",
       "      <th>2</th>\n",
       "      <td>Chelsea</td>\n",
       "      <td>192.7</td>\n",
       "    </tr>\n",
       "    <tr>\n",
       "      <th>3</th>\n",
       "      <td>Arsenal</td>\n",
       "      <td>166.4</td>\n",
       "    </tr>\n",
       "    <tr>\n",
       "      <th>4</th>\n",
       "      <td>Liverpool</td>\n",
       "      <td>144.0</td>\n",
       "    </tr>\n",
       "  </tbody>\n",
       "</table>\n",
       "</div>"
      ],
      "text/plain": [
       "                Team  2014-2015\n",
       "0  Manchester United      215.8\n",
       "1    Manchester City      205.0\n",
       "2            Chelsea      192.7\n",
       "3            Arsenal      166.4\n",
       "4          Liverpool      144.0"
      ]
     },
     "execution_count": 75,
     "metadata": {},
     "output_type": "execute_result"
    }
   ],
   "source": [
    "dfprem_wages[['Team', '2014-2015']].head()"
   ]
  },
  {
   "cell_type": "code",
   "execution_count": 76,
   "metadata": {
    "collapsed": false
   },
   "outputs": [
    {
     "data": {
      "text/html": [
       "<div>\n",
       "<table border=\"1\" class=\"dataframe\">\n",
       "  <thead>\n",
       "    <tr style=\"text-align: right;\">\n",
       "      <th></th>\n",
       "      <th>Team</th>\n",
       "      <th>PTS</th>\n",
       "    </tr>\n",
       "  </thead>\n",
       "  <tbody>\n",
       "    <tr>\n",
       "      <th>0</th>\n",
       "      <td>Chelsea</td>\n",
       "      <td>87</td>\n",
       "    </tr>\n",
       "    <tr>\n",
       "      <th>1</th>\n",
       "      <td>Manchester City</td>\n",
       "      <td>79</td>\n",
       "    </tr>\n",
       "    <tr>\n",
       "      <th>2</th>\n",
       "      <td>Arsenal</td>\n",
       "      <td>75</td>\n",
       "    </tr>\n",
       "    <tr>\n",
       "      <th>3</th>\n",
       "      <td>Manchester United</td>\n",
       "      <td>70</td>\n",
       "    </tr>\n",
       "    <tr>\n",
       "      <th>4</th>\n",
       "      <td>Tottenham Hotspur</td>\n",
       "      <td>64</td>\n",
       "    </tr>\n",
       "  </tbody>\n",
       "</table>\n",
       "</div>"
      ],
      "text/plain": [
       "                Team  PTS\n",
       "0            Chelsea   87\n",
       "1    Manchester City   79\n",
       "2            Arsenal   75\n",
       "3  Manchester United   70\n",
       "4  Tottenham Hotspur   64"
      ]
     },
     "execution_count": 76,
     "metadata": {},
     "output_type": "execute_result"
    }
   ],
   "source": [
    " dfprem_table_2014_2015[['Team', 'PTS']].head()"
   ]
  },
  {
   "cell_type": "code",
   "execution_count": 77,
   "metadata": {
    "collapsed": true
   },
   "outputs": [],
   "source": [
    "dfprem_table_2014_2015_wages = pd.merge(dfprem_table_2014_2015[['Team', 'PTS']], dfprem_wages[['Team', '2014-2015']])"
   ]
  },
  {
   "cell_type": "code",
   "execution_count": 78,
   "metadata": {
    "collapsed": false
   },
   "outputs": [],
   "source": [
    "dfprem_table_2014_2015_wages\n",
    "dfprem_table_2014_2015_wages.rename(columns={'2014-2015': 'WageBill','PTS': 'Points'}, inplace=True)"
   ]
  },
  {
   "cell_type": "code",
   "execution_count": 79,
   "metadata": {
    "collapsed": false,
    "scrolled": true
   },
   "outputs": [
    {
     "data": {
      "text/html": [
       "<div>\n",
       "<table border=\"1\" class=\"dataframe\">\n",
       "  <thead>\n",
       "    <tr style=\"text-align: right;\">\n",
       "      <th></th>\n",
       "      <th>Team</th>\n",
       "      <th>Points</th>\n",
       "      <th>WageBill</th>\n",
       "    </tr>\n",
       "  </thead>\n",
       "  <tbody>\n",
       "    <tr>\n",
       "      <th>0</th>\n",
       "      <td>Chelsea</td>\n",
       "      <td>87</td>\n",
       "      <td>192.7</td>\n",
       "    </tr>\n",
       "    <tr>\n",
       "      <th>1</th>\n",
       "      <td>Manchester City</td>\n",
       "      <td>79</td>\n",
       "      <td>205.0</td>\n",
       "    </tr>\n",
       "    <tr>\n",
       "      <th>2</th>\n",
       "      <td>Arsenal</td>\n",
       "      <td>75</td>\n",
       "      <td>166.4</td>\n",
       "    </tr>\n",
       "    <tr>\n",
       "      <th>3</th>\n",
       "      <td>Manchester United</td>\n",
       "      <td>70</td>\n",
       "      <td>215.8</td>\n",
       "    </tr>\n",
       "    <tr>\n",
       "      <th>4</th>\n",
       "      <td>Tottenham Hotspur</td>\n",
       "      <td>64</td>\n",
       "      <td>100.4</td>\n",
       "    </tr>\n",
       "  </tbody>\n",
       "</table>\n",
       "</div>"
      ],
      "text/plain": [
       "                Team  Points  WageBill\n",
       "0            Chelsea      87     192.7\n",
       "1    Manchester City      79     205.0\n",
       "2            Arsenal      75     166.4\n",
       "3  Manchester United      70     215.8\n",
       "4  Tottenham Hotspur      64     100.4"
      ]
     },
     "execution_count": 79,
     "metadata": {},
     "output_type": "execute_result"
    }
   ],
   "source": [
    "dfprem_table_2014_2015_wages.head()"
   ]
  },
  {
   "cell_type": "code",
   "execution_count": 80,
   "metadata": {
    "collapsed": false
   },
   "outputs": [
    {
     "data": {
      "text/plain": [
       "1"
      ]
     },
     "execution_count": 80,
     "metadata": {},
     "output_type": "execute_result"
    }
   ],
   "source": [
    "dfprem_table_2014_2015.Rank[dfprem_table_2014_2015.Team == 'Chelsea'].values[0]"
   ]
  },
  {
   "cell_type": "code",
   "execution_count": 81,
   "metadata": {
    "collapsed": false
   },
   "outputs": [
    {
     "data": {
      "text/plain": [
       "<matplotlib.axes._subplots.AxesSubplot at 0xd2aa5f8>"
      ]
     },
     "execution_count": 81,
     "metadata": {},
     "output_type": "execute_result"
    },
    {
     "data": {
      "image/png": "[encoded data removed]",
      "text/plain": [
       "<matplotlib.figure.Figure at 0xd578f28>"
      ]
     },
     "metadata": {},
     "output_type": "display_data"
    }
   ],
   "source": [
    "dfprem_table_2014_2015_wages.plot(kind='scatter', x='WageBill', y='Points')"
   ]
  },
  {
   "cell_type": "code",
   "execution_count": 82,
   "metadata": {
    "collapsed": false
   },
   "outputs": [],
   "source": [
    "df = dfprem_table_2014_2015_wages.set_index('Team')"
   ]
  },
  {
   "cell_type": "code",
   "execution_count": 83,
   "metadata": {
    "collapsed": false
   },
   "outputs": [
    {
     "name": "stdout",
     "output_type": "stream",
     "text": [
      "62.0 144.0\n"
     ]
    }
   ],
   "source": [
    "(a,b) = df.ix['Liverpool']\n",
    "print a, b"
   ]
  },
  {
   "cell_type": "code",
   "execution_count": 84,
   "metadata": {
    "collapsed": false
   },
   "outputs": [],
   "source": [
    "# Ref: http://stackoverflow.com/questions/739241/date-ordinal-output\n",
    "def n_plus_suffix(n):\n",
    "    \"\"\"Return n plus the suffix e.g. 1 becomes 1st, 2 becomes 2nd.\"\"\"\n",
    "    assert isinstance(n, (int, long)), '{} is not an integer'.format(n)\n",
    "    \n",
    "    if 10 <= n % 100 < 20:\n",
    "        return str(n) + 'th'\n",
    "    else:\n",
    "       return  str(n) + {1 : 'st', 2 : 'nd', 3 : 'rd'}.get(n % 10, \"th\")"
   ]
  },
  {
   "cell_type": "markdown",
   "metadata": {},
   "source": [
    "Plot Wage Bill vs Points, with Top 6 highlighted (2014-2015)"
   ]
  },
  {
   "cell_type": "code",
   "execution_count": 85,
   "metadata": {
    "collapsed": false
   },
   "outputs": [
    {
     "data": {
      "image/png": "[encoded data removed]",
      "text/plain": [
       "<matplotlib.figure.Figure at 0xd7754a8>"
      ]
     },
     "metadata": {},
     "output_type": "display_data"
    }
   ],
   "source": [
    "# calculate points total for 6th place\n",
    "sixth_place_points = df.iloc[5].Points\n",
    "\n",
    "# plot top 6 as blue circles\n",
    "ax = df[df.Points >= sixth_place_points].plot(kind='scatter', x='WageBill', y='Points', figsize=(12,9), color='b')\n",
    "\n",
    "# plot others as black circles\n",
    "df[df.Points < sixth_place_points].plot(ax=ax, kind='scatter', x='WageBill', y='Points', figsize=(12,9), color='k')\n",
    "\n",
    "# calculate Liverpool's points and plot as red circles\n",
    "lfcpoints, lfcwage = df.ix['Liverpool']\n",
    "ax.plot(lfcwage, lfcpoints, 'ro')\n",
    "\n",
    "# add x and y labels etc\n",
    "ax.set_xlabel('Wage Bill in Pounds (millions)')\n",
    "ax.set_ylabel('Points')\n",
    "ax.set_title('Wage Bill vs Points, with Top 6 highlighted (2014-2015)')\n",
    "ax.text(2, 21, 'prepared by: @lfcsorted', fontsize=9)\n",
    "\n",
    "# add text showing team and position for top 6\n",
    "for team, (points, wagebill) in df.iterrows():\n",
    "    pos = int(dfprem_table_2014_2015.Rank[dfprem_table_2014_2015.Team == team].values[0])\n",
    "    team_pos = '{} ({})'.format(team, n_plus_suffix(pos))\n",
    "    if points >= sixth_place_points:\n",
    "        ax.annotate(s=team_pos, xy=(wagebill,points), xytext=(wagebill-len(team)-3, points+1))"
   ]
  },
  {
   "cell_type": "markdown",
   "metadata": {},
   "source": [
    "Prettify the plot - label all teams and highlight the top 4 and top 6 areas. "
   ]
  },
  {
   "cell_type": "code",
   "execution_count": 86,
   "metadata": {
    "collapsed": false
   },
   "outputs": [
    {
     "data": {
      "text/plain": [
       "array(['Chelsea', 'Manchester City', 'Arsenal', 'Manchester United',\n",
       "       'Tottenham Hotspur', 'Liverpool', 'Southampton', 'Swansea City',\n",
       "       'Stoke City', 'Crystal Palace', 'Everton', 'West Ham United',\n",
       "       'West Bromwich Albion', 'Leicester City', 'Newcastle United',\n",
       "       'Sunderland', 'Aston Villa', 'Hull City', 'Burnley',\n",
       "       'Queens Park Rangers'], dtype=object)"
      ]
     },
     "execution_count": 86,
     "metadata": {},
     "output_type": "execute_result"
    }
   ],
   "source": [
    "# list all of the teams\n",
    "df.index.values"
   ]
  },
  {
   "cell_type": "code",
   "execution_count": 87,
   "metadata": {
    "collapsed": false
   },
   "outputs": [
    {
     "data": {
      "image/png": "[encoded data removed]",
      "text/plain": [
       "<matplotlib.figure.Figure at 0xda72358>"
      ]
     },
     "metadata": {},
     "output_type": "display_data"
    }
   ],
   "source": [
    "# set position of text, default is centred on top of the circle\n",
    "# note that posotionis decided by trial and error, to give clearest plot\n",
    "TEAM_CL = ['Sunderland', 'West Ham United']\n",
    "TEAM_CR = ['Stoke City', 'Aston Villa', 'Everton']\n",
    "TEAM_CT = []\n",
    "for team in df.index.values:\n",
    "    if team not in TEAM_CL + TEAM_CR:\n",
    "        TEAM_CT.append(team)\n",
    "\n",
    "    \n",
    "# calculate points total for 6th place\n",
    "sixth_place_points = df.iloc[5].Points\n",
    "\n",
    "# plot top 6 as blue circles\n",
    "ax = df[df.Points >= sixth_place_points].plot(kind='scatter', x='WageBill', y='Points', figsize=(12,9), color='b')\n",
    "\n",
    "# plot others as black circles\n",
    "df[df.Points < sixth_place_points].plot(ax=ax, kind='scatter', x='WageBill', y='Points', figsize=(12,9), color='k')\n",
    "\n",
    "# calculate Liverpool's points and plot as red circles\n",
    "lfcpoints, lfcwage = df.ix['Liverpool']\n",
    "ax.plot(lfcwage, lfcpoints, 'ro')\n",
    "\n",
    "# add x and y labels etc\n",
    "ax.set_xlabel('Wage Bill in Pounds (millions)')\n",
    "ax.set_ylabel('Points')\n",
    "ax.set_title('Wage Bill vs Points, with Top 6 highlighted (2014-2015)')\n",
    "ax.text(2, 21, 'prepared by: @lfcsorted', fontsize=9)\n",
    "\n",
    "# add text showing team and position\n",
    "for team, (points, wagebill) in df.iterrows():\n",
    "    pos = int(dfprem_table_2014_2015.Rank[dfprem_table_2014_2015.Team == team].values[0])\n",
    "    team_pos = '{} ({})'.format(team, n_plus_suffix(pos))\n",
    "    if team in TEAM_CT:\n",
    "        ax.annotate(s=team_pos, xy=(wagebill,points), xytext=(wagebill-len(team)-3, points+1))\n",
    "    elif team in  TEAM_CR:\n",
    "        #print 'team cr: {}'.format(team)\n",
    "        ax.annotate(s=team_pos, xy=(wagebill,points), xytext=(wagebill+2, points-0.5))\n",
    "    elif team in  TEAM_CL:\n",
    "        #print 'team cl: {}'.format(team)\n",
    "        ax.annotate(s=team_pos, xy=(wagebill,points), xytext=(wagebill-3*len(team)-6, points-0.5))\n",
    "    else:\n",
    "        raise('unexpected error')\n",
    "\n",
    "# add key areas to the graph and label\n",
    "from matplotlib.patches import Rectangle\n",
    "XTEXT_OFFSET = 1\n",
    "YTEXT_OFFSET = -2\n",
    "\n",
    "# add top 4 area, with annotation in top left hand corner of rectangle\n",
    "top4rect_bl_x = df[0:4].WageBill.min() # bottom left x co-ord of rectangle\n",
    "top4rect_bl_y = df[0:4].Points.min() # bottom left y co-ord of rectangle\n",
    "top4rect_width = df[0:4].WageBill.max() - top4rect_bl_x # width of rectangle\n",
    "top4rect_height = df[0:4].Points.max() - top4rect_bl_y # height of rectangle\n",
    "top4rect_tl_x = df[0:4].WageBill.min() # top left x co-ord for annotation\n",
    "top4rect_tl_y = df[0:4].Points.max() # top left y co-ord for annotation\n",
    "top4rect_xtext = top4rect_tl_x + XTEXT_OFFSET # text x co-ord for annotation\n",
    "top4rect_ytext = top4rect_tl_y + YTEXT_OFFSET # text y co-ord for annotation\n",
    "ax.add_patch(Rectangle((top4rect_bl_x, top4rect_bl_y), top4rect_width, top4rect_height, facecolor=\"blue\", alpha=0.2))\n",
    "ax.annotate(s='Top 4 area', xy=(top4rect_tl_x, top4rect_tl_y), xytext=(top4rect_xtext, top4rect_ytext), color='blue')\n",
    "\n",
    "# add top 6 area, with annotation in top left hand corner of rectangle\n",
    "top6rect_bl_x = df[0:6].WageBill.min() # bottom left x co-ord of rectangle\n",
    "top6rect_bl_y = df[0:6].Points.min() # bottom left y co-ord of rectangle\n",
    "top6rect_width = df[0:6].WageBill.max() - top6rect_bl_x # width of rectangle\n",
    "top6rect_height = df[0:6].Points.max() - top6rect_bl_y # height of rectangle\n",
    "top6rect_tl_x = df[0:6].WageBill.min() # top left x co-ord for annotation\n",
    "top6rect_tl_y = df[0:6].Points.max() # top left y co-ord for annotation\n",
    "top6rect_xtext = top6rect_tl_x + XTEXT_OFFSET # text x co-ord for annotation\n",
    "top6rect_ytext = top6rect_tl_y + YTEXT_OFFSET # text y co-ord for annotation\n",
    "ax.add_patch(Rectangle((top6rect_bl_x, top6rect_bl_y), top6rect_width, top6rect_height, facecolor=\"lightblue\", alpha=0.2))\n",
    "ax.annotate(s='Top 6 area', xy=(top6rect_tl_x, top6rect_tl_y), xytext=(top6rect_xtext, top6rect_ytext), color='blue', alpha=0.7)\n",
    "\n",
    "# plot and save current figure\n",
    "fig = plt.gcf() \n",
    "plt.show()\n",
    "fig.savefig('PremWageBillvsPoints2014-2015.png', bbox_inches='tight')"
   ]
  },
  {
   "cell_type": "code",
   "execution_count": null,
   "metadata": {
    "collapsed": true
   },
   "outputs": [],
   "source": []
  }
 ],
 "metadata": {
  "kernelspec": {
   "display_name": "Python 2",
   "language": "python",
   "name": "python2"
  },
  "language_info": {
   "codemirror_mode": {
    "name": "ipython",
    "version": 2
   },
   "file_extension": ".py",
   "mimetype": "text/x-python",
   "name": "python",
   "nbconvert_exporter": "python",
   "pygments_lexer": "ipython2",
   "version": "2.7.8"
  }
 },
 "nbformat": 4,
 "nbformat_minor": 0
}
